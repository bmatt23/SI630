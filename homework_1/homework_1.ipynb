{
 "cells": [
  {
   "cell_type": "code",
   "execution_count": 55,
   "metadata": {},
   "outputs": [],
   "source": [
    "import pandas as pd\n",
    "import numpy as np\n",
    "import regex as re\n",
    "from tqdm import tqdm\n",
    "import functools\n",
    "import operator\n",
    "import math\n",
    "import nltk\n",
    "from nltk.corpus import stopwords\n",
    "from collections import Counter, defaultdict\n",
    "from scipy.sparse import dok_matrix\n",
    "import matplotlib.pyplot as plt\n",
    "import seaborn as sns\n",
    "from sklearn.metrics import f1_score\n",
    "import torch\n",
    "import torch.nn as nn\n",
    "import torch.nn.functional as F\n",
    "import torch.optim as optim\n"
   ]
  },
  {
   "cell_type": "code",
   "execution_count": 4,
   "metadata": {},
   "outputs": [],
   "source": [
    "def tokenize(words):\n",
    "    '''Takes in a string and tokenizes it by whitespace,\n",
    "and returns a list of tokens.\n",
    "    '''\n",
    "    return words.split(' ')"
   ]
  },
  {
   "cell_type": "code",
   "execution_count": 5,
   "metadata": {},
   "outputs": [
    {
     "data": {
      "text/plain": [
       "['hi', 'i', 'am', 'brendan']"
      ]
     },
     "execution_count": 5,
     "metadata": {},
     "output_type": "execute_result"
    }
   ],
   "source": [
    "# A test of our first function\n",
    "tokenize('hi i am brendan')"
   ]
  },
  {
   "attachments": {},
   "cell_type": "markdown",
   "metadata": {},
   "source": [
    "It looks like it would work for simple sentences, but having different punctuations and cases would be a tough look. Let's see if it would fail with the sentence \"Good, that is good.\""
   ]
  },
  {
   "cell_type": "code",
   "execution_count": 6,
   "metadata": {},
   "outputs": [
    {
     "data": {
      "text/plain": [
       "['Good,', 'I', 'am', 'good.']"
      ]
     },
     "execution_count": 6,
     "metadata": {},
     "output_type": "execute_result"
    }
   ],
   "source": [
    "tokenize('Good, I am good.')"
   ]
  },
  {
   "attachments": {},
   "cell_type": "markdown",
   "metadata": {},
   "source": [
    "Issues are capitalization and punctuation. Let's try to fix those in the tokenize.better function. Also, we want to keep apostrophes because of possible possessive words and contractions. Also, removing stop words might be important because those don't contribute to our analysis at all! "
   ]
  },
  {
   "cell_type": "code",
   "execution_count": 7,
   "metadata": {},
   "outputs": [],
   "source": [
    "def better_tokenize(words):\n",
    "    '''\n",
    "    The difference here is that I am using regex to get rid of all punctuation,\n",
    "    except apostrophe and then making everything lowercase. \n",
    "    Only then can I split based on the whitespace. Basically the \n",
    "    regex says sub everything that's not whitespace\n",
    "    and alphanumeric or apostrophe with nothing. Then drop stop words\n",
    "    '''\n",
    "    stopper = stopwords.words('english')\n",
    "    words = re.sub(r\"[^\\w\\d'\\s]\", '', words ).lower().split(' ')\n",
    "    return [word for word in words if word not in stopper]\n",
    "    \n"
   ]
  },
  {
   "attachments": {},
   "cell_type": "markdown",
   "metadata": {},
   "source": [
    "Now to test it on the first line of the bee movie for fun"
   ]
  },
  {
   "cell_type": "code",
   "execution_count": 8,
   "metadata": {},
   "outputs": [
    {
     "data": {
      "text/plain": [
       "['according', 'known', 'laws', 'aviation', 'way', 'bee', 'able', 'fly']"
      ]
     },
     "execution_count": 8,
     "metadata": {},
     "output_type": "execute_result"
    }
   ],
   "source": [
    "better_tokenize(\"According to all known laws of aviation, there is no way a bee should be able to fly.\")"
   ]
  },
  {
   "attachments": {},
   "cell_type": "markdown",
   "metadata": {},
   "source": [
    "Looks like it works, it took the important words out of that phrase!"
   ]
  },
  {
   "cell_type": "code",
   "execution_count": null,
   "metadata": {},
   "outputs": [],
   "source": []
  },
  {
   "attachments": {},
   "cell_type": "markdown",
   "metadata": {},
   "source": [
    "Time to make the Scipy Sparse Matrix!"
   ]
  },
  {
   "cell_type": "code",
   "execution_count": 9,
   "metadata": {},
   "outputs": [],
   "source": [
    "practice_str = \"My Name is Brendan, and I am a person, a person who knows his name\"\n",
    "# so basically, if the sparse matrix has min freq of 2, we should see \n",
    "# person and name in our sparse matrix."
   ]
  },
  {
   "attachments": {},
   "cell_type": "markdown",
   "metadata": {},
   "source": [
    "It might be useful to use our tokenize function here to parse this sentence"
   ]
  },
  {
   "cell_type": "code",
   "execution_count": 10,
   "metadata": {},
   "outputs": [
    {
     "data": {
      "text/plain": [
       "['name', 'brendan', 'person', 'person', 'knows', 'name']"
      ]
     },
     "execution_count": 10,
     "metadata": {},
     "output_type": "execute_result"
    }
   ],
   "source": [
    "better_tokenize(practice_str)"
   ]
  },
  {
   "attachments": {},
   "cell_type": "markdown",
   "metadata": {},
   "source": [
    "So we can see that this picked up on name and person, as we predicted"
   ]
  },
  {
   "attachments": {},
   "cell_type": "markdown",
   "metadata": {},
   "source": [
    "Now, to use the Counter functionality to count how much a specific word occurs"
   ]
  },
  {
   "cell_type": "code",
   "execution_count": 11,
   "metadata": {},
   "outputs": [
    {
     "data": {
      "text/plain": [
       "Counter({'name': 2, 'brendan': 1, 'person': 2, 'knows': 1})"
      ]
     },
     "execution_count": 11,
     "metadata": {},
     "output_type": "execute_result"
    }
   ],
   "source": [
    "Counter(better_tokenize(practice_str))"
   ]
  },
  {
   "attachments": {},
   "cell_type": "markdown",
   "metadata": {},
   "source": [
    "Since the code only wants occurences of 2+, let's just keep those"
   ]
  },
  {
   "cell_type": "code",
   "execution_count": 12,
   "metadata": {},
   "outputs": [
    {
     "data": {
      "text/plain": [
       "2"
      ]
     },
     "execution_count": 12,
     "metadata": {},
     "output_type": "execute_result"
    }
   ],
   "source": [
    "Counter(better_tokenize(practice_str))['name']"
   ]
  },
  {
   "cell_type": "code",
   "execution_count": 13,
   "metadata": {},
   "outputs": [
    {
     "data": {
      "text/plain": [
       "Counter({'name': 2, 'brendan': 1, 'person': 2, 'knows': 1})"
      ]
     },
     "execution_count": 13,
     "metadata": {},
     "output_type": "execute_result"
    }
   ],
   "source": [
    "Counter(better_tokenize(practice_str))"
   ]
  },
  {
   "cell_type": "code",
   "execution_count": 14,
   "metadata": {},
   "outputs": [],
   "source": [
    "counts = defaultdict(int)\n",
    "wordcounts = Counter(better_tokenize(practice_str))\n",
    "for word in set(wordcounts):\n",
    "    if wordcounts[word] >= 2:\n",
    "        counts[word] += wordcounts[word]"
   ]
  },
  {
   "cell_type": "code",
   "execution_count": 15,
   "metadata": {},
   "outputs": [
    {
     "data": {
      "text/html": [
       "<div>\n",
       "<style scoped>\n",
       "    .dataframe tbody tr th:only-of-type {\n",
       "        vertical-align: middle;\n",
       "    }\n",
       "\n",
       "    .dataframe tbody tr th {\n",
       "        vertical-align: top;\n",
       "    }\n",
       "\n",
       "    .dataframe thead th {\n",
       "        text-align: right;\n",
       "    }\n",
       "</style>\n",
       "<table border=\"1\" class=\"dataframe\">\n",
       "  <thead>\n",
       "    <tr style=\"text-align: right;\">\n",
       "      <th></th>\n",
       "      <th>text</th>\n",
       "      <th>sarcastic</th>\n",
       "    </tr>\n",
       "  </thead>\n",
       "  <tbody>\n",
       "    <tr>\n",
       "      <th>0</th>\n",
       "      <td>[thing, got, college, caffeine, addiction]</td>\n",
       "      <td>1</td>\n",
       "    </tr>\n",
       "    <tr>\n",
       "      <th>1</th>\n",
       "      <td>[love, professors, draw, big, question, mark, ...</td>\n",
       "      <td>1</td>\n",
       "    </tr>\n",
       "    <tr>\n",
       "      <th>2</th>\n",
       "      <td>[remember, hundred, emails, companies, covid, ...</td>\n",
       "      <td>1</td>\n",
       "    </tr>\n",
       "    <tr>\n",
       "      <th>3</th>\n",
       "      <td>[today, poppop, told, forced, go, college, , o...</td>\n",
       "      <td>1</td>\n",
       "    </tr>\n",
       "    <tr>\n",
       "      <th>4</th>\n",
       "      <td>[volphancarol, littlewhitty, mysticalmanatee, ...</td>\n",
       "      <td>1</td>\n",
       "    </tr>\n",
       "    <tr>\n",
       "      <th>...</th>\n",
       "      <td>...</td>\n",
       "      <td>...</td>\n",
       "    </tr>\n",
       "    <tr>\n",
       "      <th>3462</th>\n",
       "      <td>[population, spike, chicago, 9, months, ridicu...</td>\n",
       "      <td>0</td>\n",
       "    </tr>\n",
       "    <tr>\n",
       "      <th>3463</th>\n",
       "      <td>[think, second, last, english, class, year, pr...</td>\n",
       "      <td>0</td>\n",
       "    </tr>\n",
       "    <tr>\n",
       "      <th>3464</th>\n",
       "      <td>[im, finally, surfacing, holiday, scotland, di...</td>\n",
       "      <td>0</td>\n",
       "    </tr>\n",
       "    <tr>\n",
       "      <th>3465</th>\n",
       "      <td>[prouder, today, well, done, every, student, g...</td>\n",
       "      <td>0</td>\n",
       "    </tr>\n",
       "    <tr>\n",
       "      <th>3466</th>\n",
       "      <td>[overheard, 13, year, old, games, friend, 'you...</td>\n",
       "      <td>0</td>\n",
       "    </tr>\n",
       "  </tbody>\n",
       "</table>\n",
       "<p>3467 rows × 2 columns</p>\n",
       "</div>"
      ],
      "text/plain": [
       "                                                   text  sarcastic\n",
       "0            [thing, got, college, caffeine, addiction]          1\n",
       "1     [love, professors, draw, big, question, mark, ...          1\n",
       "2     [remember, hundred, emails, companies, covid, ...          1\n",
       "3     [today, poppop, told, forced, go, college, , o...          1\n",
       "4     [volphancarol, littlewhitty, mysticalmanatee, ...          1\n",
       "...                                                 ...        ...\n",
       "3462  [population, spike, chicago, 9, months, ridicu...          0\n",
       "3463  [think, second, last, english, class, year, pr...          0\n",
       "3464  [im, finally, surfacing, holiday, scotland, di...          0\n",
       "3465  [prouder, today, well, done, every, student, g...          0\n",
       "3466  [overheard, 13, year, old, games, friend, 'you...          0\n",
       "\n",
       "[3467 rows x 2 columns]"
      ]
     },
     "execution_count": 15,
     "metadata": {},
     "output_type": "execute_result"
    }
   ],
   "source": [
    "train = pd.read_csv('si630w23-hw1.train.csv')\n",
    "train.text = train.text.apply(better_tokenize)\n",
    "train"
   ]
  },
  {
   "attachments": {},
   "cell_type": "markdown",
   "metadata": {},
   "source": [
    "Generate a list of unique words in the training set for our vocab"
   ]
  },
  {
   "cell_type": "code",
   "execution_count": 16,
   "metadata": {},
   "outputs": [
    {
     "data": {
      "text/plain": [
       "37174"
      ]
     },
     "execution_count": 16,
     "metadata": {},
     "output_type": "execute_result"
    }
   ],
   "source": [
    "train_vocab_all = functools.reduce(operator.iconcat, \n",
    "                list(train['text']), [])\n",
    "len(train_vocab_all)"
   ]
  },
  {
   "cell_type": "code",
   "execution_count": 409,
   "metadata": {},
   "outputs": [
    {
     "data": {
      "text/plain": [
       "3844"
      ]
     },
     "execution_count": 409,
     "metadata": {},
     "output_type": "execute_result"
    }
   ],
   "source": [
    "c = Counter(train_vocab_all)\n",
    "to_remove = {x for x, i in c.items() if i < 2}\n",
    "train_vocab = list(set(train_vocab_all) - to_remove)\n",
    "len(train_vocab)"
   ]
  },
  {
   "cell_type": "code",
   "execution_count": 18,
   "metadata": {},
   "outputs": [
    {
     "name": "stderr",
     "output_type": "stream",
     "text": [
      "100%|██████████| 3467/3467 [00:03<00:00, 1058.49it/s]\n"
     ]
    }
   ],
   "source": [
    "S = dok_matrix((len(train), len(train_vocab)+1), dtype=int)\n",
    "\n",
    "for i in tqdm(range(len(train))):\n",
    "    #get the text for specific row\n",
    "    text_set = set(train.text.loc[i])\n",
    "\n",
    "    for j in range(len(train_vocab)):\n",
    "\n",
    "        word = train_vocab[j]\n",
    "        if word in text_set:\n",
    "\n",
    "            S[i, j] += 1    # Update element\n",
    "    # add bias term\n",
    "    S[i,len(train_vocab)] += 1"
   ]
  },
  {
   "attachments": {},
   "cell_type": "markdown",
   "metadata": {},
   "source": [
    "How many items in our matrix are ones?"
   ]
  },
  {
   "cell_type": "code",
   "execution_count": 19,
   "metadata": {},
   "outputs": [
    {
     "data": {
      "text/plain": [
       "32211"
      ]
     },
     "execution_count": 19,
     "metadata": {},
     "output_type": "execute_result"
    }
   ],
   "source": [
    "S.sum()"
   ]
  },
  {
   "cell_type": "code",
   "execution_count": 20,
   "metadata": {},
   "outputs": [
    {
     "data": {
      "text/plain": [
       "0.002416946221352085"
      ]
     },
     "execution_count": 20,
     "metadata": {},
     "output_type": "execute_result"
    }
   ],
   "source": [
    "S.sum()/(len(train)*len(train_vocab))"
   ]
  },
  {
   "attachments": {},
   "cell_type": "markdown",
   "metadata": {},
   "source": [
    "** Part 2 **"
   ]
  },
  {
   "cell_type": "code",
   "execution_count": 21,
   "metadata": {},
   "outputs": [],
   "source": [
    "def sigmoid(X):\n",
    "    return 1/(1+math.e**(-X))"
   ]
  },
  {
   "attachments": {},
   "cell_type": "markdown",
   "metadata": {},
   "source": [
    "Putting it all together, write a function logistic regression that takes in a\n",
    "– a matrix X where each row is a vector that has the features for that instance\n",
    "– a vector Y containing the class of the row\n",
    "– learning rate which is a parameter to control how much you change the β values\n",
    "each step\n",
    "– num step how many steps to update β before stopping"
   ]
  },
  {
   "cell_type": "code",
   "execution_count": 23,
   "metadata": {},
   "outputs": [
    {
     "data": {
      "text/plain": [
       "3845"
      ]
     },
     "execution_count": 23,
     "metadata": {},
     "output_type": "execute_result"
    }
   ],
   "source": [
    "S.shape[1]"
   ]
  },
  {
   "attachments": {},
   "cell_type": "markdown",
   "metadata": {},
   "source": [
    "From the scatterplot, it looks like it is consistenly moving in the right direction!"
   ]
  },
  {
   "attachments": {},
   "cell_type": "markdown",
   "metadata": {},
   "source": [
    "We can see that the model is inching towards the right direction -- the log likelihood is increasing every time. Now what if we try a stronger learning rate?"
   ]
  },
  {
   "cell_type": "code",
   "execution_count": 121,
   "metadata": {},
   "outputs": [],
   "source": [
    "#version 2 (so far)\n",
    "\n",
    "\n",
    "def log_likelihood_2(betas, data, is_sarcastic):\n",
    "    dot_product = data @ betas\n",
    "    # is_sarcastic is a vector with all the predictions\n",
    "    #data.T * (is_sarcastic - sigmoid(dot_product))\n",
    "    #multiply out to get a vector?\n",
    "    # sum of the vector\n",
    "    return sum(data.T * (is_sarcastic - sigmoid(data @ betas)))\n",
    "\n",
    "def compute_gradient_2(beta, xrow, truelabel):\n",
    "    dot_product = xrow @ beta\n",
    "    prediction = sigmoid(dot_product)\n",
    "    return (truelabel - prediction) * xrow\n",
    "    #scalar for direction for mistake, xrow how to change feature values\n",
    "\n",
    "\n",
    "def logisitic_regression_2(X, Y, learning_rate, num_step):\n",
    "    list_of_likelihoods = []\n",
    "    # establish betas as vector of zeros\n",
    "    betas = np.random.rand(X.shape[1])\n",
    "\n",
    "    #run this loop\n",
    "    for i in tqdm(range(num_step)):\n",
    "        #pick a random row\n",
    "        index = np.random.randint(X.shape[0])\n",
    "\n",
    "        #get the classification value from our Y\n",
    "        classification = Y[index]\n",
    "\n",
    "        loglikelihood = log_likelihood_2(betas,X, train.sarcastic)\n",
    "        gradient = compute_gradient_2(betas,X[index], classification)\n",
    "\n",
    "        #betas_to_change = [j for i,j in list(X[0].keys())]\n",
    "\n",
    "        list_of_likelihoods.append(loglikelihood)\n",
    "\n",
    "        \n",
    "        betas += (learning_rate * gradient)\n",
    "\n",
    "    return betas, list_of_likelihoods   \n"
   ]
  },
  {
   "cell_type": "code",
   "execution_count": 120,
   "metadata": {},
   "outputs": [
    {
     "data": {
      "text/plain": [
       "array([0.04214918, 0.20084244, 0.41348536, ..., 0.6339651 , 0.8501566 ,\n",
       "       0.44089808])"
      ]
     },
     "execution_count": 120,
     "metadata": {},
     "output_type": "execute_result"
    }
   ],
   "source": [
    "np.random.rand(S.shape[1])"
   ]
  },
  {
   "cell_type": "code",
   "execution_count": 122,
   "metadata": {},
   "outputs": [
    {
     "name": "stderr",
     "output_type": "stream",
     "text": [
      "100%|██████████| 1000/1000 [00:58<00:00, 17.11it/s]\n"
     ]
    },
    {
     "data": {
      "text/plain": [
       "(array([0.87293061, 0.29633658, 0.02919041, ..., 0.5713144 , 0.99217158,\n",
       "        0.66163122]),\n",
       " [-23683.98987356017,\n",
       "  -23683.98990783441,\n",
       "  -23683.963990494285,\n",
       "  -23683.935550288363,\n",
       "  -23683.91026020764,\n",
       "  -23683.884244831672,\n",
       "  -23683.858881135002,\n",
       "  -23683.860230421986,\n",
       "  -23683.836433271717,\n",
       "  -23683.8109757681,\n",
       "  -23683.785944604555,\n",
       "  -23683.78594526189,\n",
       "  -23683.78786088028,\n",
       "  -23683.76249298192,\n",
       "  -23683.762575093984,\n",
       "  -23683.73184529952,\n",
       "  -23683.706240717707,\n",
       "  -23683.68276327817,\n",
       "  -23683.6835943895,\n",
       "  -23683.68361409432,\n",
       "  -23683.685121584418,\n",
       "  -23683.686436203214,\n",
       "  -23683.663607088085,\n",
       "  -23683.635423375596,\n",
       "  -23683.607442514152,\n",
       "  -23683.581596516124,\n",
       "  -23683.555830055284,\n",
       "  -23683.529527614563,\n",
       "  -23683.529727236284,\n",
       "  -23683.502533678813,\n",
       "  -23683.473503221678,\n",
       "  -23683.475578903992,\n",
       "  -23683.44979629621,\n",
       "  -23683.42380255166,\n",
       "  -23683.423812806923,\n",
       "  -23683.394611130007,\n",
       "  -23683.368795988765,\n",
       "  -23683.36892391192,\n",
       "  -23683.368971326137,\n",
       "  -23683.343977628,\n",
       "  -23683.344416851753,\n",
       "  -23683.320462518386,\n",
       "  -23683.293174352402,\n",
       "  -23683.26893582833,\n",
       "  -23683.24987143099,\n",
       "  -23683.225418035545,\n",
       "  -23683.198006946946,\n",
       "  -23683.172521327662,\n",
       "  -23683.142836920386,\n",
       "  -23683.11512139638,\n",
       "  -23683.09018242499,\n",
       "  -23683.060103813747,\n",
       "  -23683.03600752597,\n",
       "  -23683.04002733788,\n",
       "  -23683.013310844966,\n",
       "  -23682.98898633548,\n",
       "  -23682.968278299493,\n",
       "  -23682.94164634381,\n",
       "  -23682.9422383751,\n",
       "  -23682.919589502402,\n",
       "  -23682.92152953476,\n",
       "  -23682.895422864593,\n",
       "  -23682.870338828106,\n",
       "  -23682.844744283993,\n",
       "  -23682.84485006114,\n",
       "  -23682.844910161093,\n",
       "  -23682.818939697245,\n",
       "  -23682.818995230624,\n",
       "  -23682.82278400413,\n",
       "  -23682.822791255232,\n",
       "  -23682.796325643645,\n",
       "  -23682.767811808528,\n",
       "  -23682.767812002043,\n",
       "  -23682.746929027962,\n",
       "  -23682.719291779787,\n",
       "  -23682.694622080806,\n",
       "  -23682.66560563142,\n",
       "  -23682.638603819065,\n",
       "  -23682.60804861829,\n",
       "  -23682.609758695187,\n",
       "  -23682.581560357492,\n",
       "  -23682.581606446278,\n",
       "  -23682.553773172105,\n",
       "  -23682.527236283782,\n",
       "  -23682.52730376932,\n",
       "  -23682.501652079995,\n",
       "  -23682.501656204935,\n",
       "  -23682.47622869787,\n",
       "  -23682.451071199113,\n",
       "  -23682.4258655739,\n",
       "  -23682.401897314372,\n",
       "  -23682.376343828055,\n",
       "  -23682.34938948296,\n",
       "  -23682.34940846174,\n",
       "  -23682.324349905914,\n",
       "  -23682.298585822697,\n",
       "  -23682.269376773736,\n",
       "  -23682.244323804258,\n",
       "  -23682.21863266254,\n",
       "  -23682.191562038475,\n",
       "  -23682.163753733148,\n",
       "  -23682.14103211671,\n",
       "  -23682.114905214945,\n",
       "  -23682.0905921032,\n",
       "  -23682.064039754187,\n",
       "  -23682.03809695818,\n",
       "  -23682.010781322715,\n",
       "  -23681.990974010863,\n",
       "  -23681.965657119617,\n",
       "  -23681.965853218433,\n",
       "  -23681.940593534546,\n",
       "  -23681.920680768486,\n",
       "  -23681.894943177627,\n",
       "  -23681.86734828697,\n",
       "  -23681.86823925015,\n",
       "  -23681.83917560746,\n",
       "  -23681.811546294288,\n",
       "  -23681.813047493095,\n",
       "  -23681.786874007703,\n",
       "  -23681.760368201663,\n",
       "  -23681.760478023814,\n",
       "  -23681.732533923223,\n",
       "  -23681.706041067504,\n",
       "  -23681.706141860832,\n",
       "  -23681.680256437117,\n",
       "  -23681.65489275928,\n",
       "  -23681.628257971228,\n",
       "  -23681.605796676136,\n",
       "  -23681.605914930828,\n",
       "  -23681.588040508388,\n",
       "  -23681.563245737856,\n",
       "  -23681.53465035404,\n",
       "  -23681.50987115436,\n",
       "  -23681.48349703981,\n",
       "  -23681.456271442003,\n",
       "  -23681.456339234395,\n",
       "  -23681.430167945888,\n",
       "  -23681.404164270178,\n",
       "  -23681.381807930484,\n",
       "  -23681.355990658267,\n",
       "  -23681.327616095783,\n",
       "  -23681.301798613044,\n",
       "  -23681.302567189872,\n",
       "  -23681.27817592327,\n",
       "  -23681.255807549816,\n",
       "  -23681.230551917553,\n",
       "  -23681.207481563688,\n",
       "  -23681.180826885604,\n",
       "  -23681.152169308123,\n",
       "  -23681.124785488482,\n",
       "  -23681.12492814724,\n",
       "  -23681.10134674182,\n",
       "  -23681.101471342474,\n",
       "  -23681.07683366201,\n",
       "  -23681.056910854157,\n",
       "  -23681.031124428617,\n",
       "  -23681.00793731863,\n",
       "  -23680.98390027295,\n",
       "  -23680.956933749425,\n",
       "  -23680.956934074937,\n",
       "  -23680.930722262903,\n",
       "  -23680.90184675019,\n",
       "  -23680.872604876866,\n",
       "  -23680.844868686127,\n",
       "  -23680.8201968738,\n",
       "  -23680.790923516488,\n",
       "  -23680.76572155139,\n",
       "  -23680.7402709375,\n",
       "  -23680.715314609875,\n",
       "  -23680.716015433856,\n",
       "  -23680.694689387685,\n",
       "  -23680.669239423307,\n",
       "  -23680.64308200977,\n",
       "  -23680.61894284858,\n",
       "  -23680.619210553927,\n",
       "  -23680.619751403894,\n",
       "  -23680.591918307946,\n",
       "  -23680.565353480768,\n",
       "  -23680.54072266994,\n",
       "  -23680.51325711516,\n",
       "  -23680.485418934266,\n",
       "  -23680.460439552095,\n",
       "  -23680.460476559107,\n",
       "  -23680.43569132492,\n",
       "  -23680.435704506363,\n",
       "  -23680.40863171631,\n",
       "  -23680.381994991443,\n",
       "  -23680.382197848703,\n",
       "  -23680.35276267043,\n",
       "  -23680.32677753768,\n",
       "  -23680.30023646869,\n",
       "  -23680.278470606383,\n",
       "  -23680.25838829648,\n",
       "  -23680.23371553806,\n",
       "  -23680.208818827505,\n",
       "  -23680.182173387377,\n",
       "  -23680.15632139191,\n",
       "  -23680.132002211853,\n",
       "  -23680.105926757657,\n",
       "  -23680.075447456315,\n",
       "  -23680.075447478237,\n",
       "  -23680.07759277067,\n",
       "  -23680.047871240644,\n",
       "  -23680.031463738953,\n",
       "  -23680.006099419825,\n",
       "  -23679.979720197764,\n",
       "  -23679.955077824594,\n",
       "  -23679.9298263321,\n",
       "  -23679.910032333824,\n",
       "  -23679.88387934351,\n",
       "  -23679.8581630788,\n",
       "  -23679.858391587448,\n",
       "  -23679.83192963287,\n",
       "  -23679.8051178179,\n",
       "  -23679.77468938117,\n",
       "  -23679.774757657786,\n",
       "  -23679.775944703,\n",
       "  -23679.750427747393,\n",
       "  -23679.75057656566,\n",
       "  -23679.72551251517,\n",
       "  -23679.699711916957,\n",
       "  -23679.67419871497,\n",
       "  -23679.649142018872,\n",
       "  -23679.626379704427,\n",
       "  -23679.601079757856,\n",
       "  -23679.57599205215,\n",
       "  -23679.57666093987,\n",
       "  -23679.576839725087,\n",
       "  -23679.550100311124,\n",
       "  -23679.521881275752,\n",
       "  -23679.5219269213,\n",
       "  -23679.49599493704,\n",
       "  -23679.496582534237,\n",
       "  -23679.47213527578,\n",
       "  -23679.446763164597,\n",
       "  -23679.42064237937,\n",
       "  -23679.39556906482,\n",
       "  -23679.375503081577,\n",
       "  -23679.349880241592,\n",
       "  -23679.326917707793,\n",
       "  -23679.3027061116,\n",
       "  -23679.279779946046,\n",
       "  -23679.253974838284,\n",
       "  -23679.229058965375,\n",
       "  -23679.230712788216,\n",
       "  -23679.23155725091,\n",
       "  -23679.231646437674,\n",
       "  -23679.206079554013,\n",
       "  -23679.181135742703,\n",
       "  -23679.15215163605,\n",
       "  -23679.1268722199,\n",
       "  -23679.130287609576,\n",
       "  -23679.130816647394,\n",
       "  -23679.10164388337,\n",
       "  -23679.075953793075,\n",
       "  -23679.050974161477,\n",
       "  -23679.0276489603,\n",
       "  -23679.000235826585,\n",
       "  -23678.981834339636,\n",
       "  -23678.958176507753,\n",
       "  -23678.932561296984,\n",
       "  -23678.907928191646,\n",
       "  -23678.882945213045,\n",
       "  -23678.857492884516,\n",
       "  -23678.85795531711,\n",
       "  -23678.831181248755,\n",
       "  -23678.804989654163,\n",
       "  -23678.779693999648,\n",
       "  -23678.757553977335,\n",
       "  -23678.731877738493,\n",
       "  -23678.705596591353,\n",
       "  -23678.705598431065,\n",
       "  -23678.681504497814,\n",
       "  -23678.656076600026,\n",
       "  -23678.657208868102,\n",
       "  -23678.657218420914,\n",
       "  -23678.631268872832,\n",
       "  -23678.631270552673,\n",
       "  -23678.60746608722,\n",
       "  -23678.581564574455,\n",
       "  -23678.555319046252,\n",
       "  -23678.557153658938,\n",
       "  -23678.531155933066,\n",
       "  -23678.531381534274,\n",
       "  -23678.505118255132,\n",
       "  -23678.480415609523,\n",
       "  -23678.45175160558,\n",
       "  -23678.429834798648,\n",
       "  -23678.404789168737,\n",
       "  -23678.379997259268,\n",
       "  -23678.3799973625,\n",
       "  -23678.38012370227,\n",
       "  -23678.351163220916,\n",
       "  -23678.324716094667,\n",
       "  -23678.324805571534,\n",
       "  -23678.324966621698,\n",
       "  -23678.300959658314,\n",
       "  -23678.271083919764,\n",
       "  -23678.245222955768,\n",
       "  -23678.24544197272,\n",
       "  -23678.22117378697,\n",
       "  -23678.19782755043,\n",
       "  -23678.171381553402,\n",
       "  -23678.1466358286,\n",
       "  -23678.126937500238,\n",
       "  -23678.10057043708,\n",
       "  -23678.07208508669,\n",
       "  -23678.072149427928,\n",
       "  -23678.046762535178,\n",
       "  -23678.047709118717,\n",
       "  -23678.022082374322,\n",
       "  -23678.022179564996,\n",
       "  -23677.996409092746,\n",
       "  -23677.996635321233,\n",
       "  -23677.966654254396,\n",
       "  -23677.938526936534,\n",
       "  -23677.94249300053,\n",
       "  -23677.91653660726,\n",
       "  -23677.893087967193,\n",
       "  -23677.867373475703,\n",
       "  -23677.841996320585,\n",
       "  -23677.818409077387,\n",
       "  -23677.792895294435,\n",
       "  -23677.765356417473,\n",
       "  -23677.739710187732,\n",
       "  -23677.739782429577,\n",
       "  -23677.74263147245,\n",
       "  -23677.715833770133,\n",
       "  -23677.689521140164,\n",
       "  -23677.66488434639,\n",
       "  -23677.638149223272,\n",
       "  -23677.61270208156,\n",
       "  -23677.58736524594,\n",
       "  -23677.590234185613,\n",
       "  -23677.561277719095,\n",
       "  -23677.535782595165,\n",
       "  -23677.512522468114,\n",
       "  -23677.49118759546,\n",
       "  -23677.468293016336,\n",
       "  -23677.437619382166,\n",
       "  -23677.413371931783,\n",
       "  -23677.387760178255,\n",
       "  -23677.36408228453,\n",
       "  -23677.337535480216,\n",
       "  -23677.315989127208,\n",
       "  -23677.316524572372,\n",
       "  -23677.319914420914,\n",
       "  -23677.320179601,\n",
       "  -23677.320183406264,\n",
       "  -23677.294016281106,\n",
       "  -23677.263588559224,\n",
       "  -23677.236301424677,\n",
       "  -23677.219845786785,\n",
       "  -23677.219941011077,\n",
       "  -23677.195154772653,\n",
       "  -23677.16540874402,\n",
       "  -23677.134779862852,\n",
       "  -23677.13643583298,\n",
       "  -23677.10833041749,\n",
       "  -23677.0799851763,\n",
       "  -23677.053366281052,\n",
       "  -23677.02392834974,\n",
       "  -23677.002613244393,\n",
       "  -23676.978875506768,\n",
       "  -23676.95167627906,\n",
       "  -23676.926553281835,\n",
       "  -23676.8985449955,\n",
       "  -23676.874001846852,\n",
       "  -23676.846142724124,\n",
       "  -23676.8198442849,\n",
       "  -23676.793053866237,\n",
       "  -23676.76630839722,\n",
       "  -23676.735014217615,\n",
       "  -23676.73625649108,\n",
       "  -23676.736296335574,\n",
       "  -23676.71251835842,\n",
       "  -23676.689180898768,\n",
       "  -23676.664318214156,\n",
       "  -23676.638485449916,\n",
       "  -23676.609300558874,\n",
       "  -23676.609367311,\n",
       "  -23676.578734652907,\n",
       "  -23676.54844801992,\n",
       "  -23676.523400391936,\n",
       "  -23676.52687402303,\n",
       "  -23676.50356338492,\n",
       "  -23676.503610955042,\n",
       "  -23676.472968776456,\n",
       "  -23676.446489447015,\n",
       "  -23676.427046205892,\n",
       "  -23676.404728186833,\n",
       "  -23676.37845646081,\n",
       "  -23676.355715238093,\n",
       "  -23676.35753847031,\n",
       "  -23676.330235229776,\n",
       "  -23676.303774924938,\n",
       "  -23676.273543725627,\n",
       "  -23676.2478610372,\n",
       "  -23676.22333943706,\n",
       "  -23676.198982334015,\n",
       "  -23676.199994268383,\n",
       "  -23676.17365143785,\n",
       "  -23676.148093482625,\n",
       "  -23676.122373235536,\n",
       "  -23676.096043389713,\n",
       "  -23676.066433605254,\n",
       "  -23676.03694483312,\n",
       "  -23676.01125107046,\n",
       "  -23675.98470188806,\n",
       "  -23675.96050030897,\n",
       "  -23675.93522978394,\n",
       "  -23675.935237749138,\n",
       "  -23675.935237786296,\n",
       "  -23675.906280202737,\n",
       "  -23675.87961341701,\n",
       "  -23675.851782219353,\n",
       "  -23675.853834602283,\n",
       "  -23675.826241464394,\n",
       "  -23675.800550072443,\n",
       "  -23675.776519374485,\n",
       "  -23675.746463623203,\n",
       "  -23675.72554651883,\n",
       "  -23675.69799116072,\n",
       "  -23675.6707030595,\n",
       "  -23675.65422008578,\n",
       "  -23675.629670426322,\n",
       "  -23675.60580780446,\n",
       "  -23675.57900440816,\n",
       "  -23675.552088771114,\n",
       "  -23675.522534367916,\n",
       "  -23675.525662257216,\n",
       "  -23675.498964575992,\n",
       "  -23675.470445223156,\n",
       "  -23675.47644016333,\n",
       "  -23675.44963090085,\n",
       "  -23675.423513664024,\n",
       "  -23675.393975527357,\n",
       "  -23675.365638270912,\n",
       "  -23675.340849565426,\n",
       "  -23675.3138215569,\n",
       "  -23675.288313306803,\n",
       "  -23675.258297026416,\n",
       "  -23675.258326660838,\n",
       "  -23675.23260773769,\n",
       "  -23675.234052517342,\n",
       "  -23675.234103598155,\n",
       "  -23675.234133235164,\n",
       "  -23675.212940523103,\n",
       "  -23675.213090012825,\n",
       "  -23675.186983974792,\n",
       "  -23675.16005601525,\n",
       "  -23675.13195684489,\n",
       "  -23675.103825391652,\n",
       "  -23675.076031857017,\n",
       "  -23675.076209718292,\n",
       "  -23675.076861417394,\n",
       "  -23675.04933778042,\n",
       "  -23675.020881266737,\n",
       "  -23674.991633376514,\n",
       "  -23674.964890896244,\n",
       "  -23674.939722268147,\n",
       "  -23674.921611648406,\n",
       "  -23674.89538577594,\n",
       "  -23674.8649851661,\n",
       "  -23674.83863020059,\n",
       "  -23674.812561424587,\n",
       "  -23674.785617906193,\n",
       "  -23674.75735369139,\n",
       "  -23674.7360986826,\n",
       "  -23674.70808339407,\n",
       "  -23674.68528869669,\n",
       "  -23674.65909674066,\n",
       "  -23674.633819992632,\n",
       "  -23674.61570329887,\n",
       "  -23674.589368405614,\n",
       "  -23674.565798952597,\n",
       "  -23674.541059678242,\n",
       "  -23674.5165567555,\n",
       "  -23674.488314395152,\n",
       "  -23674.463755616394,\n",
       "  -23674.437650629927,\n",
       "  -23674.416940313557,\n",
       "  -23674.40043568159,\n",
       "  -23674.379716063413,\n",
       "  -23674.35359297944,\n",
       "  -23674.329355806556,\n",
       "  -23674.307491127907,\n",
       "  -23674.28462460014,\n",
       "  -23674.254504432265,\n",
       "  -23674.22656555729,\n",
       "  -23674.201403522464,\n",
       "  -23674.171283113566,\n",
       "  -23674.14207580125,\n",
       "  -23674.115992758794,\n",
       "  -23674.09305462909,\n",
       "  -23674.093432296224,\n",
       "  -23674.069242442132,\n",
       "  -23674.069321834795,\n",
       "  -23674.069365397045,\n",
       "  -23674.069373357896,\n",
       "  -23674.043532321342,\n",
       "  -23674.01888744003,\n",
       "  -23674.01981954398,\n",
       "  -23673.995248927193,\n",
       "  -23673.96900310388,\n",
       "  -23673.940877212073,\n",
       "  -23673.940927297837,\n",
       "  -23673.91741748237,\n",
       "  -23673.893035717145,\n",
       "  -23673.893128378666,\n",
       "  -23673.868623676175,\n",
       "  -23673.848269545306,\n",
       "  -23673.81682588954,\n",
       "  -23673.791202399025,\n",
       "  -23673.765927369583,\n",
       "  -23673.741298798544,\n",
       "  -23673.74316415348,\n",
       "  -23673.743333527982,\n",
       "  -23673.743335986474,\n",
       "  -23673.717789422382,\n",
       "  -23673.695309149112,\n",
       "  -23673.669840557686,\n",
       "  -23673.64007865297,\n",
       "  -23673.640281048196,\n",
       "  -23673.614095355748,\n",
       "  -23673.614105739114,\n",
       "  -23673.592459273714,\n",
       "  -23673.563214811566,\n",
       "  -23673.537130488927,\n",
       "  -23673.538002610272,\n",
       "  -23673.518792671282,\n",
       "  -23673.493692576958,\n",
       "  -23673.471194191407,\n",
       "  -23673.447026122994,\n",
       "  -23673.421485473667,\n",
       "  -23673.399087782345,\n",
       "  -23673.39936653308,\n",
       "  -23673.373144608566,\n",
       "  -23673.37524661122,\n",
       "  -23673.345604023874,\n",
       "  -23673.345780701653,\n",
       "  -23673.346699324924,\n",
       "  -23673.316420026786,\n",
       "  -23673.289147090465,\n",
       "  -23673.264502546368,\n",
       "  -23673.239469784803,\n",
       "  -23673.21605825972,\n",
       "  -23673.191573468852,\n",
       "  -23673.16454924929,\n",
       "  -23673.164759746833,\n",
       "  -23673.165372766533,\n",
       "  -23673.13974810401,\n",
       "  -23673.139826939794,\n",
       "  -23673.11128471846,\n",
       "  -23673.08551998153,\n",
       "  -23673.05917880776,\n",
       "  -23673.033047038178,\n",
       "  -23673.008272420953,\n",
       "  -23673.00982122903,\n",
       "  -23672.982839636028,\n",
       "  -23672.95708585162,\n",
       "  -23672.92905366904,\n",
       "  -23672.902480692366,\n",
       "  -23672.87581859088,\n",
       "  -23672.852612221188,\n",
       "  -23672.822374951716,\n",
       "  -23672.793639451473,\n",
       "  -23672.767668780667,\n",
       "  -23672.768108060664,\n",
       "  -23672.768507461795,\n",
       "  -23672.768545442883,\n",
       "  -23672.74289509214,\n",
       "  -23672.716622880427,\n",
       "  -23672.700089221762,\n",
       "  -23672.674212386253,\n",
       "  -23672.64340516326,\n",
       "  -23672.61749132893,\n",
       "  -23672.618699323382,\n",
       "  -23672.592272437978,\n",
       "  -23672.59227844823,\n",
       "  -23672.567065841034,\n",
       "  -23672.540882070265,\n",
       "  -23672.54106063144,\n",
       "  -23672.542619140826,\n",
       "  -23672.517983789294,\n",
       "  -23672.492518395244,\n",
       "  -23672.465459699713,\n",
       "  -23672.441170881877,\n",
       "  -23672.441184770534,\n",
       "  -23672.414886550057,\n",
       "  -23672.3935758431,\n",
       "  -23672.368124552504,\n",
       "  -23672.336956248495,\n",
       "  -23672.31099035977,\n",
       "  -23672.28465004694,\n",
       "  -23672.284650102672,\n",
       "  -23672.284732189575,\n",
       "  -23672.25749393976,\n",
       "  -23672.233251030004,\n",
       "  -23672.23325951652,\n",
       "  -23672.208734638567,\n",
       "  -23672.18404441723,\n",
       "  -23672.161693873193,\n",
       "  -23672.132541429146,\n",
       "  -23672.10485862376,\n",
       "  -23672.075063624416,\n",
       "  -23672.049070929963,\n",
       "  -23672.030184345276,\n",
       "  -23672.00490668314,\n",
       "  -23672.004978610406,\n",
       "  -23671.98338238739,\n",
       "  -23671.955543301545,\n",
       "  -23671.927965445,\n",
       "  -23671.90215726325,\n",
       "  -23671.875083953804,\n",
       "  -23671.847229043717,\n",
       "  -23671.825300398516,\n",
       "  -23671.796863272797,\n",
       "  -23671.798495582843,\n",
       "  -23671.798513668207,\n",
       "  -23671.773706186013,\n",
       "  -23671.75062387455,\n",
       "  -23671.72604465976,\n",
       "  -23671.701780779807,\n",
       "  -23671.701886154297,\n",
       "  -23671.701903007674,\n",
       "  -23671.67237427711,\n",
       "  -23671.654519679374,\n",
       "  -23671.629784410085,\n",
       "  -23671.632422450228,\n",
       "  -23671.60788468582,\n",
       "  -23671.60793955029,\n",
       "  -23671.580871719274,\n",
       "  -23671.54955084878,\n",
       "  -23671.519595622267,\n",
       "  -23671.495317223747,\n",
       "  -23671.47162996874,\n",
       "  -23671.444953306618,\n",
       "  -23671.445580411484,\n",
       "  -23671.445789210797,\n",
       "  -23671.41818904992,\n",
       "  -23671.39619943304,\n",
       "  -23671.37766949799,\n",
       "  -23671.350429084927,\n",
       "  -23671.321610850748,\n",
       "  -23671.32742970026,\n",
       "  -23671.327961194922,\n",
       "  -23671.304211754774,\n",
       "  -23671.307149509685,\n",
       "  -23671.278342766895,\n",
       "  -23671.279986167003,\n",
       "  -23671.27998627374,\n",
       "  -23671.28024665269,\n",
       "  -23671.256002111055,\n",
       "  -23671.25600912278,\n",
       "  -23671.229745607532,\n",
       "  -23671.202203896366,\n",
       "  -23671.20237891671,\n",
       "  -23671.178767167203,\n",
       "  -23671.15235611681,\n",
       "  -23671.123472808475,\n",
       "  -23671.09832084175,\n",
       "  -23671.098321217432,\n",
       "  -23671.07121930452,\n",
       "  -23671.071296769445,\n",
       "  -23671.044507899293,\n",
       "  -23671.020275599752,\n",
       "  -23671.0202980393,\n",
       "  -23670.988514605066,\n",
       "  -23670.989027565116,\n",
       "  -23670.963573320536,\n",
       "  -23670.936610813074,\n",
       "  -23670.911254326853,\n",
       "  -23670.911254827508,\n",
       "  -23670.886643685197,\n",
       "  -23670.888148756978,\n",
       "  -23670.866054657286,\n",
       "  -23670.839416745384,\n",
       "  -23670.817960717664,\n",
       "  -23670.818121416596,\n",
       "  -23670.79101788881,\n",
       "  -23670.791115670356,\n",
       "  -23670.769205191646,\n",
       "  -23670.73795021705,\n",
       "  -23670.71384872815,\n",
       "  -23670.68827616114,\n",
       "  -23670.66666127487,\n",
       "  -23670.64339640813,\n",
       "  -23670.615112155465,\n",
       "  -23670.615278020665,\n",
       "  -23670.59070242361,\n",
       "  -23670.570668801563,\n",
       "  -23670.547952336205,\n",
       "  -23670.521201098472,\n",
       "  -23670.493598600126,\n",
       "  -23670.49393785308,\n",
       "  -23670.47716038256,\n",
       "  -23670.47861511683,\n",
       "  -23670.451871895766,\n",
       "  -23670.427807091743,\n",
       "  -23670.401562751376,\n",
       "  -23670.37338618848,\n",
       "  -23670.347028406573,\n",
       "  -23670.321111686113,\n",
       "  -23670.2906057873,\n",
       "  -23670.290613100486,\n",
       "  -23670.29061715794,\n",
       "  -23670.270726064322,\n",
       "  -23670.24448128299,\n",
       "  -23670.244508055883,\n",
       "  -23670.218282847527,\n",
       "  -23670.198063064305,\n",
       "  -23670.17509109738,\n",
       "  -23670.14932292962,\n",
       "  -23670.150586186242,\n",
       "  -23670.123652065926,\n",
       "  -23670.098924270053,\n",
       "  -23670.098979459508,\n",
       "  -23670.078151435286,\n",
       "  -23670.078155348838,\n",
       "  -23670.07823266856,\n",
       "  -23670.051047251654,\n",
       "  -23670.02167305772,\n",
       "  -23669.995256649607,\n",
       "  -23669.995679535237,\n",
       "  -23669.970264314907,\n",
       "  -23669.94662796422,\n",
       "  -23669.91497309677,\n",
       "  -23669.89098740051,\n",
       "  -23669.891564597645,\n",
       "  -23669.86609602428,\n",
       "  -23669.839043589323,\n",
       "  -23669.80988267811,\n",
       "  -23669.780901725193,\n",
       "  -23669.751898903545,\n",
       "  -23669.72548319219,\n",
       "  -23669.70352534923,\n",
       "  -23669.678704013444,\n",
       "  -23669.649029599626,\n",
       "  -23669.62084567094,\n",
       "  -23669.595497375445,\n",
       "  -23669.56957700506,\n",
       "  -23669.569789721703,\n",
       "  -23669.542127029166,\n",
       "  -23669.51527975341,\n",
       "  -23669.488863025093,\n",
       "  -23669.488864418767,\n",
       "  -23669.488884296326,\n",
       "  -23669.4637679124,\n",
       "  -23669.46377468593,\n",
       "  -23669.437516525646,\n",
       "  -23669.437547166162,\n",
       "  -23669.411633735086,\n",
       "  -23669.388972803787,\n",
       "  -23669.368745446747,\n",
       "  -23669.370078433985,\n",
       "  -23669.33965980973,\n",
       "  -23669.314139235037,\n",
       "  -23669.291216859987,\n",
       "  -23669.271082486728,\n",
       "  -23669.25238369608,\n",
       "  -23669.252574569942,\n",
       "  -23669.22638156704,\n",
       "  -23669.199917506838,\n",
       "  -23669.201365305526,\n",
       "  -23669.203455101673,\n",
       "  -23669.205303404804,\n",
       "  -23669.176544090096,\n",
       "  -23669.17654846024,\n",
       "  -23669.176679165033,\n",
       "  -23669.17674229953,\n",
       "  -23669.147323869096,\n",
       "  -23669.12170857702,\n",
       "  -23669.096074677185,\n",
       "  -23669.074020105712,\n",
       "  -23669.04682575153,\n",
       "  -23669.02367905393,\n",
       "  -23669.023696631866,\n",
       "  -23669.02391156224,\n",
       "  -23668.996124112615,\n",
       "  -23668.965778287402,\n",
       "  -23668.940402642656,\n",
       "  -23668.913343067157,\n",
       "  -23668.887805906037,\n",
       "  -23668.86214068659,\n",
       "  -23668.835773283696,\n",
       "  -23668.83577703398,\n",
       "  -23668.80512098238,\n",
       "  -23668.774288175333,\n",
       "  -23668.748424977886,\n",
       "  -23668.72151141902,\n",
       "  -23668.698354648688,\n",
       "  -23668.67179872116,\n",
       "  -23668.652835737266,\n",
       "  -23668.65307480691,\n",
       "  -23668.627230357353,\n",
       "  -23668.631204510737,\n",
       "  -23668.601816876548,\n",
       "  -23668.57628092834,\n",
       "  -23668.553610227562,\n",
       "  -23668.553646559463,\n",
       "  -23668.526993111,\n",
       "  -23668.5026201208,\n",
       "  -23668.502624763263,\n",
       "  -23668.502876707607,\n",
       "  -23668.477144975466,\n",
       "  -23668.447949366615,\n",
       "  -23668.424895577147,\n",
       "  -23668.425205225878,\n",
       "  -23668.398924629797,\n",
       "  -23668.37061318015,\n",
       "  -23668.350274499073,\n",
       "  -23668.35169293505,\n",
       "  -23668.327854207044,\n",
       "  -23668.300417804792,\n",
       "  -23668.27464048243,\n",
       "  -23668.251072175794,\n",
       "  -23668.224674155987,\n",
       "  -23668.22468276901,\n",
       "  -23668.19892527642,\n",
       "  -23668.17441563241,\n",
       "  -23668.17530535622,\n",
       "  -23668.151839660884,\n",
       "  -23668.129797612342,\n",
       "  -23668.10019202598,\n",
       "  -23668.10066849475,\n",
       "  -23668.07488827861,\n",
       "  -23668.075109060625,\n",
       "  -23668.045630166893,\n",
       "  -23668.02087193117,\n",
       "  -23668.020879434007,\n",
       "  -23667.99498324023,\n",
       "  -23667.972293885257,\n",
       "  -23667.940404447196,\n",
       "  -23667.91401535091,\n",
       "  -23667.9158763486,\n",
       "  -23667.916310046698,\n",
       "  -23667.889485493593,\n",
       "  -23667.890018763464,\n",
       "  -23667.863690898448,\n",
       "  -23667.864847816505,\n",
       "  -23667.870714245022,\n",
       "  -23667.839919035556,\n",
       "  -23667.814128884223,\n",
       "  -23667.78812528251,\n",
       "  -23667.79117989081,\n",
       "  -23667.791184318434,\n",
       "  -23667.76613758269,\n",
       "  -23667.738965837747,\n",
       "  -23667.713077685847,\n",
       "  -23667.71307771516,\n",
       "  -23667.682891321623,\n",
       "  -23667.682908449562,\n",
       "  -23667.683043926827,\n",
       "  -23667.661895743055,\n",
       "  -23667.662898543203,\n",
       "  -23667.662964620627,\n",
       "  -23667.635244320365,\n",
       "  -23667.606467659345,\n",
       "  -23667.580011556434,\n",
       "  -23667.553188740407,\n",
       "  -23667.52638497729,\n",
       "  -23667.50065147625,\n",
       "  -23667.473875042848,\n",
       "  -23667.446394610844,\n",
       "  -23667.420020780966,\n",
       "  -23667.39565566588,\n",
       "  -23667.372985594957,\n",
       "  -23667.347252132076,\n",
       "  -23667.321444408426,\n",
       "  -23667.32156413038,\n",
       "  -23667.321567255167,\n",
       "  -23667.29457289174,\n",
       "  -23667.26467043231,\n",
       "  -23667.239091174066,\n",
       "  -23667.24145848249,\n",
       "  -23667.2150244114,\n",
       "  -23667.189356854626,\n",
       "  -23667.160374146977,\n",
       "  -23667.132792644225,\n",
       "  -23667.132837491747,\n",
       "  -23667.10711210962,\n",
       "  -23667.083708459875,\n",
       "  -23667.061985427554,\n",
       "  -23667.03445640859,\n",
       "  -23667.010740386697,\n",
       "  -23667.010742918043,\n",
       "  -23666.98445447292,\n",
       "  -23666.95484655357,\n",
       "  -23666.95486373116,\n",
       "  -23666.93050536834,\n",
       "  -23666.934567539283,\n",
       "  -23666.907311322408,\n",
       "  -23666.883609689743,\n",
       "  -23666.85782084001,\n",
       "  -23666.857865608312,\n",
       "  -23666.857890077732,\n",
       "  -23666.83790614836,\n",
       "  -23666.811532097065,\n",
       "  -23666.784931378785,\n",
       "  -23666.785887228856,\n",
       "  -23666.762353185382,\n",
       "  -23666.736654214834,\n",
       "  -23666.736655115415,\n",
       "  -23666.71104187186,\n",
       "  -23666.71579957669,\n",
       "  -23666.693169202328,\n",
       "  -23666.69365071006,\n",
       "  -23666.66677905349,\n",
       "  -23666.64323017282,\n",
       "  -23666.643712508347,\n",
       "  -23666.620542054872,\n",
       "  -23666.6206072479,\n",
       "  -23666.59679422292,\n",
       "  -23666.56912185253,\n",
       "  -23666.543374858364,\n",
       "  -23666.51408422908,\n",
       "  -23666.514301285013,\n",
       "  -23666.48746569416,\n",
       "  -23666.46003258024,\n",
       "  -23666.434843651063,\n",
       "  -23666.406170439597,\n",
       "  -23666.37498985333,\n",
       "  -23666.34975597546,\n",
       "  -23666.32135222687,\n",
       "  -23666.294775069247,\n",
       "  -23666.268785914992,\n",
       "  -23666.237893306592,\n",
       "  -23666.2167602479,\n",
       "  -23666.188285001346,\n",
       "  -23666.16798208331,\n",
       "  -23666.137622394093,\n",
       "  -23666.11119153204,\n",
       "  -23666.08547341487,\n",
       "  -23666.059022159676,\n",
       "  -23666.033817054446,\n",
       "  -23666.033873169574,\n",
       "  -23666.035791321217,\n",
       "  -23666.03586230796,\n",
       "  -23666.03721080924,\n",
       "  -23666.037251032863,\n",
       "  -23666.01053835203,\n",
       "  -23665.98543214233,\n",
       "  -23665.955137071665,\n",
       "  -23665.929335183835,\n",
       "  -23665.90431631345,\n",
       "  -23665.876709763575,\n",
       "  -23665.87675924458,\n",
       "  -23665.87728183686,\n",
       "  -23665.854138356124,\n",
       "  -23665.82518721853,\n",
       "  -23665.799921395,\n",
       "  -23665.774545090662,\n",
       "  -23665.774683683707,\n",
       "  -23665.77531340533,\n",
       "  -23665.77643728535,\n",
       "  -23665.749343949185,\n",
       "  -23665.72271652719,\n",
       "  -23665.700305323844,\n",
       "  -23665.67180720287,\n",
       "  -23665.648408223144,\n",
       "  -23665.62268598318,\n",
       "  -23665.6227559102,\n",
       "  -23665.62279252063,\n",
       "  -23665.599256158646,\n",
       "  -23665.60210456865,\n",
       "  -23665.575244139476,\n",
       "  -23665.55576445102,\n",
       "  -23665.532915646803,\n",
       "  -23665.50629602562,\n",
       "  -23665.47929817864,\n",
       "  -23665.45786190773,\n",
       "  -23665.43041700787,\n",
       "  -23665.39850472601,\n",
       "  -23665.370820402833,\n",
       "  -23665.371209829955,\n",
       "  -23665.371733432257,\n",
       "  -23665.37265796296,\n",
       "  -23665.351014274907,\n",
       "  -23665.324126714146,\n",
       "  -23665.297528264255,\n",
       "  -23665.27183092181,\n",
       "  -23665.25031518803,\n",
       "  -23665.22283549193,\n",
       "  -23665.198691106176,\n",
       "  -23665.180076655706,\n",
       "  -23665.152341295085,\n",
       "  -23665.12587890366,\n",
       "  -23665.09912593352,\n",
       "  -23665.075201542822,\n",
       "  -23665.04848150342,\n",
       "  -23665.048481533056,\n",
       "  -23665.021285996187,\n",
       "  -23665.000313455523,\n",
       "  -23664.979808881923,\n",
       "  -23664.95242500391,\n",
       "  -23664.95252755501,\n",
       "  -23664.957839088067,\n",
       "  -23664.958798745552,\n",
       "  -23664.933347614213])"
      ]
     },
     "execution_count": 122,
     "metadata": {},
     "output_type": "execute_result"
    }
   ],
   "source": [
    "X = S\n",
    "Y = train.sarcastic\n",
    "learning_rate = 5e-5\n",
    "num_step = 1000\n",
    "result = logisitic_regression_2(X, Y, learning_rate, num_step)\n",
    "result"
   ]
  },
  {
   "cell_type": "code",
   "execution_count": 123,
   "metadata": {},
   "outputs": [
    {
     "data": {
      "text/plain": [
       "<matplotlib.collections.PathCollection at 0x15d88a040>"
      ]
     },
     "execution_count": 123,
     "metadata": {},
     "output_type": "execute_result"
    },
    {
     "data": {
      "image/png": "[encoded data removed]",
      "text/plain": [
       "<Figure size 432x288 with 1 Axes>"
      ]
     },
     "metadata": {
      "needs_background": "light"
     },
     "output_type": "display_data"
    }
   ],
   "source": [
    "plt.scatter(x = list(range(len(result[1][::50]))), y = result[1][::50])"
   ]
  },
  {
   "attachments": {},
   "cell_type": "markdown",
   "metadata": {},
   "source": [
    "It looks like this converges to 1 inevitably (I think this is good?) \n",
    "In the first graph, it doesn't converge quite yet, but I think that is because of the small learning rate."
   ]
  },
  {
   "attachments": {},
   "cell_type": "markdown",
   "metadata": {},
   "source": [
    "After training on the training data, use your logistic regression classifier to make predictions\n",
    "on the validation dataset and report your performance using the F1 score."
   ]
  },
  {
   "attachments": {},
   "cell_type": "markdown",
   "metadata": {},
   "source": [
    "First, we have to make the `predict` function.."
   ]
  },
  {
   "attachments": {},
   "cell_type": "markdown",
   "metadata": {},
   "source": [
    "given some new text, converts it to a vector (i.e., something\n",
    "like a row from X), and then uses the β vector to predict the class and returns the class label."
   ]
  },
  {
   "cell_type": "code",
   "execution_count": 34,
   "metadata": {},
   "outputs": [],
   "source": [
    "betas = result[0]\n",
    "def predict(text, beta_vector = betas):\n",
    "    tokenized = better_tokenize(text)\n",
    "    indices_list = []\n",
    "    \n",
    "    for word in tokenized:\n",
    "        if word in train_vocab:\n",
    "            indices_list.append(train_vocab.index(word))\n",
    "    betas_list = [betas[index] for index in indices_list]\n",
    "    prob = sum(x * y for x, y in zip(indices_list, betas_list))\n",
    "    #print(prob)\n",
    "    if sigmoid(prob) >= 0.5:\n",
    "        return 1\n",
    "    elif sigmoid(prob) < 0.5:\n",
    "        return 0 \n",
    "    "
   ]
  },
  {
   "attachments": {},
   "cell_type": "markdown",
   "metadata": {},
   "source": [
    "Let's tune this model up a little bit"
   ]
  },
  {
   "cell_type": "code",
   "execution_count": 124,
   "metadata": {},
   "outputs": [
    {
     "name": "stderr",
     "output_type": "stream",
     "text": [
      "100%|██████████| 5000/5000 [04:50<00:00, 17.20it/s]\n",
      "100%|██████████| 5000/5000 [04:51<00:00, 17.17it/s]\n",
      "100%|██████████| 5000/5000 [04:51<00:00, 17.13it/s]\n"
     ]
    }
   ],
   "source": [
    "X = S\n",
    "Y = train.sarcastic\n",
    "learning_rate_2 = 1e-6\n",
    "learning_rate_3 = 1e-4\n",
    "learning_rate_4 = 1e-2\n",
    "num_step = 5000\n",
    "result_2 = logisitic_regression_2(X, Y, learning_rate_2, num_step)\n",
    "result_3 = logisitic_regression_2(X, Y, learning_rate_3, num_step)\n",
    "result_4 = logisitic_regression_2(X, Y, learning_rate_4, num_step)"
   ]
  },
  {
   "attachments": {},
   "cell_type": "markdown",
   "metadata": {},
   "source": [
    "Now let's see how this log likelihood would change every 50"
   ]
  },
  {
   "cell_type": "code",
   "execution_count": 125,
   "metadata": {},
   "outputs": [
    {
     "data": {
      "image/png": "[encoded data removed]",
      "text/plain": [
       "<Figure size 432x288 with 1 Axes>"
      ]
     },
     "metadata": {
      "needs_background": "light"
     },
     "output_type": "display_data"
    }
   ],
   "source": [
    "for result in [result_2, result_3, result_4]:\n",
    "    plt.scatter(x = list(range(len(result[1][::50]))), y = result[1][::50])\n",
    "plt.title('How Learning Rate changes log likelihood')\n",
    "plt.xlabel('Group of 50 iterations')\n",
    "plt.ylabel('Log-likelihood')\n",
    "plt.legend(['1e-6','1e-4','1e-2'], loc = \"right\")\n",
    "plt.show()"
   ]
  },
  {
   "attachments": {},
   "cell_type": "markdown",
   "metadata": {},
   "source": [
    "I like the learning rate of 1e-2 a lot, let's see what happens when we mess with 1e-2, 5e-2, and 1e-1"
   ]
  },
  {
   "cell_type": "code",
   "execution_count": 132,
   "metadata": {},
   "outputs": [
    {
     "name": "stderr",
     "output_type": "stream",
     "text": [
      "100%|██████████| 5000/5000 [04:52<00:00, 17.09it/s]\n",
      "100%|██████████| 5000/5000 [04:52<00:00, 17.11it/s]\n"
     ]
    }
   ],
   "source": [
    "X = S\n",
    "Y = train.sarcastic\n",
    "learning_rate_5 = 1e-1\n",
    "learning_rate_6 = 5e-2\n",
    "num_step = 5000\n",
    "result_5 = logisitic_regression_2(X, Y, learning_rate_5, num_step)\n",
    "result_6 = logisitic_regression_2(X, Y, learning_rate_6, num_step)\n"
   ]
  },
  {
   "cell_type": "code",
   "execution_count": 134,
   "metadata": {},
   "outputs": [
    {
     "data": {
      "image/png": "[encoded data removed]",
      "text/plain": [
       "<Figure size 432x288 with 1 Axes>"
      ]
     },
     "metadata": {
      "needs_background": "light"
     },
     "output_type": "display_data"
    }
   ],
   "source": [
    "for result in [result_4, result_5, result_6]:\n",
    "    plt.scatter(x = list(range(len(result[1][::50]))), y = result[1][::50])\n",
    "plt.title('How Learning Rate changes log likelihood')\n",
    "plt.xlabel('Group of 50 iterations')\n",
    "plt.ylabel('Log-likelihood')\n",
    "plt.legend(['1e-2','5e-2','1e-1'], loc = \"right\")\n",
    "plt.show()"
   ]
  },
  {
   "attachments": {},
   "cell_type": "markdown",
   "metadata": {},
   "source": [
    "We can see here that the model improves radidly when the learning rate changes "
   ]
  },
  {
   "cell_type": "code",
   "execution_count": 138,
   "metadata": {},
   "outputs": [],
   "source": [
    "dev = pd.read_csv('si630w23-hw1.dev.csv')\n",
    "predictions = []\n",
    "for i in dev.text:\n",
    "    predictions.append(predict(i, beta_vector = result_5[0]))"
   ]
  },
  {
   "cell_type": "code",
   "execution_count": 139,
   "metadata": {},
   "outputs": [
    {
     "data": {
      "text/html": [
       "<div>\n",
       "<style scoped>\n",
       "    .dataframe tbody tr th:only-of-type {\n",
       "        vertical-align: middle;\n",
       "    }\n",
       "\n",
       "    .dataframe tbody tr th {\n",
       "        vertical-align: top;\n",
       "    }\n",
       "\n",
       "    .dataframe thead th {\n",
       "        text-align: right;\n",
       "    }\n",
       "</style>\n",
       "<table border=\"1\" class=\"dataframe\">\n",
       "  <thead>\n",
       "    <tr style=\"text-align: right;\">\n",
       "      <th></th>\n",
       "      <th>text</th>\n",
       "      <th>sarcastic</th>\n",
       "      <th>predictions</th>\n",
       "    </tr>\n",
       "  </thead>\n",
       "  <tbody>\n",
       "    <tr>\n",
       "      <th>0</th>\n",
       "      <td>I believe that Britain’s international reputat...</td>\n",
       "      <td>0</td>\n",
       "      <td>0</td>\n",
       "    </tr>\n",
       "    <tr>\n",
       "      <th>1</th>\n",
       "      <td>sometimes it seems like there’s nothing to do ...</td>\n",
       "      <td>0</td>\n",
       "      <td>0</td>\n",
       "    </tr>\n",
       "    <tr>\n",
       "      <th>2</th>\n",
       "      <td>if you listen carefully, you can hear me not c...</td>\n",
       "      <td>1</td>\n",
       "      <td>0</td>\n",
       "    </tr>\n",
       "    <tr>\n",
       "      <th>3</th>\n",
       "      <td>Aha, my thoughts exactly. We are on which day ...</td>\n",
       "      <td>0</td>\n",
       "      <td>0</td>\n",
       "    </tr>\n",
       "    <tr>\n",
       "      <th>4</th>\n",
       "      <td>Aidan Coleman what a man 💪💪 Well spoken</td>\n",
       "      <td>0</td>\n",
       "      <td>1</td>\n",
       "    </tr>\n",
       "    <tr>\n",
       "      <th>...</th>\n",
       "      <td>...</td>\n",
       "      <td>...</td>\n",
       "      <td>...</td>\n",
       "    </tr>\n",
       "    <tr>\n",
       "      <th>275</th>\n",
       "      <td>\"This Christmas I hope you all either get vacc...</td>\n",
       "      <td>0</td>\n",
       "      <td>0</td>\n",
       "    </tr>\n",
       "    <tr>\n",
       "      <th>276</th>\n",
       "      <td>Great Welsh Karaoke Rewrites (pt 94): 'Cyfarth...</td>\n",
       "      <td>0</td>\n",
       "      <td>0</td>\n",
       "    </tr>\n",
       "    <tr>\n",
       "      <th>277</th>\n",
       "      <td>I see all the reasons Mark has put forward and...</td>\n",
       "      <td>0</td>\n",
       "      <td>0</td>\n",
       "    </tr>\n",
       "    <tr>\n",
       "      <th>278</th>\n",
       "      <td>What a stupid take on football this is 😂😂😂</td>\n",
       "      <td>0</td>\n",
       "      <td>0</td>\n",
       "    </tr>\n",
       "    <tr>\n",
       "      <th>279</th>\n",
       "      <td>Only one queen for me, the one who livesiverpo...</td>\n",
       "      <td>0</td>\n",
       "      <td>0</td>\n",
       "    </tr>\n",
       "  </tbody>\n",
       "</table>\n",
       "<p>280 rows × 3 columns</p>\n",
       "</div>"
      ],
      "text/plain": [
       "                                                  text  sarcastic  predictions\n",
       "0    I believe that Britain’s international reputat...          0            0\n",
       "1    sometimes it seems like there’s nothing to do ...          0            0\n",
       "2    if you listen carefully, you can hear me not c...          1            0\n",
       "3    Aha, my thoughts exactly. We are on which day ...          0            0\n",
       "4              Aidan Coleman what a man 💪💪 Well spoken          0            1\n",
       "..                                                 ...        ...          ...\n",
       "275  \"This Christmas I hope you all either get vacc...          0            0\n",
       "276  Great Welsh Karaoke Rewrites (pt 94): 'Cyfarth...          0            0\n",
       "277  I see all the reasons Mark has put forward and...          0            0\n",
       "278         What a stupid take on football this is 😂😂😂          0            0\n",
       "279  Only one queen for me, the one who livesiverpo...          0            0\n",
       "\n",
       "[280 rows x 3 columns]"
      ]
     },
     "execution_count": 139,
     "metadata": {},
     "output_type": "execute_result"
    }
   ],
   "source": [
    "dev['predictions'] = predictions\n",
    "dev"
   ]
  },
  {
   "attachments": {},
   "cell_type": "markdown",
   "metadata": {},
   "source": [
    "Compute accuracy!"
   ]
  },
  {
   "cell_type": "code",
   "execution_count": 140,
   "metadata": {},
   "outputs": [
    {
     "data": {
      "text/plain": [
       "0.0"
      ]
     },
     "execution_count": 140,
     "metadata": {},
     "output_type": "execute_result"
    }
   ],
   "source": [
    "f1_score(dev.sarcastic, dev.predictions)"
   ]
  },
  {
   "cell_type": "code",
   "execution_count": 472,
   "metadata": {},
   "outputs": [],
   "source": [
    "test_preds_numpy = []\n",
    "test = pd.read_csv('si630w23-hw1.test.csv')\n",
    "for i in test.text:\n",
    "    test_preds_numpy.append(predict(i, beta_vector = result_5[0]))"
   ]
  },
  {
   "cell_type": "code",
   "execution_count": 473,
   "metadata": {},
   "outputs": [],
   "source": [
    "test_preds_np = pd.DataFrame()\n",
    "test_preds_np['Index'] = list(range(len(test_preds_numpy)))\n",
    "test_preds_np['prediction'] = test_preds_numpy\n",
    "test_preds_np.to_csv('test_predictions_numpy.csv')"
   ]
  },
  {
   "attachments": {},
   "cell_type": "markdown",
   "metadata": {},
   "source": [
    "** PART 2 **"
   ]
  },
  {
   "attachments": {},
   "cell_type": "markdown",
   "metadata": {},
   "source": [
    "First. create the function to convert our sparse matrices to the tensor object."
   ]
  },
  {
   "cell_type": "code",
   "execution_count": 86,
   "metadata": {},
   "outputs": [],
   "source": [
    "def to_sparse_tensor(matrix):\n",
    "    matrix = matrix.asformat(\"coo\")\n",
    "    return (torch.sparse.FloatTensor(\n",
    "                        torch.LongTensor(np.vstack((matrix.row, matrix.col))),\n",
    "                        torch.FloatTensor(matrix.data), \n",
    "                        torch.Size(matrix.shape))\n",
    "                        .to_dense())\n",
    "    "
   ]
  },
  {
   "cell_type": "markdown",
   "metadata": {},
   "source": []
  },
  {
   "cell_type": "code",
   "execution_count": 269,
   "metadata": {},
   "outputs": [],
   "source": [
    "class LogisticRegression(nn.Module):\n",
    "    def __init__(self, input_dim, output_dim, vocab_size = len(train_vocab), optimizer = None):\n",
    "        super(LogisticRegression, self).__init__()\n",
    "        self.linear = nn.Linear(input_dim, output_dim)\n",
    "        if not optimizer:\n",
    "            self.optimizer  = optimizer\n",
    "\n",
    "\n",
    "    def forward(self,data):\n",
    "        return torch.sigmoid(self.linear(data))\n",
    "        \n",
    "\n",
    "\n"
   ]
  },
  {
   "cell_type": "code",
   "execution_count": 339,
   "metadata": {},
   "outputs": [
    {
     "name": "stderr",
     "output_type": "stream",
     "text": [
      "100%|██████████| 3467/3467 [00:02<00:00, 1218.92it/s]\n",
      "100%|██████████| 10/10 [00:11<00:00,  1.12s/it]\n"
     ]
    }
   ],
   "source": [
    "# let's get this thing up and running!\n",
    "model = LogisticRegression(input_dim= T.shape[1],\n",
    "                            output_dim= 1)\n",
    "\n",
    "# define loss function\n",
    "criterion = nn.BCELoss()\n",
    "\n",
    "# define optimizer\n",
    "optimizer = torch.optim.SGD(model.parameters(), lr = 1e-2)\n",
    "\n",
    "T = dok_matrix((len(train), len(train_vocab)), dtype=int)\n",
    "\n",
    "for i in tqdm(range(len(train))):\n",
    "    #get the text for specific row\n",
    "    text_set = set(train.text.loc[i])\n",
    "\n",
    "    for j in range(len(train_vocab)):\n",
    "\n",
    "        word = train_vocab[j]\n",
    "        if word in text_set:\n",
    "\n",
    "            T[i, j] += 1    # Update element\n",
    "\n",
    "\n",
    "T = to_sparse_tensor(T)\n",
    "\n",
    "dev_matrix = dok_matrix((len(dev), len(train_vocab)), dtype = np.int64)\n",
    "for i in range(len(dev)):\n",
    "    text = dev.iloc[i,0]\n",
    "    list_of_words = better_tokenize(text)\n",
    "    for word in list_of_words:\n",
    "        if word in train_vocab:\n",
    "            dev_matrix[i,train_vocab.index(word)] +=1\n",
    "\n",
    "dev_matrix = to_sparse_tensor(dev_matrix)\n",
    "y = torch.Tensor(train.sarcastic)\n",
    "loss_vector = []\n",
    "f1_list = []\n",
    "for i in tqdm(range(10)):\n",
    "    \n",
    "    steps = 0\n",
    "    rng_jesus = np.arange(T.shape[0])\n",
    "    np.random.shuffle(rng_jesus)\n",
    "    for i in range(T.shape[0]):\n",
    "        steps+=1\n",
    "        model.train()\n",
    "\n",
    "        #random row\n",
    "        index = rng_jesus[i]\n",
    "\n",
    "        #data\n",
    "        x_sample = T[index]\n",
    "        y_sample = y[index]\n",
    "\n",
    "        # zero gradients\n",
    "        optimizer.zero_grad()\n",
    "\n",
    "        #Forward pass\n",
    "        y_hat = model(x_sample)\n",
    "\n",
    "\n",
    "\n",
    "        #compute loss..\n",
    "        loss = criterion(y_hat.squeeze(), y_sample)\n",
    "\n",
    "\n",
    "        #Backward step\n",
    "        loss.backward()\n",
    "\n",
    "        if steps % 50 == 0:\n",
    "            model.eval()\n",
    "\n",
    "            with torch.no_grad():\n",
    "                #append the loss vector\n",
    "                #loss_vector.append(loss.item())\n",
    "                y_hat = model(dev_matrix)\n",
    "                loss = criterion(y_hat.squeeze(), torch.Tensor(dev.sarcastic))\n",
    "                loss_vector.append(loss.item())\n",
    "                f1_list.append(f1_score(y_hat.round().squeeze(), torch.Tensor(dev.sarcastic)))\n",
    "\n",
    "\n",
    "\n",
    "\n",
    "        optimizer.step()\n",
    "        # Update loss vector\n",
    "        \n"
   ]
  },
  {
   "cell_type": "code",
   "execution_count": 341,
   "metadata": {},
   "outputs": [
    {
     "data": {
      "text/plain": [
       "<AxesSubplot:>"
      ]
     },
     "execution_count": 341,
     "metadata": {},
     "output_type": "execute_result"
    },
    {
     "data": {
      "image/png": "[encoded data removed]",
      "text/plain": [
       "<Figure size 432x288 with 1 Axes>"
      ]
     },
     "metadata": {
      "needs_background": "light"
     },
     "output_type": "display_data"
    }
   ],
   "source": [
    "sns.lineplot(loss_vector)"
   ]
  },
  {
   "attachments": {},
   "cell_type": "markdown",
   "metadata": {},
   "source": [
    "ike you did for the numpy code, train your model for a total of 1000 steps (i.e., only\n",
    "showing it 1000 randomly sampled documents) and report the loss after each 50 steps. This\n",
    "should verify that the loss is going down"
   ]
  },
  {
   "cell_type": "code",
   "execution_count": 328,
   "metadata": {},
   "outputs": [
    {
     "name": "stderr",
     "output_type": "stream",
     "text": [
      "100%|██████████| 3467/3467 [00:02<00:00, 1268.76it/s]\n"
     ]
    }
   ],
   "source": [
    "model = LogisticRegression(input_dim= T.shape[1],\n",
    "                            output_dim= 1)\n",
    "\n",
    "# define loss function\n",
    "criterion = nn.BCELoss()\n",
    "\n",
    "# define optimizer\n",
    "optimizer = torch.optim.SGD(model.parameters(), lr = 1e-2)\n",
    "\n",
    "T = dok_matrix((len(train), len(train_vocab)), dtype=int)\n",
    "\n",
    "for i in tqdm(range(len(train))):\n",
    "    #get the text for specific row\n",
    "    text_set = set(train.text.loc[i])\n",
    "\n",
    "    for j in range(len(train_vocab)):\n",
    "\n",
    "        word = train_vocab[j]\n",
    "        if word in text_set:\n",
    "\n",
    "            T[i, j] += 1    # Update element\n",
    "\n",
    "\n",
    "T = to_sparse_tensor(T)\n",
    "\n",
    "dev_matrix = dok_matrix((len(dev), len(train_vocab)), dtype = np.int64)\n",
    "for i in range(len(dev)):\n",
    "    text = dev.iloc[i,0]\n",
    "    list_of_words = better_tokenize(text)\n",
    "    for word in list_of_words:\n",
    "        if word in train_vocab:\n",
    "            dev_matrix[i,train_vocab.index(word)] +=1\n",
    "\n",
    "dev_matrix = to_sparse_tensor(dev_matrix)\n",
    "y = torch.Tensor(train.sarcastic)\n",
    "\n",
    "\n",
    "loss_vector = []\n",
    "f1_list = []\n",
    "steps = 0\n",
    "rng_jesus = np.arange(T.shape[0])\n",
    "np.random.shuffle(rng_jesus)\n",
    "for i in range(1000):\n",
    "    steps+=1\n",
    "    model.train()\n",
    "\n",
    "    #random row\n",
    "    index = rng_jesus[i]\n",
    "\n",
    "    #data\n",
    "    x_sample = T[index]\n",
    "    y_sample = y[index]\n",
    "\n",
    "    # zero gradients\n",
    "    optimizer.zero_grad()\n",
    "\n",
    "    #Forward pass\n",
    "    y_hat = model(x_sample)\n",
    "\n",
    "\n",
    "\n",
    "    #compute loss..\n",
    "    loss = criterion(y_hat.squeeze(), y_sample)\n",
    "\n",
    "\n",
    "    #Backward step\n",
    "    loss.backward()\n",
    "\n",
    "    if steps % 50 == 0:\n",
    "        model.eval()\n",
    "\n",
    "        with torch.no_grad():\n",
    "            #append the loss vector\n",
    "            #loss_vector.append(loss.item())\n",
    "            y_hat = model(dev_matrix)\n",
    "            loss = criterion(y_hat.squeeze(), torch.Tensor(dev.sarcastic))\n",
    "            loss_vector.append(loss.item())\n",
    "            f1_list.append(f1_score(y_hat.round().squeeze(), torch.Tensor(dev.sarcastic)))\n",
    "\n",
    "\n",
    "\n",
    "\n",
    "    optimizer.step()\n",
    "    # Update loss vector\n",
    "        \n"
   ]
  },
  {
   "cell_type": "code",
   "execution_count": 332,
   "metadata": {},
   "outputs": [
    {
     "data": {
      "image/png": "[encoded data removed]",
      "text/plain": [
       "<Figure size 432x288 with 1 Axes>"
      ]
     },
     "metadata": {
      "needs_background": "light"
     },
     "output_type": "display_data"
    }
   ],
   "source": [
    "sns.lineplot(loss_vector)\n",
    "plt.title('Loss Vector After 1000 steps')\n",
    "plt.ylabel ('Loss')\n",
    "plt.xlabel('Iterations of 50 Steps')\n",
    "plt.show()"
   ]
  },
  {
   "attachments": {},
   "cell_type": "markdown",
   "metadata": {},
   "source": [
    "Once you’re satisfied that the model is working, train your model for at least 5 epochs and\n",
    "compute (and save) both (1) the loss every 1000 steps and (2) the F1 score of the model on\n",
    "the development data."
   ]
  },
  {
   "cell_type": "code",
   "execution_count": 337,
   "metadata": {},
   "outputs": [
    {
     "name": "stderr",
     "output_type": "stream",
     "text": [
      "100%|██████████| 3467/3467 [00:02<00:00, 1256.12it/s]\n",
      "100%|██████████| 5/5 [00:01<00:00,  3.27it/s]\n"
     ]
    }
   ],
   "source": [
    "# let's get this thing up and running!\n",
    "model = LogisticRegression(input_dim= T.shape[1],\n",
    "                            output_dim= 1)\n",
    "\n",
    "# define loss function\n",
    "criterion = nn.BCELoss()\n",
    "\n",
    "# define optimizer\n",
    "optimizer = torch.optim.SGD(model.parameters(), lr = 1e-2)\n",
    "\n",
    "T = dok_matrix((len(train), len(train_vocab)), dtype=int)\n",
    "\n",
    "for i in tqdm(range(len(train))):\n",
    "    #get the text for specific row\n",
    "    text_set = set(train.text.loc[i])\n",
    "\n",
    "    for j in range(len(train_vocab)):\n",
    "\n",
    "        word = train_vocab[j]\n",
    "        if word in text_set:\n",
    "\n",
    "            T[i, j] += 1    # Update element\n",
    "\n",
    "\n",
    "T = to_sparse_tensor(T)\n",
    "\n",
    "dev_matrix = dok_matrix((len(dev), len(train_vocab)), dtype = np.int64)\n",
    "for i in range(len(dev)):\n",
    "    text = dev.iloc[i,0]\n",
    "    list_of_words = better_tokenize(text)\n",
    "    for word in list_of_words:\n",
    "        if word in train_vocab:\n",
    "            dev_matrix[i,train_vocab.index(word)] +=1\n",
    "\n",
    "dev_matrix = to_sparse_tensor(dev_matrix)\n",
    "y = torch.Tensor(train.sarcastic)\n",
    "loss_vector = []\n",
    "f1_list = []\n",
    "for i in tqdm(range(5)):\n",
    "\n",
    "    steps = 0\n",
    "    rng_jesus = np.arange(T.shape[0])\n",
    "    np.random.shuffle(rng_jesus)\n",
    "    for i in range(1000):\n",
    "        steps+=1\n",
    "        model.train()\n",
    "\n",
    "        #random row\n",
    "        index = rng_jesus[i]\n",
    "\n",
    "        #data\n",
    "        x_sample = T[index]\n",
    "        y_sample = y[index]\n",
    "\n",
    "        # zero gradients\n",
    "        optimizer.zero_grad()\n",
    "\n",
    "        #Forward pass\n",
    "        y_hat = model(x_sample)\n",
    "\n",
    "\n",
    "\n",
    "        #compute loss..\n",
    "        loss = criterion(y_hat.squeeze(), y_sample)\n",
    "\n",
    "\n",
    "        #Backward step\n",
    "        loss.backward()\n",
    "\n",
    "        if steps % 50 == 0:\n",
    "            model.eval()\n",
    "\n",
    "            with torch.no_grad():\n",
    "                #append the loss vector\n",
    "                #loss_vector.append(loss.item())\n",
    "                y_hat = model(dev_matrix)\n",
    "                loss = criterion(y_hat.squeeze(), torch.Tensor(dev.sarcastic))\n",
    "                loss_vector.append(loss.item())\n",
    "                f1_list.append(f1_score(y_hat.round().squeeze(), torch.Tensor(dev.sarcastic)))\n",
    "\n",
    "\n",
    "\n",
    "\n",
    "        optimizer.step()\n",
    "        # Update loss vector\n",
    "        \n"
   ]
  },
  {
   "cell_type": "code",
   "execution_count": 342,
   "metadata": {},
   "outputs": [
    {
     "data": {
      "image/png": "[encoded data removed]",
      "text/plain": [
       "<Figure size 432x288 with 1 Axes>"
      ]
     },
     "metadata": {
      "needs_background": "light"
     },
     "output_type": "display_data"
    }
   ],
   "source": [
    "sns.lineplot(loss_vector)\n",
    "plt.title('Loss Vector After 1000 steps, 5 epochs')\n",
    "plt.ylabel ('Loss')\n",
    "plt.xlabel('Iterations of 50 Steps')\n",
    "plt.show()"
   ]
  },
  {
   "cell_type": "code",
   "execution_count": 343,
   "metadata": {},
   "outputs": [
    {
     "data": {
      "image/png": "[encoded data removed]",
      "text/plain": [
       "<Figure size 432x288 with 1 Axes>"
      ]
     },
     "metadata": {
      "needs_background": "light"
     },
     "output_type": "display_data"
    }
   ],
   "source": [
    "sns.lineplot(f1_list)\n",
    "plt.title('F1 Score After 1000 steps, 5 epochs')\n",
    "plt.ylabel ('F1 Score')\n",
    "plt.xlabel('Iterations of 50 Steps')\n",
    "plt.show()"
   ]
  },
  {
   "attachments": {},
   "cell_type": "markdown",
   "metadata": {},
   "source": [
    "Let’s see what are the effects of adding regularization. PyTorch builds in regularization\n",
    "through the weight decay argument to most Optimizer classes (including the one you\n",
    "use, SGD. Let’s see what the effect is for setting the L2 penalty to 0 (default), 0.001, and 0.1.\n",
    "For each L2 penalty value, train the model for 1 epoch total and plot the loss and F1 score\n",
    "on the development set every 50 steps using one line for each L2 value (use separate plots\n",
    "for F1 vs. Loss). In a few sentences, describe what you see: What effect does L2 have on\n",
    "the convergence speed and overall model performance?"
   ]
  },
  {
   "cell_type": "code",
   "execution_count": 387,
   "metadata": {},
   "outputs": [],
   "source": [
    "# let's get this thing up and running!\n",
    "model = LogisticRegression(input_dim= T.shape[1],\n",
    "                            output_dim= 1)\n",
    "\n",
    "# define loss function\n",
    "criterion = nn.BCELoss()\n",
    "\n",
    "# define optimizer\n",
    "optimizer = torch.optim.SGD(model.parameters(), lr = 1e-2, weight_decay= 0.001)\n",
    "\n",
    "loss_vector_0001 = []\n",
    "f1_list_0001 = []\n",
    "\n",
    "\n",
    "steps = 0\n",
    "rng_jesus = np.arange(T.shape[0])\n",
    "np.random.shuffle(rng_jesus)\n",
    "for i in range(T.shape[0]):\n",
    "    steps+=1\n",
    "    model.train()\n",
    "\n",
    "    #random row\n",
    "    index = rng_jesus[i]\n",
    "\n",
    "    #data\n",
    "    x_sample = T[index]\n",
    "    y_sample = y[index]\n",
    "\n",
    "    # zero gradients\n",
    "    optimizer.zero_grad()\n",
    "\n",
    "    #Forward pass\n",
    "    y_hat = model(x_sample)\n",
    "\n",
    "\n",
    "\n",
    "    #compute loss..\n",
    "    loss = criterion(y_hat.squeeze(), y_sample)\n",
    "\n",
    "\n",
    "    #Backward step\n",
    "    loss.backward()\n",
    "\n",
    "    if steps % 50 == 0:\n",
    "        model.eval()\n",
    "\n",
    "        with torch.no_grad():\n",
    "            #append the loss vector\n",
    "            #loss_vector.append(loss.item())\n",
    "            y_hat = model(dev_matrix)\n",
    "            loss = criterion(y_hat.squeeze(), torch.Tensor(dev.sarcastic))\n",
    "            loss_vector_0001.append(loss.item())\n",
    "            f1_list_0001.append(f1_score(y_hat.round().squeeze(), torch.Tensor(dev.sarcastic)))\n",
    "\n",
    "\n",
    "\n",
    "\n",
    "    optimizer.step()\n",
    "    # Update loss vector\n",
    "    \n"
   ]
  },
  {
   "cell_type": "code",
   "execution_count": 388,
   "metadata": {},
   "outputs": [],
   "source": [
    "# let's get this thing up and running!\n",
    "model = LogisticRegression(input_dim= T.shape[1],\n",
    "                            output_dim= 1)\n",
    "\n",
    "# define loss function\n",
    "criterion = nn.BCELoss()\n",
    "\n",
    "# define optimizer\n",
    "optimizer = torch.optim.SGD(model.parameters(), lr = 1e-2, weight_decay= 0)\n",
    "\n",
    "loss_vector_0 = []\n",
    "f1_list_0 = []\n",
    "\n",
    "\n",
    "steps = 0\n",
    "rng_jesus = np.arange(T.shape[0])\n",
    "np.random.shuffle(rng_jesus)\n",
    "for i in range(T.shape[0]):\n",
    "    steps+=1\n",
    "    model.train()\n",
    "\n",
    "    #random row\n",
    "    index = rng_jesus[i]\n",
    "\n",
    "    #data\n",
    "    x_sample = T[index]\n",
    "    y_sample = y[index]\n",
    "\n",
    "    # zero gradients\n",
    "    optimizer.zero_grad()\n",
    "\n",
    "    #Forward pass\n",
    "    y_hat = model(x_sample)\n",
    "\n",
    "\n",
    "\n",
    "    #compute loss..\n",
    "    loss = criterion(y_hat.squeeze(), y_sample)\n",
    "\n",
    "\n",
    "    #Backward step\n",
    "    loss.backward()\n",
    "\n",
    "    if steps % 50 == 0:\n",
    "        model.eval()\n",
    "\n",
    "        with torch.no_grad():\n",
    "            #append the loss vector\n",
    "            #loss_vector.append(loss.item())\n",
    "            y_hat = model(dev_matrix)\n",
    "            loss = criterion(y_hat.squeeze(), torch.Tensor(dev.sarcastic))\n",
    "            loss_vector_0.append(loss.item())\n",
    "            f1_list_0.append(f1_score(y_hat.round().squeeze(), torch.Tensor(dev.sarcastic)))\n",
    "\n",
    "\n",
    "\n",
    "\n",
    "    optimizer.step()\n",
    "    # Update loss vector\n",
    "    \n"
   ]
  },
  {
   "cell_type": "code",
   "execution_count": 389,
   "metadata": {},
   "outputs": [],
   "source": [
    "# let's get this thing up and running!\n",
    "model = LogisticRegression(input_dim= T.shape[1],\n",
    "                            output_dim= 1)\n",
    "\n",
    "# define loss function\n",
    "criterion = nn.BCELoss()\n",
    "\n",
    "# define optimizer\n",
    "optimizer = torch.optim.SGD(model.parameters(), lr = 1e-2, weight_decay= 0.1)\n",
    "\n",
    "\n",
    "loss_vector_01 = []\n",
    "f1_list_01 = []\n",
    "\n",
    "\n",
    "steps = 0\n",
    "rng_jesus = np.arange(T.shape[0])\n",
    "np.random.shuffle(rng_jesus)\n",
    "for i in range(T.shape[0]):\n",
    "    steps+=1\n",
    "    model.train()\n",
    "\n",
    "    #random row\n",
    "    index = rng_jesus[i]\n",
    "\n",
    "    #data\n",
    "    x_sample = T[index]\n",
    "    y_sample = y[index]\n",
    "\n",
    "    # zero gradients\n",
    "    optimizer.zero_grad()\n",
    "\n",
    "    #Forward pass\n",
    "    y_hat = model(x_sample)\n",
    "\n",
    "\n",
    "\n",
    "    #compute loss..\n",
    "    loss = criterion(y_hat.squeeze(), y_sample)\n",
    "\n",
    "\n",
    "    #Backward step\n",
    "    loss.backward()\n",
    "\n",
    "    if steps % 50 == 0:\n",
    "        model.eval()\n",
    "\n",
    "        with torch.no_grad():\n",
    "            #append the loss vector\n",
    "            #loss_vector.append(loss.item())\n",
    "            y_hat = model(dev_matrix)\n",
    "            loss = criterion(y_hat.squeeze(), torch.Tensor(dev.sarcastic))\n",
    "            loss_vector_01.append(loss.item())\n",
    "            f1_list_01.append(f1_score(y_hat.round().squeeze(), torch.Tensor(dev.sarcastic)))\n",
    "\n",
    "\n",
    "\n",
    "\n",
    "    optimizer.step()\n",
    "    # Update loss vector\n",
    "    \n"
   ]
  },
  {
   "cell_type": "code",
   "execution_count": 392,
   "metadata": {},
   "outputs": [
    {
     "data": {
      "text/plain": [
       "69"
      ]
     },
     "execution_count": 392,
     "metadata": {},
     "output_type": "execute_result"
    }
   ],
   "source": []
  },
  {
   "cell_type": "code",
   "execution_count": 393,
   "metadata": {},
   "outputs": [
    {
     "data": {
      "text/html": [
       "<div>\n",
       "<style scoped>\n",
       "    .dataframe tbody tr th:only-of-type {\n",
       "        vertical-align: middle;\n",
       "    }\n",
       "\n",
       "    .dataframe tbody tr th {\n",
       "        vertical-align: top;\n",
       "    }\n",
       "\n",
       "    .dataframe thead th {\n",
       "        text-align: right;\n",
       "    }\n",
       "</style>\n",
       "<table border=\"1\" class=\"dataframe\">\n",
       "  <thead>\n",
       "    <tr style=\"text-align: right;\">\n",
       "      <th></th>\n",
       "      <th>Loss</th>\n",
       "      <th>F1</th>\n",
       "      <th>Decay</th>\n",
       "      <th>Iter</th>\n",
       "    </tr>\n",
       "  </thead>\n",
       "  <tbody>\n",
       "    <tr>\n",
       "      <th>0</th>\n",
       "      <td>0.652708</td>\n",
       "      <td>0.0</td>\n",
       "      <td>0</td>\n",
       "      <td>0</td>\n",
       "    </tr>\n",
       "    <tr>\n",
       "      <th>1</th>\n",
       "      <td>0.613423</td>\n",
       "      <td>0.0</td>\n",
       "      <td>0</td>\n",
       "      <td>1</td>\n",
       "    </tr>\n",
       "    <tr>\n",
       "      <th>2</th>\n",
       "      <td>0.575095</td>\n",
       "      <td>0.0</td>\n",
       "      <td>0</td>\n",
       "      <td>2</td>\n",
       "    </tr>\n",
       "    <tr>\n",
       "      <th>3</th>\n",
       "      <td>0.556834</td>\n",
       "      <td>0.0</td>\n",
       "      <td>0</td>\n",
       "      <td>3</td>\n",
       "    </tr>\n",
       "    <tr>\n",
       "      <th>4</th>\n",
       "      <td>0.535353</td>\n",
       "      <td>0.0</td>\n",
       "      <td>0</td>\n",
       "      <td>4</td>\n",
       "    </tr>\n",
       "  </tbody>\n",
       "</table>\n",
       "</div>"
      ],
      "text/plain": [
       "       Loss   F1 Decay  Iter\n",
       "0  0.652708  0.0     0     0\n",
       "1  0.613423  0.0     0     1\n",
       "2  0.575095  0.0     0     2\n",
       "3  0.556834  0.0     0     3\n",
       "4  0.535353  0.0     0     4"
      ]
     },
     "execution_count": 393,
     "metadata": {},
     "output_type": "execute_result"
    }
   ],
   "source": [
    "decay_df = pd.DataFrame()\n",
    "\n",
    "decay_df['Loss'] = (loss_vector_0 + loss_vector_01 + loss_vector_0001)\n",
    "decay_df['F1'] = f1_list_0 + f1_list_01 + f1_list_0001\n",
    "decay_df['Decay'] = [\"0\"] * 69 + [\"0.1\"] * 69 + ['0.001'] * 69\n",
    "decay_df['Iter'] = list(range(69)) * 3\n",
    "decay_df.head()"
   ]
  },
  {
   "cell_type": "code",
   "execution_count": 394,
   "metadata": {},
   "outputs": [
    {
     "data": {
      "image/png": "[encoded data removed]",
      "text/plain": [
       "<Figure size 432x288 with 1 Axes>"
      ]
     },
     "metadata": {
      "needs_background": "light"
     },
     "output_type": "display_data"
    }
   ],
   "source": [
    "(sns.lineplot(data = decay_df, x = \"Iter\", y = \"Loss\" , hue = \"Decay\")\n",
    "        .set_title('Difference in Losses for different decay rates'))\n",
    "plt.show()"
   ]
  },
  {
   "cell_type": "code",
   "execution_count": 395,
   "metadata": {},
   "outputs": [
    {
     "data": {
      "image/png": "[encoded data removed]",
      "text/plain": [
       "<Figure size 432x288 with 1 Axes>"
      ]
     },
     "metadata": {
      "needs_background": "light"
     },
     "output_type": "display_data"
    }
   ],
   "source": [
    "(sns.lineplot(data = decay_df, x = \"Iter\", y = \"F1\" , hue = \"Decay\")\n",
    "        .set_title('Difference in F1 scores for different decay rates'))\n",
    "plt.show()"
   ]
  },
  {
   "attachments": {},
   "cell_type": "markdown",
   "metadata": {},
   "source": [
    "PyTorch has more than just the SGD optimizer. Recall that SGD takes a step with respect\n",
    "to the gradient using the learning rate to scale how big of a step to take. But what if we\n",
    "11\n",
    "used more than just the gradient? For example, could we keep a bit of momentum to keep\n",
    "our gradient heading in the same direction? Many new optimizers have been proposed and\n",
    "PyTorch keeps implementations of the more successful ones. The big benefit of a better\n",
    "optimizer is that it helps the model learn faster. Since some of our big models may take\n",
    "hours to converge, having the optimizer reduce the training time to under an hour can be a\n",
    "huge time and environmental benefit. For this step, replace your SGD optimizer with two\n",
    "other common alternatives RMSprop and AdamW. For each optimizer, train the model for 1\n",
    "epoch total and plot the loss and F1 score on the development set every 50 steps using one\n",
    "line per optimizer (use separate plots for F1 vs. Loss). In a few sentences, describe what\n",
    "you see: What effect does the choice in optimizer have on the convergence speed and overall\n",
    "model performance?"
   ]
  },
  {
   "cell_type": "code",
   "execution_count": 396,
   "metadata": {},
   "outputs": [],
   "source": [
    "# let's get this thing up and running!\n",
    "model = LogisticRegression(input_dim= T.shape[1],\n",
    "                            output_dim= 1)\n",
    "\n",
    "# define loss function\n",
    "criterion = nn.BCELoss()\n",
    "\n",
    "# define optimizer\n",
    "optimizer = torch.optim.AdamW(model.parameters(), lr = 1e-2 )\n",
    "\n",
    "loss_vector_adamw = []\n",
    "f1_list_adamw = []\n",
    "\n",
    "\n",
    "steps = 0\n",
    "rng_jesus = np.arange(T.shape[0])\n",
    "np.random.shuffle(rng_jesus)\n",
    "for i in range(T.shape[0]):\n",
    "    steps+=1\n",
    "    model.train()\n",
    "\n",
    "    #random row\n",
    "    index = rng_jesus[i]\n",
    "\n",
    "    #data\n",
    "    x_sample = T[index]\n",
    "    y_sample = y[index]\n",
    "\n",
    "    # zero gradients\n",
    "    optimizer.zero_grad()\n",
    "\n",
    "    #Forward pass\n",
    "    y_hat = model(x_sample)\n",
    "\n",
    "\n",
    "\n",
    "    #compute loss..\n",
    "    loss = criterion(y_hat.squeeze(), y_sample)\n",
    "\n",
    "\n",
    "    #Backward step\n",
    "    loss.backward()\n",
    "\n",
    "    if steps % 50 == 0:\n",
    "        model.eval()\n",
    "\n",
    "        with torch.no_grad():\n",
    "            #append the loss vector\n",
    "            #loss_vector.append(loss.item())\n",
    "            y_hat = model(dev_matrix)\n",
    "            loss = criterion(y_hat.squeeze(), torch.Tensor(dev.sarcastic))\n",
    "            loss_vector_adamw.append(loss.item())\n",
    "            f1_list_adamw.append(f1_score(y_hat.round().squeeze(), torch.Tensor(dev.sarcastic)))\n",
    "\n",
    "\n",
    "\n",
    "\n",
    "    optimizer.step()\n",
    "    # Update loss vector\n",
    "    \n"
   ]
  },
  {
   "cell_type": "code",
   "execution_count": 397,
   "metadata": {},
   "outputs": [],
   "source": [
    "# let's get this thing up and running!\n",
    "model = LogisticRegression(input_dim= T.shape[1],\n",
    "                            output_dim= 1)\n",
    "\n",
    "# define loss function\n",
    "criterion = nn.BCELoss()\n",
    "\n",
    "# define optimizer\n",
    "optimizer = torch.optim.RMSprop(model.parameters(), lr = 1e-2 )\n",
    "\n",
    "loss_vector_rmsprop = []\n",
    "f1_list_rmsprop = []\n",
    "\n",
    "\n",
    "steps = 0\n",
    "rng_jesus = np.arange(T.shape[0])\n",
    "np.random.shuffle(rng_jesus)\n",
    "for i in range(T.shape[0]):\n",
    "    steps+=1\n",
    "    model.train()\n",
    "\n",
    "    #random row\n",
    "    index = rng_jesus[i]\n",
    "\n",
    "    #data\n",
    "    x_sample = T[index]\n",
    "    y_sample = y[index]\n",
    "\n",
    "    # zero gradients\n",
    "    optimizer.zero_grad()\n",
    "\n",
    "    #Forward pass\n",
    "    y_hat = model(x_sample)\n",
    "\n",
    "\n",
    "\n",
    "    #compute loss..\n",
    "    loss = criterion(y_hat.squeeze(), y_sample)\n",
    "\n",
    "\n",
    "    #Backward step\n",
    "    loss.backward()\n",
    "\n",
    "    if steps % 50 == 0:\n",
    "        model.eval()\n",
    "\n",
    "        with torch.no_grad():\n",
    "            #append the loss vector\n",
    "            #loss_vector.append(loss.item())\n",
    "            y_hat = model(dev_matrix)\n",
    "            loss = criterion(y_hat.squeeze(), torch.Tensor(dev.sarcastic))\n",
    "            loss_vector_rmsprop.append(loss.item())\n",
    "            f1_list_rmsprop.append(f1_score(y_hat.round().squeeze(), torch.Tensor(dev.sarcastic)))\n",
    "\n",
    "\n",
    "\n",
    "\n",
    "    optimizer.step()\n",
    "    # Update loss vector\n",
    "    \n"
   ]
  },
  {
   "cell_type": "code",
   "execution_count": 399,
   "metadata": {},
   "outputs": [
    {
     "data": {
      "text/html": [
       "<div>\n",
       "<style scoped>\n",
       "    .dataframe tbody tr th:only-of-type {\n",
       "        vertical-align: middle;\n",
       "    }\n",
       "\n",
       "    .dataframe tbody tr th {\n",
       "        vertical-align: top;\n",
       "    }\n",
       "\n",
       "    .dataframe thead th {\n",
       "        text-align: right;\n",
       "    }\n",
       "</style>\n",
       "<table border=\"1\" class=\"dataframe\">\n",
       "  <thead>\n",
       "    <tr style=\"text-align: right;\">\n",
       "      <th></th>\n",
       "      <th>Loss</th>\n",
       "      <th>F1</th>\n",
       "      <th>optim</th>\n",
       "      <th>Iter</th>\n",
       "    </tr>\n",
       "  </thead>\n",
       "  <tbody>\n",
       "    <tr>\n",
       "      <th>0</th>\n",
       "      <td>0.590345</td>\n",
       "      <td>0.0</td>\n",
       "      <td>AdamW</td>\n",
       "      <td>0</td>\n",
       "    </tr>\n",
       "    <tr>\n",
       "      <th>1</th>\n",
       "      <td>0.519855</td>\n",
       "      <td>0.0</td>\n",
       "      <td>AdamW</td>\n",
       "      <td>1</td>\n",
       "    </tr>\n",
       "    <tr>\n",
       "      <th>2</th>\n",
       "      <td>0.504871</td>\n",
       "      <td>0.0</td>\n",
       "      <td>AdamW</td>\n",
       "      <td>2</td>\n",
       "    </tr>\n",
       "    <tr>\n",
       "      <th>3</th>\n",
       "      <td>0.481034</td>\n",
       "      <td>0.0</td>\n",
       "      <td>AdamW</td>\n",
       "      <td>3</td>\n",
       "    </tr>\n",
       "    <tr>\n",
       "      <th>4</th>\n",
       "      <td>0.477061</td>\n",
       "      <td>0.0</td>\n",
       "      <td>AdamW</td>\n",
       "      <td>4</td>\n",
       "    </tr>\n",
       "  </tbody>\n",
       "</table>\n",
       "</div>"
      ],
      "text/plain": [
       "       Loss   F1  optim  Iter\n",
       "0  0.590345  0.0  AdamW     0\n",
       "1  0.519855  0.0  AdamW     1\n",
       "2  0.504871  0.0  AdamW     2\n",
       "3  0.481034  0.0  AdamW     3\n",
       "4  0.477061  0.0  AdamW     4"
      ]
     },
     "execution_count": 399,
     "metadata": {},
     "output_type": "execute_result"
    }
   ],
   "source": [
    "optim_df = pd.DataFrame()\n",
    "\n",
    "optim_df['Loss'] = (loss_vector_adamw + loss_vector_rmsprop )\n",
    "optim_df['F1'] = f1_list_adamw + f1_list_rmsprop \n",
    "optim_df['optim'] = [\"AdamW\"] * 69 + [\"RMSProp\"] * 69 \n",
    "optim_df['Iter'] = list(range(69)) * 2\n",
    "optim_df.head()"
   ]
  },
  {
   "cell_type": "code",
   "execution_count": 439,
   "metadata": {},
   "outputs": [
    {
     "data": {
      "image/png": "[encoded data removed]",
      "text/plain": [
       "<Figure size 432x288 with 1 Axes>"
      ]
     },
     "metadata": {
      "needs_background": "light"
     },
     "output_type": "display_data"
    }
   ],
   "source": [
    "(sns.lineplot(data = optim_df, x = \"Iter\", y = \"Loss\" , hue = \"optim\")\n",
    "        .set_title('Difference in Losses for different Optimizers'))\n",
    "plt.show()"
   ]
  },
  {
   "cell_type": "code",
   "execution_count": 438,
   "metadata": {},
   "outputs": [
    {
     "data": {
      "image/png": "[encoded data removed]",
      "text/plain": [
       "<Figure size 432x288 with 1 Axes>"
      ]
     },
     "metadata": {
      "needs_background": "light"
     },
     "output_type": "display_data"
    }
   ],
   "source": [
    "(sns.lineplot(data = optim_df, x = \"Iter\", y = \"F1\" , hue = \"optim\")\n",
    "        .set_title('Difference in F1 scores for different Optimizers'))\n",
    "plt.show()"
   ]
  },
  {
   "attachments": {},
   "cell_type": "markdown",
   "metadata": {},
   "source": [
    "We had two methods for tokenizing. Does one method perform better in practice here? Train\n",
    "your model in the basic setting (using SGD, no L2 loss) for 1 epoch and plot the loss and F1\n",
    "score on the development set every 50 steps using one line per optimizer (use separate plots\n",
    "for F1 vs. Loss). In a few sentences, describe what you see: what effect does tokenization\n",
    "have on the overall model performance?"
   ]
  },
  {
   "cell_type": "code",
   "execution_count": 403,
   "metadata": {},
   "outputs": [],
   "source": [
    "# better tokenize\n",
    "model = LogisticRegression(input_dim= T.shape[1],\n",
    "                            output_dim= 1)\n",
    "\n",
    "# define loss function\n",
    "criterion = nn.BCELoss()\n",
    "\n",
    "# define optimizer\n",
    "optimizer = torch.optim.SGD(model.parameters(), lr = 1e-2 )\n",
    "\n",
    "loss_vector_better_token = []\n",
    "f1_list_better_token = []\n",
    "\n",
    "\n",
    "steps = 0\n",
    "rng_jesus = np.arange(T.shape[0])\n",
    "np.random.shuffle(rng_jesus)\n",
    "for i in range(T.shape[0]):\n",
    "    steps+=1\n",
    "    model.train()\n",
    "\n",
    "    #random row\n",
    "    index = rng_jesus[i]\n",
    "\n",
    "    #data\n",
    "    x_sample = T[index]\n",
    "    y_sample = y[index]\n",
    "\n",
    "    # zero gradients\n",
    "    optimizer.zero_grad()\n",
    "\n",
    "    #Forward pass\n",
    "    y_hat = model(x_sample)\n",
    "\n",
    "\n",
    "\n",
    "    #compute loss..\n",
    "    loss = criterion(y_hat.squeeze(), y_sample)\n",
    "\n",
    "\n",
    "    #Backward step\n",
    "    loss.backward()\n",
    "\n",
    "    if steps % 50 == 0:\n",
    "        model.eval()\n",
    "\n",
    "        with torch.no_grad():\n",
    "            #append the loss vector\n",
    "            #loss_vector.append(loss.item())\n",
    "            y_hat = model(dev_matrix)\n",
    "            loss = criterion(y_hat.squeeze(), torch.Tensor(dev.sarcastic))\n",
    "            loss_vector_better_token.append(loss.item())\n",
    "            f1_list_better_token.append(f1_score(y_hat.round().squeeze(), torch.Tensor(dev.sarcastic)))\n",
    "\n",
    "\n",
    "\n",
    "\n",
    "    optimizer.step()\n",
    "    # Update loss vector\n",
    "    \n"
   ]
  },
  {
   "cell_type": "code",
   "execution_count": 427,
   "metadata": {},
   "outputs": [
    {
     "name": "stderr",
     "output_type": "stream",
     "text": [
      "100%|██████████| 3467/3467 [00:03<00:00, 1020.04it/s]\n"
     ]
    }
   ],
   "source": [
    "\n",
    "\n",
    "new_train = pd.read_csv('si630w23-hw1.train.csv')\n",
    "new_train.text = new_train.text.apply(tokenize)\n",
    "train_vocab_all_single_token = functools.reduce(operator.iconcat, \n",
    "                list(new_train.text), [])\n",
    "\n",
    "\n",
    "c = Counter(train_vocab_all_single_token)\n",
    "to_remove = {x for x, i in c.items() if i < 2}\n",
    "train_vocab_single = list(set(train_vocab_all_single_token) - to_remove)\n",
    "len(train_vocab_single)\n",
    "\n",
    "Q = dok_matrix((len(new_train), len(train_vocab_single)), dtype=int)\n",
    "\n",
    "for i in tqdm(range(len(new_train))):\n",
    "    #get the text for specific row\n",
    "    text_set = set(new_train.text.loc[i])\n",
    "\n",
    "    for j in range(len(train_vocab_single)):\n",
    "\n",
    "        word = train_vocab_single[j]\n",
    "        if word in text_set:\n",
    "\n",
    "            Q[i, j] += 1    # Update element\n",
    "    \n",
    "\n",
    "Q = to_sparse_tensor(Q)\n",
    "\n",
    "# let's get this thing up and running!\n",
    "model = LogisticRegression(input_dim= Q.shape[1],\n",
    "                            output_dim= 1)\n",
    "\n",
    "# define loss function\n",
    "criterion = nn.BCELoss()\n",
    "\n",
    "# define optimizer\n",
    "optimizer = torch.optim.SGD(model.parameters(), lr = 1e-2,\n",
    "\n",
    "\n",
    "dev_matrix_tokenize = dok_matrix((len(dev), len(train_vocab_single)), dtype = np.int64)\n",
    "for i in range(len(dev)):\n",
    "    text = dev.iloc[i,0]\n",
    "    list_of_words = tokenize(text)\n",
    "    for word in list_of_words:\n",
    "        if word in train_vocab_single:\n",
    "            dev_matrix_tokenize[i,train_vocab_single.index(word)] +=1\n",
    "\n",
    "dev_matrix_tokenize = to_sparse_tensor(dev_matrix_tokenize)\n",
    "\n",
    "loss_vector_tokenize = []\n",
    "f1_list_tokenize = []\n",
    "\n",
    "\n",
    "steps = 0\n",
    "rng_jesus = np.arange(Q.shape[0])\n",
    "np.random.shuffle(rng_jesus)\n",
    "for i in range(Q.shape[0]):\n",
    "    steps+=1\n",
    "    model.train()\n",
    "\n",
    "    #random row\n",
    "    index = rng_jesus[i]\n",
    "\n",
    "    #data\n",
    "    x_sample = Q[index]\n",
    "    y_sample = y[index]\n",
    "\n",
    "    # zero gradients\n",
    "    optimizer.zero_grad()\n",
    "\n",
    "    #Forward pass\n",
    "    y_hat = model(x_sample)\n",
    "\n",
    "\n",
    "\n",
    "    #compute loss..\n",
    "    loss = criterion(y_hat.squeeze(), y_sample)\n",
    "\n",
    "\n",
    "    #Backward step\n",
    "    loss.backward()\n",
    "\n",
    "    if steps % 50 == 0:\n",
    "        model.eval()\n",
    "\n",
    "        with torch.no_grad():\n",
    "            #append the loss vector\n",
    "            #loss_vector.append(loss.item())\n",
    "            y_hat = model(dev_matrix_tokenize)\n",
    "            loss = criterion(y_hat.squeeze(), torch.Tensor(dev.sarcastic))\n",
    "            loss_vector_tokenize.append(loss.item())\n",
    "            f1_list_tokenize.append(f1_score(y_hat.round().squeeze(), torch.Tensor(dev.sarcastic)))\n",
    "\n",
    "\n",
    "\n",
    "\n",
    "    optimizer.step()\n",
    "    # Update loss vector"
   ]
  },
  {
   "cell_type": "code",
   "execution_count": 441,
   "metadata": {},
   "outputs": [
    {
     "data": {
      "text/html": [
       "<div>\n",
       "<style scoped>\n",
       "    .dataframe tbody tr th:only-of-type {\n",
       "        vertical-align: middle;\n",
       "    }\n",
       "\n",
       "    .dataframe tbody tr th {\n",
       "        vertical-align: top;\n",
       "    }\n",
       "\n",
       "    .dataframe thead th {\n",
       "        text-align: right;\n",
       "    }\n",
       "</style>\n",
       "<table border=\"1\" class=\"dataframe\">\n",
       "  <thead>\n",
       "    <tr style=\"text-align: right;\">\n",
       "      <th></th>\n",
       "      <th>Loss</th>\n",
       "      <th>F1</th>\n",
       "      <th>Method</th>\n",
       "      <th>Iter</th>\n",
       "    </tr>\n",
       "  </thead>\n",
       "  <tbody>\n",
       "    <tr>\n",
       "      <th>0</th>\n",
       "      <td>0.602702</td>\n",
       "      <td>0.0</td>\n",
       "      <td>Tokenize</td>\n",
       "      <td>0</td>\n",
       "    </tr>\n",
       "    <tr>\n",
       "      <th>1</th>\n",
       "      <td>0.566541</td>\n",
       "      <td>0.0</td>\n",
       "      <td>Tokenize</td>\n",
       "      <td>1</td>\n",
       "    </tr>\n",
       "    <tr>\n",
       "      <th>2</th>\n",
       "      <td>0.554477</td>\n",
       "      <td>0.0</td>\n",
       "      <td>Tokenize</td>\n",
       "      <td>2</td>\n",
       "    </tr>\n",
       "    <tr>\n",
       "      <th>3</th>\n",
       "      <td>0.545514</td>\n",
       "      <td>0.0</td>\n",
       "      <td>Tokenize</td>\n",
       "      <td>3</td>\n",
       "    </tr>\n",
       "    <tr>\n",
       "      <th>4</th>\n",
       "      <td>0.553126</td>\n",
       "      <td>0.0</td>\n",
       "      <td>Tokenize</td>\n",
       "      <td>4</td>\n",
       "    </tr>\n",
       "  </tbody>\n",
       "</table>\n",
       "</div>"
      ],
      "text/plain": [
       "       Loss   F1    Method  Iter\n",
       "0  0.602702  0.0  Tokenize     0\n",
       "1  0.566541  0.0  Tokenize     1\n",
       "2  0.554477  0.0  Tokenize     2\n",
       "3  0.545514  0.0  Tokenize     3\n",
       "4  0.553126  0.0  Tokenize     4"
      ]
     },
     "execution_count": 441,
     "metadata": {},
     "output_type": "execute_result"
    }
   ],
   "source": [
    "tokenize_df = pd.DataFrame()\n",
    "\n",
    "tokenize_df['Loss'] = (loss_vector_tokenize + loss_vector_better_token )\n",
    "tokenize_df['F1'] = f1_list_tokenize + f1_list_better_token \n",
    "tokenize_df['Method'] = [\"Tokenize\"] * 69 + [\"Better Tokenize\"] * 69 \n",
    "tokenize_df['Iter'] = list(range(69)) * 2\n",
    "tokenize_df.head()"
   ]
  },
  {
   "cell_type": "code",
   "execution_count": 442,
   "metadata": {},
   "outputs": [
    {
     "data": {
      "image/png": "[encoded data removed]",
      "text/plain": [
       "<Figure size 432x288 with 1 Axes>"
      ]
     },
     "metadata": {
      "needs_background": "light"
     },
     "output_type": "display_data"
    }
   ],
   "source": [
    "(sns.lineplot(data = tokenize_df, x = \"Iter\", y = \"Loss\", hue= \"Method\" )\n",
    "        .set_title('Difference in Losses for different Tokenizers'))\n",
    "plt.show()"
   ]
  },
  {
   "cell_type": "code",
   "execution_count": 443,
   "metadata": {},
   "outputs": [
    {
     "data": {
      "image/png": "[encoded data removed]",
      "text/plain": [
       "<Figure size 432x288 with 1 Axes>"
      ]
     },
     "metadata": {
      "needs_background": "light"
     },
     "output_type": "display_data"
    }
   ],
   "source": [
    "(sns.lineplot(data = tokenize_df, x = \"Iter\", y = \"F1\", hue= \"Method\" )\n",
    "        .set_title('Difference in F1 score for different Tokenizers'))\n",
    "plt.show()"
   ]
  },
  {
   "attachments": {},
   "cell_type": "markdown",
   "metadata": {},
   "source": [
    "What effect does the learning rate have on our model’s convergence? Using the basic setup\n",
    "with SGD, change the lr argument (i.e., learning rate) to a much larger and much smaller\n",
    "value and for 1 epoch and plot the loss and F1 score on the development set every 50 steps\n",
    "using one line per lr value. Plot all three curves together and describe what you observe:\n",
    "what effect does the learning rate have on the model’s convergence speed? You’re welcome\n",
    "(encouraged, even!) to try additional learning rates. If your model converges quickly, you\n",
    "can also reduce the number of steps between evaluation for this question."
   ]
  },
  {
   "cell_type": "code",
   "execution_count": 445,
   "metadata": {},
   "outputs": [],
   "source": [
    "\n",
    "model = LogisticRegression(input_dim= T.shape[1],\n",
    "                            output_dim= 1)\n",
    "\n",
    "# define loss function\n",
    "criterion = nn.BCELoss()\n",
    "\n",
    "# define optimizer\n",
    "optimizer = torch.optim.SGD(model.parameters(), lr = 1e-1 )\n",
    "\n",
    "loss_vector_1e1 = []\n",
    "f1_list_1e1 = []\n",
    "\n",
    "\n",
    "steps = 0\n",
    "rng_jesus = np.arange(T.shape[0])\n",
    "np.random.shuffle(rng_jesus)\n",
    "for i in range(T.shape[0]):\n",
    "    steps+=1\n",
    "    model.train()\n",
    "\n",
    "    #random row\n",
    "    index = rng_jesus[i]\n",
    "\n",
    "    #data\n",
    "    x_sample = T[index]\n",
    "    y_sample = y[index]\n",
    "\n",
    "    # zero gradients\n",
    "    optimizer.zero_grad()\n",
    "\n",
    "    #Forward pass\n",
    "    y_hat = model(x_sample)\n",
    "\n",
    "\n",
    "\n",
    "    #compute loss..\n",
    "    loss = criterion(y_hat.squeeze(), y_sample)\n",
    "\n",
    "\n",
    "    #Backward step\n",
    "    loss.backward()\n",
    "\n",
    "    if steps % 50 == 0:\n",
    "        model.eval()\n",
    "\n",
    "        with torch.no_grad():\n",
    "            #append the loss vector\n",
    "            #loss_vector.append(loss.item())\n",
    "            y_hat = model(dev_matrix)\n",
    "            loss = criterion(y_hat.squeeze(), torch.Tensor(dev.sarcastic))\n",
    "            loss_vector_1e1.append(loss.item())\n",
    "            f1_list_1e1.append(f1_score(y_hat.round().squeeze(), torch.Tensor(dev.sarcastic)))\n",
    "\n",
    "\n",
    "\n",
    "\n",
    "    optimizer.step()\n",
    "    # Update loss vector\n",
    "    \n"
   ]
  },
  {
   "cell_type": "code",
   "execution_count": 447,
   "metadata": {},
   "outputs": [],
   "source": [
    "# let's get this thing up and running!\n",
    "model = LogisticRegression(input_dim= T.shape[1],\n",
    "                            output_dim= 1)\n",
    "\n",
    "# define loss function\n",
    "criterion = nn.BCELoss()\n",
    "\n",
    "# define optimizer\n",
    "optimizer = torch.optim.SGD(model.parameters(), lr = 1e-3 )\n",
    "\n",
    "loss_vector_1e3 = []\n",
    "f1_list_1e3 = []\n",
    "\n",
    "\n",
    "steps = 0\n",
    "rng_jesus = np.arange(T.shape[0])\n",
    "np.random.shuffle(rng_jesus)\n",
    "for i in range(T.shape[0]):\n",
    "    steps+=1\n",
    "    model.train()\n",
    "\n",
    "    #random row\n",
    "    index = rng_jesus[i]\n",
    "\n",
    "    #data\n",
    "    x_sample = T[index]\n",
    "    y_sample = y[index]\n",
    "\n",
    "    # zero gradients\n",
    "    optimizer.zero_grad()\n",
    "\n",
    "    #Forward pass\n",
    "    y_hat = model(x_sample)\n",
    "\n",
    "\n",
    "\n",
    "    #compute loss..\n",
    "    loss = criterion(y_hat.squeeze(), y_sample)\n",
    "\n",
    "\n",
    "    #Backward step\n",
    "    loss.backward()\n",
    "\n",
    "    if steps % 50 == 0:\n",
    "        model.eval()\n",
    "\n",
    "        with torch.no_grad():\n",
    "            #append the loss vector\n",
    "            #loss_vector.append(loss.item())\n",
    "            y_hat = model(dev_matrix)\n",
    "            loss = criterion(y_hat.squeeze(), torch.Tensor(dev.sarcastic))\n",
    "            loss_vector_1e3.append(loss.item())\n",
    "            f1_list_1e3.append(f1_score(y_hat.round().squeeze(), torch.Tensor(dev.sarcastic)))\n",
    "\n",
    "\n",
    "\n",
    "\n",
    "    optimizer.step()\n",
    "    # Update loss vector\n",
    "    \n"
   ]
  },
  {
   "cell_type": "code",
   "execution_count": 449,
   "metadata": {},
   "outputs": [
    {
     "data": {
      "text/html": [
       "<div>\n",
       "<style scoped>\n",
       "    .dataframe tbody tr th:only-of-type {\n",
       "        vertical-align: middle;\n",
       "    }\n",
       "\n",
       "    .dataframe tbody tr th {\n",
       "        vertical-align: top;\n",
       "    }\n",
       "\n",
       "    .dataframe thead th {\n",
       "        text-align: right;\n",
       "    }\n",
       "</style>\n",
       "<table border=\"1\" class=\"dataframe\">\n",
       "  <thead>\n",
       "    <tr style=\"text-align: right;\">\n",
       "      <th></th>\n",
       "      <th>Loss</th>\n",
       "      <th>F1</th>\n",
       "      <th>Learning Rate</th>\n",
       "      <th>Iter</th>\n",
       "    </tr>\n",
       "  </thead>\n",
       "  <tbody>\n",
       "    <tr>\n",
       "      <th>0</th>\n",
       "      <td>0.652708</td>\n",
       "      <td>0.0</td>\n",
       "      <td>1e-2</td>\n",
       "      <td>0</td>\n",
       "    </tr>\n",
       "    <tr>\n",
       "      <th>1</th>\n",
       "      <td>0.613423</td>\n",
       "      <td>0.0</td>\n",
       "      <td>1e-2</td>\n",
       "      <td>1</td>\n",
       "    </tr>\n",
       "    <tr>\n",
       "      <th>2</th>\n",
       "      <td>0.575095</td>\n",
       "      <td>0.0</td>\n",
       "      <td>1e-2</td>\n",
       "      <td>2</td>\n",
       "    </tr>\n",
       "    <tr>\n",
       "      <th>3</th>\n",
       "      <td>0.556834</td>\n",
       "      <td>0.0</td>\n",
       "      <td>1e-2</td>\n",
       "      <td>3</td>\n",
       "    </tr>\n",
       "    <tr>\n",
       "      <th>4</th>\n",
       "      <td>0.535353</td>\n",
       "      <td>0.0</td>\n",
       "      <td>1e-2</td>\n",
       "      <td>4</td>\n",
       "    </tr>\n",
       "  </tbody>\n",
       "</table>\n",
       "</div>"
      ],
      "text/plain": [
       "       Loss   F1 Learning Rate  Iter\n",
       "0  0.652708  0.0          1e-2     0\n",
       "1  0.613423  0.0          1e-2     1\n",
       "2  0.575095  0.0          1e-2     2\n",
       "3  0.556834  0.0          1e-2     3\n",
       "4  0.535353  0.0          1e-2     4"
      ]
     },
     "execution_count": 449,
     "metadata": {},
     "output_type": "execute_result"
    }
   ],
   "source": [
    "lr_df = pd.DataFrame()\n",
    "\n",
    "lr_df['Loss'] = (loss_vector_0 + loss_vector_1e1 + loss_vector_1e3 )\n",
    "lr_df['F1'] = f1_list_0 + f1_list_1e1 + f1_list_1e3\n",
    "lr_df['Learning Rate'] = [\"1e-2\"] * 69 + [\"1e-1\"] * 69 + [\"1e-3\"]*69\n",
    "lr_df['Iter'] = list(range(69)) * 3\n",
    "lr_df.head()"
   ]
  },
  {
   "cell_type": "code",
   "execution_count": 450,
   "metadata": {},
   "outputs": [
    {
     "data": {
      "image/png": "[encoded data removed]",
      "text/plain": [
       "<Figure size 432x288 with 1 Axes>"
      ]
     },
     "metadata": {
      "needs_background": "light"
     },
     "output_type": "display_data"
    }
   ],
   "source": [
    "(sns.lineplot(data = lr_df, x = \"Iter\", y = \"Loss\", hue= \"Learning Rate\" )\n",
    "        .set_title('Difference in Losses for different Tokenizers'))\n",
    "plt.show()"
   ]
  },
  {
   "cell_type": "code",
   "execution_count": 451,
   "metadata": {},
   "outputs": [
    {
     "data": {
      "image/png": "[encoded data removed]",
      "text/plain": [
       "<Figure size 432x288 with 1 Axes>"
      ]
     },
     "metadata": {
      "needs_background": "light"
     },
     "output_type": "display_data"
    }
   ],
   "source": [
    "(sns.lineplot(data = lr_df, x = \"Iter\", y = \"F1\", hue= \"Learning Rate\" )\n",
    "        .set_title('Difference in Losses for different Tokenizers'))\n",
    "plt.show()"
   ]
  },
  {
   "attachments": {},
   "cell_type": "markdown",
   "metadata": {},
   "source": [
    "Finally, use your best model to generate prediction results and report the final F1 score. Don’t\n",
    "forget to upload your prediction results on Kaggle. Note that this is a separate competition\n",
    "so that you can compare your scores with the numpy version"
   ]
  },
  {
   "cell_type": "code",
   "execution_count": null,
   "metadata": {},
   "outputs": [],
   "source": [
    "# my two favorite models were the AdamW lr = 1e-2, SGD lr = 1e-1. Let's compare those f1 scores."
   ]
  },
  {
   "cell_type": "code",
   "execution_count": 453,
   "metadata": {},
   "outputs": [
    {
     "data": {
      "text/html": [
       "<div>\n",
       "<style scoped>\n",
       "    .dataframe tbody tr th:only-of-type {\n",
       "        vertical-align: middle;\n",
       "    }\n",
       "\n",
       "    .dataframe tbody tr th {\n",
       "        vertical-align: top;\n",
       "    }\n",
       "\n",
       "    .dataframe thead th {\n",
       "        text-align: right;\n",
       "    }\n",
       "</style>\n",
       "<table border=\"1\" class=\"dataframe\">\n",
       "  <thead>\n",
       "    <tr style=\"text-align: right;\">\n",
       "      <th></th>\n",
       "      <th>Loss</th>\n",
       "      <th>F1</th>\n",
       "      <th>Params</th>\n",
       "      <th>Iter</th>\n",
       "    </tr>\n",
       "  </thead>\n",
       "  <tbody>\n",
       "    <tr>\n",
       "      <th>0</th>\n",
       "      <td>0.590345</td>\n",
       "      <td>0.0</td>\n",
       "      <td>AdamW, 1e-2</td>\n",
       "      <td>0</td>\n",
       "    </tr>\n",
       "    <tr>\n",
       "      <th>1</th>\n",
       "      <td>0.519855</td>\n",
       "      <td>0.0</td>\n",
       "      <td>AdamW, 1e-2</td>\n",
       "      <td>1</td>\n",
       "    </tr>\n",
       "    <tr>\n",
       "      <th>2</th>\n",
       "      <td>0.504871</td>\n",
       "      <td>0.0</td>\n",
       "      <td>AdamW, 1e-2</td>\n",
       "      <td>2</td>\n",
       "    </tr>\n",
       "    <tr>\n",
       "      <th>3</th>\n",
       "      <td>0.481034</td>\n",
       "      <td>0.0</td>\n",
       "      <td>AdamW, 1e-2</td>\n",
       "      <td>3</td>\n",
       "    </tr>\n",
       "    <tr>\n",
       "      <th>4</th>\n",
       "      <td>0.477061</td>\n",
       "      <td>0.0</td>\n",
       "      <td>AdamW, 1e-2</td>\n",
       "      <td>4</td>\n",
       "    </tr>\n",
       "  </tbody>\n",
       "</table>\n",
       "</div>"
      ],
      "text/plain": [
       "       Loss   F1       Params  Iter\n",
       "0  0.590345  0.0  AdamW, 1e-2     0\n",
       "1  0.519855  0.0  AdamW, 1e-2     1\n",
       "2  0.504871  0.0  AdamW, 1e-2     2\n",
       "3  0.481034  0.0  AdamW, 1e-2     3\n",
       "4  0.477061  0.0  AdamW, 1e-2     4"
      ]
     },
     "execution_count": 453,
     "metadata": {},
     "output_type": "execute_result"
    }
   ],
   "source": [
    "final_comp_df = pd.DataFrame()\n",
    "\n",
    "final_comp_df['Loss'] = (loss_vector_adamw + loss_vector_1e1)\n",
    "final_comp_df['F1'] = f1_list_adamw + f1_list_1e1 \n",
    "final_comp_df['Params'] = [\"AdamW, 1e-2\"] * 69 + [\"SGD, 1e-1\"] * 69 \n",
    "final_comp_df['Iter'] = list(range(69)) * 2\n",
    "final_comp_df.head()"
   ]
  },
  {
   "cell_type": "code",
   "execution_count": 455,
   "metadata": {},
   "outputs": [
    {
     "data": {
      "image/png": "[encoded data removed]",
      "text/plain": [
       "<Figure size 432x288 with 1 Axes>"
      ]
     },
     "metadata": {
      "needs_background": "light"
     },
     "output_type": "display_data"
    }
   ],
   "source": [
    "(sns.lineplot(data = final_comp_df, x = \"Iter\", y = \"F1\", hue= \"Params\" )\n",
    "        .set_title('Difference in Losses for Different Parameters'))\n",
    "plt.show()"
   ]
  },
  {
   "attachments": {},
   "cell_type": "markdown",
   "metadata": {},
   "source": [
    "They're pretty close, but I prefer the SGD with the 1e-1 learning rate. That is overall higher than the AdamW one."
   ]
  },
  {
   "attachments": {},
   "cell_type": "markdown",
   "metadata": {},
   "source": [
    "Time to make the predictions! "
   ]
  },
  {
   "cell_type": "code",
   "execution_count": 457,
   "metadata": {},
   "outputs": [
    {
     "data": {
      "text/html": [
       "<div>\n",
       "<style scoped>\n",
       "    .dataframe tbody tr th:only-of-type {\n",
       "        vertical-align: middle;\n",
       "    }\n",
       "\n",
       "    .dataframe tbody tr th {\n",
       "        vertical-align: top;\n",
       "    }\n",
       "\n",
       "    .dataframe thead th {\n",
       "        text-align: right;\n",
       "    }\n",
       "</style>\n",
       "<table border=\"1\" class=\"dataframe\">\n",
       "  <thead>\n",
       "    <tr style=\"text-align: right;\">\n",
       "      <th></th>\n",
       "      <th>text</th>\n",
       "    </tr>\n",
       "  </thead>\n",
       "  <tbody>\n",
       "    <tr>\n",
       "      <th>0</th>\n",
       "      <td>Size on the the Toulouse team, That pack is mo...</td>\n",
       "    </tr>\n",
       "    <tr>\n",
       "      <th>1</th>\n",
       "      <td>Pinball!</td>\n",
       "    </tr>\n",
       "    <tr>\n",
       "      <th>2</th>\n",
       "      <td>So the Scottish Government want people to get ...</td>\n",
       "    </tr>\n",
       "    <tr>\n",
       "      <th>3</th>\n",
       "      <td>villainous pro tip : change the device name on...</td>\n",
       "    </tr>\n",
       "    <tr>\n",
       "      <th>4</th>\n",
       "      <td>I would date any of these men 🥺</td>\n",
       "    </tr>\n",
       "  </tbody>\n",
       "</table>\n",
       "</div>"
      ],
      "text/plain": [
       "                                                text\n",
       "0  Size on the the Toulouse team, That pack is mo...\n",
       "1                                           Pinball!\n",
       "2  So the Scottish Government want people to get ...\n",
       "3  villainous pro tip : change the device name on...\n",
       "4                    I would date any of these men 🥺"
      ]
     },
     "execution_count": 457,
     "metadata": {},
     "output_type": "execute_result"
    }
   ],
   "source": [
    "\n",
    "test = pd.read_csv('si630w23-hw1.test.csv')\n",
    "test.head()"
   ]
  },
  {
   "cell_type": "code",
   "execution_count": 458,
   "metadata": {},
   "outputs": [],
   "source": [
    "test_matrix = dok_matrix((len(test), len(train_vocab)), dtype = np.int64)\n",
    "for i in range(len(test)):\n",
    "    text = test.iloc[i,0]\n",
    "    list_of_words = better_tokenize(text)\n",
    "    for word in list_of_words:\n",
    "        if word in train_vocab:\n",
    "            test_matrix[i,train_vocab.index(word)] +=1\n",
    "\n",
    "test_matrix = to_sparse_tensor(test_matrix)\n",
    "\n",
    "model = LogisticRegression(input_dim= T.shape[1],\n",
    "                            output_dim= 1)\n",
    "\n",
    "# define loss function\n",
    "criterion = nn.BCELoss()\n",
    "\n",
    "# define optimizer\n",
    "optimizer = torch.optim.SGD(model.parameters(), lr = 1e-1 )\n",
    "\n",
    "\n",
    "y_hat = model(test_matrix)\n",
    "\n"
   ]
  },
  {
   "cell_type": "code",
   "execution_count": 462,
   "metadata": {},
   "outputs": [],
   "source": [
    "test_predictions = [1 if word >= 0.5 else 0 for word in y_hat]\n"
   ]
  },
  {
   "cell_type": "code",
   "execution_count": 470,
   "metadata": {},
   "outputs": [],
   "source": [
    "test_preds = pd.DataFrame()\n",
    "test_preds['Index'] = list(range(len(test_predictions)))\n",
    "test_preds['prediction'] = test_predictions\n",
    "test_preds.to_csv('test_predictions.csv')"
   ]
  }
 ],
 "metadata": {
  "kernelspec": {
   "display_name": "Python 3",
   "language": "python",
   "name": "python3"
  },
  "language_info": {
   "codemirror_mode": {
    "name": "ipython",
    "version": 3
   },
   "file_extension": ".py",
   "mimetype": "text/x-python",
   "name": "python",
   "nbconvert_exporter": "python",
   "pygments_lexer": "ipython3",
   "version": "3.9.0"
  },
  "orig_nbformat": 4,
  "vscode": {
   "interpreter": {
    "hash": "aee8b7b246df8f9039afb4144a1f6fd8d2ca17a180786b69acc140d282b71a49"
   }
  }
 },
 "nbformat": 4,
 "nbformat_minor": 2
}
