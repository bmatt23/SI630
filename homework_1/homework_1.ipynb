{
 "cells": [
  {
   "cell_type": "code",
   "execution_count": 55,
   "metadata": {},
   "outputs": [],
   "source": [
    "import pandas as pd\n",
    "import numpy as np\n",
    "import regex as re\n",
    "from tqdm import tqdm\n",
    "import functools\n",
    "import operator\n",
    "import math\n",
    "import nltk\n",
    "from nltk.corpus import stopwords\n",
    "from collections import Counter, defaultdict\n",
    "from scipy.sparse import dok_matrix\n",
    "import matplotlib.pyplot as plt\n",
    "import seaborn as sns\n",
    "from sklearn.metrics import f1_score\n",
    "import torch\n",
    "import torch.nn as nn\n",
    "import torch.nn.functional as F\n",
    "import torch.optim as optim\n"
   ]
  },
  {
   "cell_type": "code",
   "execution_count": 4,
   "metadata": {},
   "outputs": [],
   "source": [
    "def tokenize(words):\n",
    "    '''Takes in a string and tokenizes it by whitespace,\n",
    "and returns a list of tokens.\n",
    "    '''\n",
    "    return words.split(' ')"
   ]
  },
  {
   "cell_type": "code",
   "execution_count": 5,
   "metadata": {},
   "outputs": [
    {
     "data": {
      "text/plain": [
       "['hi', 'i', 'am', 'brendan']"
      ]
     },
     "execution_count": 5,
     "metadata": {},
     "output_type": "execute_result"
    }
   ],
   "source": [
    "# A test of our first function\n",
    "tokenize('hi i am brendan')"
   ]
  },
  {
   "attachments": {},
   "cell_type": "markdown",
   "metadata": {},
   "source": [
    "It looks like it would work for simple sentences, but having different punctuations and cases would be a tough look. Let's see if it would fail with the sentence \"Good, that is good.\""
   ]
  },
  {
   "cell_type": "code",
   "execution_count": 6,
   "metadata": {},
   "outputs": [
    {
     "data": {
      "text/plain": [
       "['Good,', 'I', 'am', 'good.']"
      ]
     },
     "execution_count": 6,
     "metadata": {},
     "output_type": "execute_result"
    }
   ],
   "source": [
    "tokenize('Good, I am good.')"
   ]
  },
  {
   "attachments": {},
   "cell_type": "markdown",
   "metadata": {},
   "source": [
    "Issues are capitalization and punctuation. Let's try to fix those in the tokenize.better function. Also, we want to keep apostrophes because of possible possessive words and contractions. Also, removing stop words might be important because those don't contribute to our analysis at all! "
   ]
  },
  {
   "cell_type": "code",
   "execution_count": 7,
   "metadata": {},
   "outputs": [],
   "source": [
    "def better_tokenize(words):\n",
    "    '''\n",
    "    The difference here is that I am using regex to get rid of all punctuation,\n",
    "    except apostrophe and then making everything lowercase. \n",
    "    Only then can I split based on the whitespace. Basically the \n",
    "    regex says sub everything that's not whitespace\n",
    "    and alphanumeric or apostrophe with nothing. Then drop stop words\n",
    "    '''\n",
    "    stopper = stopwords.words('english')\n",
    "    words = re.sub(r\"[^\\w\\d'\\s]\", '', words ).lower().split(' ')\n",
    "    return [word for word in words if word not in stopper]\n",
    "    \n"
   ]
  },
  {
   "attachments": {},
   "cell_type": "markdown",
   "metadata": {},
   "source": [
    "Now to test it on the first line of the bee movie for fun"
   ]
  },
  {
   "cell_type": "code",
   "execution_count": 8,
   "metadata": {},
   "outputs": [
    {
     "data": {
      "text/plain": [
       "['according', 'known', 'laws', 'aviation', 'way', 'bee', 'able', 'fly']"
      ]
     },
     "execution_count": 8,
     "metadata": {},
     "output_type": "execute_result"
    }
   ],
   "source": [
    "better_tokenize(\"According to all known laws of aviation, there is no way a bee should be able to fly.\")"
   ]
  },
  {
   "attachments": {},
   "cell_type": "markdown",
   "metadata": {},
   "source": [
    "Looks like it works, it took the important words out of that phrase!"
   ]
  },
  {
   "cell_type": "code",
   "execution_count": null,
   "metadata": {},
   "outputs": [],
   "source": []
  },
  {
   "attachments": {},
   "cell_type": "markdown",
   "metadata": {},
   "source": [
    "Time to make the Scipy Sparse Matrix!"
   ]
  },
  {
   "cell_type": "code",
   "execution_count": 9,
   "metadata": {},
   "outputs": [],
   "source": [
    "practice_str = \"My Name is Brendan, and I am a person, a person who knows his name\"\n",
    "# so basically, if the sparse matrix has min freq of 2, we should see \n",
    "# person and name in our sparse matrix."
   ]
  },
  {
   "attachments": {},
   "cell_type": "markdown",
   "metadata": {},
   "source": [
    "It might be useful to use our tokenize function here to parse this sentence"
   ]
  },
  {
   "cell_type": "code",
   "execution_count": 10,
   "metadata": {},
   "outputs": [
    {
     "data": {
      "text/plain": [
       "['name', 'brendan', 'person', 'person', 'knows', 'name']"
      ]
     },
     "execution_count": 10,
     "metadata": {},
     "output_type": "execute_result"
    }
   ],
   "source": [
    "better_tokenize(practice_str)"
   ]
  },
  {
   "attachments": {},
   "cell_type": "markdown",
   "metadata": {},
   "source": [
    "So we can see that this picked up on name and person, as we predicted"
   ]
  },
  {
   "attachments": {},
   "cell_type": "markdown",
   "metadata": {},
   "source": [
    "Now, to use the Counter functionality to count how much a specific word occurs"
   ]
  },
  {
   "cell_type": "code",
   "execution_count": 11,
   "metadata": {},
   "outputs": [
    {
     "data": {
      "text/plain": [
       "Counter({'name': 2, 'brendan': 1, 'person': 2, 'knows': 1})"
      ]
     },
     "execution_count": 11,
     "metadata": {},
     "output_type": "execute_result"
    }
   ],
   "source": [
    "Counter(better_tokenize(practice_str))"
   ]
  },
  {
   "attachments": {},
   "cell_type": "markdown",
   "metadata": {},
   "source": [
    "Since the code only wants occurences of 2+, let's just keep those"
   ]
  },
  {
   "cell_type": "code",
   "execution_count": 12,
   "metadata": {},
   "outputs": [
    {
     "data": {
      "text/plain": [
       "2"
      ]
     },
     "execution_count": 12,
     "metadata": {},
     "output_type": "execute_result"
    }
   ],
   "source": [
    "Counter(better_tokenize(practice_str))['name']"
   ]
  },
  {
   "cell_type": "code",
   "execution_count": 13,
   "metadata": {},
   "outputs": [
    {
     "data": {
      "text/plain": [
       "Counter({'name': 2, 'brendan': 1, 'person': 2, 'knows': 1})"
      ]
     },
     "execution_count": 13,
     "metadata": {},
     "output_type": "execute_result"
    }
   ],
   "source": [
    "Counter(better_tokenize(practice_str))"
   ]
  },
  {
   "cell_type": "code",
   "execution_count": 14,
   "metadata": {},
   "outputs": [],
   "source": [
    "counts = defaultdict(int)\n",
    "wordcounts = Counter(better_tokenize(practice_str))\n",
    "for word in set(wordcounts):\n",
    "    if wordcounts[word] >= 2:\n",
    "        counts[word] += wordcounts[word]"
   ]
  },
  {
   "cell_type": "code",
   "execution_count": 15,
   "metadata": {},
   "outputs": [
    {
     "data": {
      "text/html": [
       "<div>\n",
       "<style scoped>\n",
       "    .dataframe tbody tr th:only-of-type {\n",
       "        vertical-align: middle;\n",
       "    }\n",
       "\n",
       "    .dataframe tbody tr th {\n",
       "        vertical-align: top;\n",
       "    }\n",
       "\n",
       "    .dataframe thead th {\n",
       "        text-align: right;\n",
       "    }\n",
       "</style>\n",
       "<table border=\"1\" class=\"dataframe\">\n",
       "  <thead>\n",
       "    <tr style=\"text-align: right;\">\n",
       "      <th></th>\n",
       "      <th>text</th>\n",
       "      <th>sarcastic</th>\n",
       "    </tr>\n",
       "  </thead>\n",
       "  <tbody>\n",
       "    <tr>\n",
       "      <th>0</th>\n",
       "      <td>[thing, got, college, caffeine, addiction]</td>\n",
       "      <td>1</td>\n",
       "    </tr>\n",
       "    <tr>\n",
       "      <th>1</th>\n",
       "      <td>[love, professors, draw, big, question, mark, ...</td>\n",
       "      <td>1</td>\n",
       "    </tr>\n",
       "    <tr>\n",
       "      <th>2</th>\n",
       "      <td>[remember, hundred, emails, companies, covid, ...</td>\n",
       "      <td>1</td>\n",
       "    </tr>\n",
       "    <tr>\n",
       "      <th>3</th>\n",
       "      <td>[today, poppop, told, forced, go, college, , o...</td>\n",
       "      <td>1</td>\n",
       "    </tr>\n",
       "    <tr>\n",
       "      <th>4</th>\n",
       "      <td>[volphancarol, littlewhitty, mysticalmanatee, ...</td>\n",
       "      <td>1</td>\n",
       "    </tr>\n",
       "    <tr>\n",
       "      <th>...</th>\n",
       "      <td>...</td>\n",
       "      <td>...</td>\n",
       "    </tr>\n",
       "    <tr>\n",
       "      <th>3462</th>\n",
       "      <td>[population, spike, chicago, 9, months, ridicu...</td>\n",
       "      <td>0</td>\n",
       "    </tr>\n",
       "    <tr>\n",
       "      <th>3463</th>\n",
       "      <td>[think, second, last, english, class, year, pr...</td>\n",
       "      <td>0</td>\n",
       "    </tr>\n",
       "    <tr>\n",
       "      <th>3464</th>\n",
       "      <td>[im, finally, surfacing, holiday, scotland, di...</td>\n",
       "      <td>0</td>\n",
       "    </tr>\n",
       "    <tr>\n",
       "      <th>3465</th>\n",
       "      <td>[prouder, today, well, done, every, student, g...</td>\n",
       "      <td>0</td>\n",
       "    </tr>\n",
       "    <tr>\n",
       "      <th>3466</th>\n",
       "      <td>[overheard, 13, year, old, games, friend, 'you...</td>\n",
       "      <td>0</td>\n",
       "    </tr>\n",
       "  </tbody>\n",
       "</table>\n",
       "<p>3467 rows × 2 columns</p>\n",
       "</div>"
      ],
      "text/plain": [
       "                                                   text  sarcastic\n",
       "0            [thing, got, college, caffeine, addiction]          1\n",
       "1     [love, professors, draw, big, question, mark, ...          1\n",
       "2     [remember, hundred, emails, companies, covid, ...          1\n",
       "3     [today, poppop, told, forced, go, college, , o...          1\n",
       "4     [volphancarol, littlewhitty, mysticalmanatee, ...          1\n",
       "...                                                 ...        ...\n",
       "3462  [population, spike, chicago, 9, months, ridicu...          0\n",
       "3463  [think, second, last, english, class, year, pr...          0\n",
       "3464  [im, finally, surfacing, holiday, scotland, di...          0\n",
       "3465  [prouder, today, well, done, every, student, g...          0\n",
       "3466  [overheard, 13, year, old, games, friend, 'you...          0\n",
       "\n",
       "[3467 rows x 2 columns]"
      ]
     },
     "execution_count": 15,
     "metadata": {},
     "output_type": "execute_result"
    }
   ],
   "source": [
    "train = pd.read_csv('si630w23-hw1.train.csv')\n",
    "train.text = train.text.apply(better_tokenize)\n",
    "train"
   ]
  },
  {
   "attachments": {},
   "cell_type": "markdown",
   "metadata": {},
   "source": [
    "Generate a list of unique words in the training set for our vocab"
   ]
  },
  {
   "cell_type": "code",
   "execution_count": 16,
   "metadata": {},
   "outputs": [
    {
     "data": {
      "text/plain": [
       "37174"
      ]
     },
     "execution_count": 16,
     "metadata": {},
     "output_type": "execute_result"
    }
   ],
   "source": [
    "train_vocab_all = functools.reduce(operator.iconcat, \n",
    "                list(train['text']), [])\n",
    "len(train_vocab_all)"
   ]
  },
  {
   "cell_type": "code",
   "execution_count": 409,
   "metadata": {},
   "outputs": [
    {
     "data": {
      "text/plain": [
       "3844"
      ]
     },
     "execution_count": 409,
     "metadata": {},
     "output_type": "execute_result"
    }
   ],
   "source": [
    "c = Counter(train_vocab_all)\n",
    "to_remove = {x for x, i in c.items() if i < 2}\n",
    "train_vocab = list(set(train_vocab_all) - to_remove)\n",
    "len(train_vocab)"
   ]
  },
  {
   "cell_type": "code",
   "execution_count": 18,
   "metadata": {},
   "outputs": [
    {
     "name": "stderr",
     "output_type": "stream",
     "text": [
      "100%|██████████| 3467/3467 [00:03<00:00, 1058.49it/s]\n"
     ]
    }
   ],
   "source": [
    "S = dok_matrix((len(train), len(train_vocab)+1), dtype=int)\n",
    "\n",
    "for i in tqdm(range(len(train))):\n",
    "    #get the text for specific row\n",
    "    text_set = set(train.text.loc[i])\n",
    "\n",
    "    for j in range(len(train_vocab)):\n",
    "\n",
    "        word = train_vocab[j]\n",
    "        if word in text_set:\n",
    "\n",
    "            S[i, j] += 1    # Update element\n",
    "    # add bias term\n",
    "    S[i,len(train_vocab)] += 1"
   ]
  },
  {
   "attachments": {},
   "cell_type": "markdown",
   "metadata": {},
   "source": [
    "How many items in our matrix are ones?"
   ]
  },
  {
   "cell_type": "code",
   "execution_count": 19,
   "metadata": {},
   "outputs": [
    {
     "data": {
      "text/plain": [
       "32211"
      ]
     },
     "execution_count": 19,
     "metadata": {},
     "output_type": "execute_result"
    }
   ],
   "source": [
    "S.sum()"
   ]
  },
  {
   "cell_type": "code",
   "execution_count": 20,
   "metadata": {},
   "outputs": [
    {
     "data": {
      "text/plain": [
       "0.002416946221352085"
      ]
     },
     "execution_count": 20,
     "metadata": {},
     "output_type": "execute_result"
    }
   ],
   "source": [
    "S.sum()/(len(train)*len(train_vocab))"
   ]
  },
  {
   "attachments": {},
   "cell_type": "markdown",
   "metadata": {},
   "source": [
    "** Part 2 **"
   ]
  },
  {
   "cell_type": "code",
   "execution_count": 21,
   "metadata": {},
   "outputs": [],
   "source": [
    "def sigmoid(X):\n",
    "    return 1/(1+math.e**(-X))"
   ]
  },
  {
   "attachments": {},
   "cell_type": "markdown",
   "metadata": {},
   "source": [
    "Putting it all together, write a function logistic regression that takes in a\n",
    "– a matrix X where each row is a vector that has the features for that instance\n",
    "– a vector Y containing the class of the row\n",
    "– learning rate which is a parameter to control how much you change the β values\n",
    "each step\n",
    "– num step how many steps to update β before stopping"
   ]
  },
  {
   "cell_type": "code",
   "execution_count": 23,
   "metadata": {},
   "outputs": [
    {
     "data": {
      "text/plain": [
       "3845"
      ]
     },
     "execution_count": 23,
     "metadata": {},
     "output_type": "execute_result"
    }
   ],
   "source": [
    "S.shape[1]"
   ]
  },
  {
   "attachments": {},
   "cell_type": "markdown",
   "metadata": {},
   "source": [
    "From the scatterplot, it looks like it is consistenly moving in the right direction!"
   ]
  },
  {
   "attachments": {},
   "cell_type": "markdown",
   "metadata": {},
   "source": [
    "We can see that the model is inching towards the right direction -- the log likelihood is increasing every time. Now what if we try a stronger learning rate?"
   ]
  },
  {
   "cell_type": "code",
   "execution_count": 121,
   "metadata": {},
   "outputs": [],
   "source": [
    "#version 2 (so far)\n",
    "\n",
    "\n",
    "def log_likelihood_2(betas, data, is_sarcastic):\n",
    "    dot_product = data @ betas\n",
    "    # is_sarcastic is a vector with all the predictions\n",
    "    #data.T * (is_sarcastic - sigmoid(dot_product))\n",
    "    #multiply out to get a vector?\n",
    "    # sum of the vector\n",
    "    return sum(data.T * (is_sarcastic - sigmoid(data @ betas)))\n",
    "\n",
    "def compute_gradient_2(beta, xrow, truelabel):\n",
    "    dot_product = xrow @ beta\n",
    "    prediction = sigmoid(dot_product)\n",
    "    return (truelabel - prediction) * xrow\n",
    "    #scalar for direction for mistake, xrow how to change feature values\n",
    "\n",
    "\n",
    "def logisitic_regression_2(X, Y, learning_rate, num_step):\n",
    "    list_of_likelihoods = []\n",
    "    # establish betas as vector of zeros\n",
    "    betas = np.random.rand(X.shape[1])\n",
    "\n",
    "    #run this loop\n",
    "    for i in tqdm(range(num_step)):\n",
    "        #pick a random row\n",
    "        index = np.random.randint(X.shape[0])\n",
    "\n",
    "        #get the classification value from our Y\n",
    "        classification = Y[index]\n",
    "\n",
    "        loglikelihood = log_likelihood_2(betas,X, train.sarcastic)\n",
    "        gradient = compute_gradient_2(betas,X[index], classification)\n",
    "\n",
    "        #betas_to_change = [j for i,j in list(X[0].keys())]\n",
    "\n",
    "        list_of_likelihoods.append(loglikelihood)\n",
    "\n",
    "        \n",
    "        betas += (learning_rate * gradient)\n",
    "\n",
    "    return betas, list_of_likelihoods   \n"
   ]
  },
  {
   "cell_type": "code",
   "execution_count": 120,
   "metadata": {},
   "outputs": [
    {
     "data": {
      "text/plain": [
       "array([0.04214918, 0.20084244, 0.41348536, ..., 0.6339651 , 0.8501566 ,\n",
       "       0.44089808])"
      ]
     },
     "execution_count": 120,
     "metadata": {},
     "output_type": "execute_result"
    }
   ],
   "source": [
    "np.random.rand(S.shape[1])"
   ]
  },
  {
   "cell_type": "code",
   "execution_count": 479,
   "metadata": {},
   "outputs": [
    {
     "name": "stderr",
     "output_type": "stream",
     "text": [
      "100%|██████████| 1000/1000 [00:57<00:00, 17.39it/s]\n"
     ]
    }
   ],
   "source": [
    "X = S\n",
    "Y = train.sarcastic\n",
    "learning_rate = 5e-5\n",
    "num_step = 1000\n",
    "result = logisitic_regression_2(X, Y, learning_rate, num_step)\n"
   ]
  },
  {
   "cell_type": "code",
   "execution_count": 123,
   "metadata": {},
   "outputs": [
    {
     "data": {
      "text/plain": [
       "<matplotlib.collections.PathCollection at 0x15d88a040>"
      ]
     },
     "execution_count": 123,
     "metadata": {},
     "output_type": "execute_result"
    },
    {
     "data": {
      "image/png": "[encoded data removed]",
      "text/plain": [
       "<Figure size 432x288 with 1 Axes>"
      ]
     },
     "metadata": {
      "needs_background": "light"
     },
     "output_type": "display_data"
    }
   ],
   "source": [
    "plt.scatter(x = list(range(len(result[1][::50]))), y = result[1][::50])"
   ]
  },
  {
   "attachments": {},
   "cell_type": "markdown",
   "metadata": {},
   "source": [
    "It looks like this converges to 1 inevitably (I think this is good?) \n",
    "In the first graph, it doesn't converge quite yet, but I think that is because of the small learning rate."
   ]
  },
  {
   "attachments": {},
   "cell_type": "markdown",
   "metadata": {},
   "source": [
    "After training on the training data, use your logistic regression classifier to make predictions\n",
    "on the validation dataset and report your performance using the F1 score."
   ]
  },
  {
   "attachments": {},
   "cell_type": "markdown",
   "metadata": {},
   "source": [
    "First, we have to make the `predict` function.."
   ]
  },
  {
   "attachments": {},
   "cell_type": "markdown",
   "metadata": {},
   "source": [
    "given some new text, converts it to a vector (i.e., something\n",
    "like a row from X), and then uses the β vector to predict the class and returns the class label."
   ]
  },
  {
   "cell_type": "code",
   "execution_count": 485,
   "metadata": {},
   "outputs": [
    {
     "data": {
      "text/plain": [
       "14"
      ]
     },
     "execution_count": 485,
     "metadata": {},
     "output_type": "execute_result"
    }
   ],
   "source": [
    "sum(x*y for x,y in zip((1,2,3),(1,2,3)))"
   ]
  },
  {
   "cell_type": "code",
   "execution_count": 491,
   "metadata": {},
   "outputs": [
    {
     "data": {
      "text/plain": [
       "(3844,)"
      ]
     },
     "execution_count": 491,
     "metadata": {},
     "output_type": "execute_result"
    }
   ],
   "source": [
    "(np.zeros(len(train_vocab)) + np.ones(len(train_vocab))).shape"
   ]
  },
  {
   "cell_type": "code",
   "execution_count": 502,
   "metadata": {},
   "outputs": [],
   "source": [
    "betas = result[0]\n",
    "def predict(text, beta_vector = betas):\n",
    "    tokenized = better_tokenize(text)\n",
    "    indices_list = []\n",
    "    \n",
    "    for word in tokenized:\n",
    "        if word in train_vocab:\n",
    "            indices_list.append(train_vocab.index(word))\n",
    "    \n",
    "    betas_list = [betas[index] for index in indices_list]\n",
    "    \n",
    "    prob = (sigmoid(sum(betas_list)))\n",
    "    \n",
    "    \n",
    "    if prob >= 0.5:\n",
    "        return 1\n",
    "    elif prob < 0.5:\n",
    "        return 0 \n",
    "    "
   ]
  },
  {
   "attachments": {},
   "cell_type": "markdown",
   "metadata": {},
   "source": [
    "Let's tune this model up a little bit"
   ]
  },
  {
   "cell_type": "code",
   "execution_count": 124,
   "metadata": {},
   "outputs": [
    {
     "name": "stderr",
     "output_type": "stream",
     "text": [
      "100%|██████████| 5000/5000 [04:50<00:00, 17.20it/s]\n",
      "100%|██████████| 5000/5000 [04:51<00:00, 17.17it/s]\n",
      "100%|██████████| 5000/5000 [04:51<00:00, 17.13it/s]\n"
     ]
    }
   ],
   "source": [
    "X = S\n",
    "Y = train.sarcastic\n",
    "learning_rate_2 = 1e-6\n",
    "learning_rate_3 = 1e-4\n",
    "learning_rate_4 = 1e-2\n",
    "num_step = 5000\n",
    "result_2 = logisitic_regression_2(X, Y, learning_rate_2, num_step)\n",
    "result_3 = logisitic_regression_2(X, Y, learning_rate_3, num_step)\n",
    "result_4 = logisitic_regression_2(X, Y, learning_rate_4, num_step)"
   ]
  },
  {
   "attachments": {},
   "cell_type": "markdown",
   "metadata": {},
   "source": [
    "Now let's see how this log likelihood would change every 50"
   ]
  },
  {
   "cell_type": "code",
   "execution_count": 125,
   "metadata": {},
   "outputs": [
    {
     "data": {
      "image/png": "[encoded data removed]",
      "text/plain": [
       "<Figure size 432x288 with 1 Axes>"
      ]
     },
     "metadata": {
      "needs_background": "light"
     },
     "output_type": "display_data"
    }
   ],
   "source": [
    "for result in [result_2, result_3, result_4]:\n",
    "    plt.scatter(x = list(range(len(result[1][::50]))), y = result[1][::50])\n",
    "plt.title('How Learning Rate changes log likelihood')\n",
    "plt.xlabel('Group of 50 iterations')\n",
    "plt.ylabel('Log-likelihood')\n",
    "plt.legend(['1e-6','1e-4','1e-2'], loc = \"right\")\n",
    "plt.show()"
   ]
  },
  {
   "attachments": {},
   "cell_type": "markdown",
   "metadata": {},
   "source": [
    "I like the learning rate of 1e-2 a lot, let's see what happens when we mess with 1e-2, 5e-2, and 1e-1"
   ]
  },
  {
   "cell_type": "code",
   "execution_count": 132,
   "metadata": {},
   "outputs": [
    {
     "name": "stderr",
     "output_type": "stream",
     "text": [
      "100%|██████████| 5000/5000 [04:52<00:00, 17.09it/s]\n",
      "100%|██████████| 5000/5000 [04:52<00:00, 17.11it/s]\n"
     ]
    }
   ],
   "source": [
    "X = S\n",
    "Y = train.sarcastic\n",
    "learning_rate_5 = 1e-1\n",
    "learning_rate_6 = 5e-2\n",
    "num_step = 5000\n",
    "result_5 = logisitic_regression_2(X, Y, learning_rate_5, num_step)\n",
    "result_6 = logisitic_regression_2(X, Y, learning_rate_6, num_step)\n"
   ]
  },
  {
   "cell_type": "code",
   "execution_count": 134,
   "metadata": {},
   "outputs": [
    {
     "data": {
      "image/png": "[encoded data removed]",
      "text/plain": [
       "<Figure size 432x288 with 1 Axes>"
      ]
     },
     "metadata": {
      "needs_background": "light"
     },
     "output_type": "display_data"
    }
   ],
   "source": [
    "for result in [result_4, result_5, result_6]:\n",
    "    plt.scatter(x = list(range(len(result[1][::50]))), y = result[1][::50])\n",
    "plt.title('How Learning Rate changes log likelihood')\n",
    "plt.xlabel('Group of 50 iterations')\n",
    "plt.ylabel('Log-likelihood')\n",
    "plt.legend(['1e-2','5e-2','1e-1'], loc = \"right\")\n",
    "plt.show()"
   ]
  },
  {
   "attachments": {},
   "cell_type": "markdown",
   "metadata": {},
   "source": [
    "We can see here that the model improves radidly when the learning rate changes "
   ]
  },
  {
   "cell_type": "code",
   "execution_count": 503,
   "metadata": {},
   "outputs": [],
   "source": [
    "dev = pd.read_csv('si630w23-hw1.dev.csv')\n",
    "predictions = []\n",
    "for i in dev.text:\n",
    "    predictions.append(predict(i, beta_vector = result_5[0]))"
   ]
  },
  {
   "cell_type": "code",
   "execution_count": 509,
   "metadata": {},
   "outputs": [],
   "source": [
    "dev['predictions'] = predictions"
   ]
  },
  {
   "attachments": {},
   "cell_type": "markdown",
   "metadata": {},
   "source": [
    "Compute accuracy! Woohoo F1 score!"
   ]
  },
  {
   "cell_type": "code",
   "execution_count": 510,
   "metadata": {},
   "outputs": [
    {
     "data": {
      "text/plain": [
       "0.26625386996904027"
      ]
     },
     "execution_count": 510,
     "metadata": {},
     "output_type": "execute_result"
    }
   ],
   "source": [
    "f1_score(dev.sarcastic, dev.predictions)"
   ]
  },
  {
   "attachments": {},
   "cell_type": "markdown",
   "metadata": {},
   "source": [
    "Now for the test set for Kaggle"
   ]
  },
  {
   "cell_type": "code",
   "execution_count": 506,
   "metadata": {},
   "outputs": [],
   "source": [
    "test_preds_numpy = []\n",
    "test = pd.read_csv('si630w23-hw1.test.csv')\n",
    "for i in test.text:\n",
    "    test_preds_numpy.append(predict(i, beta_vector = result_5[0]))"
   ]
  },
  {
   "cell_type": "code",
   "execution_count": 507,
   "metadata": {},
   "outputs": [],
   "source": [
    "test_preds_np = pd.DataFrame()\n",
    "test_preds_np['index'] = list(range(len(test_preds_numpy)))\n",
    "test_preds_np['prediction'] = test_preds_numpy\n",
    "test_preds_np.set_index('index').to_csv('test_predictions_numpy.csv')"
   ]
  },
  {
   "attachments": {},
   "cell_type": "markdown",
   "metadata": {},
   "source": [
    "** PART 2 **"
   ]
  },
  {
   "attachments": {},
   "cell_type": "markdown",
   "metadata": {},
   "source": [
    "First. create the function to convert our sparse matrices to the tensor object."
   ]
  },
  {
   "cell_type": "code",
   "execution_count": 86,
   "metadata": {},
   "outputs": [],
   "source": [
    "def to_sparse_tensor(matrix):\n",
    "    matrix = matrix.asformat(\"coo\")\n",
    "    return (torch.sparse.FloatTensor(\n",
    "                        torch.LongTensor(np.vstack((matrix.row, matrix.col))),\n",
    "                        torch.FloatTensor(matrix.data), \n",
    "                        torch.Size(matrix.shape))\n",
    "                        .to_dense())\n",
    "    "
   ]
  },
  {
   "cell_type": "markdown",
   "metadata": {},
   "source": []
  },
  {
   "cell_type": "code",
   "execution_count": 269,
   "metadata": {},
   "outputs": [],
   "source": [
    "class LogisticRegression(nn.Module):\n",
    "    def __init__(self, input_dim, output_dim, vocab_size = len(train_vocab), optimizer = None):\n",
    "        super(LogisticRegression, self).__init__()\n",
    "        self.linear = nn.Linear(input_dim, output_dim)\n",
    "        if not optimizer:\n",
    "            self.optimizer  = optimizer\n",
    "\n",
    "\n",
    "    def forward(self,data):\n",
    "        return torch.sigmoid(self.linear(data))\n",
    "        \n",
    "\n",
    "\n"
   ]
  },
  {
   "cell_type": "code",
   "execution_count": 339,
   "metadata": {},
   "outputs": [
    {
     "name": "stderr",
     "output_type": "stream",
     "text": [
      "100%|██████████| 3467/3467 [00:02<00:00, 1218.92it/s]\n",
      "100%|██████████| 10/10 [00:11<00:00,  1.12s/it]\n"
     ]
    }
   ],
   "source": [
    "# let's get this thing up and running!\n",
    "model = LogisticRegression(input_dim= T.shape[1],\n",
    "                            output_dim= 1)\n",
    "\n",
    "# define loss function\n",
    "criterion = nn.BCELoss()\n",
    "\n",
    "# define optimizer\n",
    "optimizer = torch.optim.SGD(model.parameters(), lr = 1e-2)\n",
    "\n",
    "T = dok_matrix((len(train), len(train_vocab)), dtype=int)\n",
    "\n",
    "for i in tqdm(range(len(train))):\n",
    "    #get the text for specific row\n",
    "    text_set = set(train.text.loc[i])\n",
    "\n",
    "    for j in range(len(train_vocab)):\n",
    "\n",
    "        word = train_vocab[j]\n",
    "        if word in text_set:\n",
    "\n",
    "            T[i, j] += 1    # Update element\n",
    "\n",
    "\n",
    "T = to_sparse_tensor(T)\n",
    "\n",
    "dev_matrix = dok_matrix((len(dev), len(train_vocab)), dtype = np.int64)\n",
    "for i in range(len(dev)):\n",
    "    text = dev.iloc[i,0]\n",
    "    list_of_words = better_tokenize(text)\n",
    "    for word in list_of_words:\n",
    "        if word in train_vocab:\n",
    "            dev_matrix[i,train_vocab.index(word)] +=1\n",
    "\n",
    "dev_matrix = to_sparse_tensor(dev_matrix)\n",
    "y = torch.Tensor(train.sarcastic)\n",
    "loss_vector = []\n",
    "f1_list = []\n",
    "for i in tqdm(range(10)):\n",
    "    \n",
    "    steps = 0\n",
    "    rng_jesus = np.arange(T.shape[0])\n",
    "    np.random.shuffle(rng_jesus)\n",
    "    for i in range(T.shape[0]):\n",
    "        steps+=1\n",
    "        model.train()\n",
    "\n",
    "        #random row\n",
    "        index = rng_jesus[i]\n",
    "\n",
    "        #data\n",
    "        x_sample = T[index]\n",
    "        y_sample = y[index]\n",
    "\n",
    "        # zero gradients\n",
    "        optimizer.zero_grad()\n",
    "\n",
    "        #Forward pass\n",
    "        y_hat = model(x_sample)\n",
    "\n",
    "\n",
    "\n",
    "        #compute loss..\n",
    "        loss = criterion(y_hat.squeeze(), y_sample)\n",
    "\n",
    "\n",
    "        #Backward step\n",
    "        loss.backward()\n",
    "\n",
    "        if steps % 50 == 0:\n",
    "            model.eval()\n",
    "\n",
    "            with torch.no_grad():\n",
    "                #append the loss vector\n",
    "                #loss_vector.append(loss.item())\n",
    "                y_hat = model(dev_matrix)\n",
    "                loss = criterion(y_hat.squeeze(), torch.Tensor(dev.sarcastic))\n",
    "                loss_vector.append(loss.item())\n",
    "                f1_list.append(f1_score(y_hat.round().squeeze(), torch.Tensor(dev.sarcastic)))\n",
    "\n",
    "\n",
    "\n",
    "\n",
    "        optimizer.step()\n",
    "        # Update loss vector\n",
    "        \n"
   ]
  },
  {
   "cell_type": "code",
   "execution_count": 341,
   "metadata": {},
   "outputs": [
    {
     "data": {
      "text/plain": [
       "<AxesSubplot:>"
      ]
     },
     "execution_count": 341,
     "metadata": {},
     "output_type": "execute_result"
    },
    {
     "data": {
      "image/png": "[encoded data removed]",
      "text/plain": [
       "<Figure size 432x288 with 1 Axes>"
      ]
     },
     "metadata": {
      "needs_background": "light"
     },
     "output_type": "display_data"
    }
   ],
   "source": [
    "sns.lineplot(loss_vector)"
   ]
  },
  {
   "attachments": {},
   "cell_type": "markdown",
   "metadata": {},
   "source": [
    "ike you did for the numpy code, train your model for a total of 1000 steps (i.e., only\n",
    "showing it 1000 randomly sampled documents) and report the loss after each 50 steps. This\n",
    "should verify that the loss is going down"
   ]
  },
  {
   "cell_type": "code",
   "execution_count": 480,
   "metadata": {},
   "outputs": [
    {
     "name": "stderr",
     "output_type": "stream",
     "text": [
      "100%|██████████| 3467/3467 [00:02<00:00, 1272.06it/s]\n"
     ]
    }
   ],
   "source": [
    "model = LogisticRegression(input_dim= T.shape[1],\n",
    "                            output_dim= 1)\n",
    "\n",
    "# define loss function\n",
    "criterion = nn.BCELoss()\n",
    "\n",
    "# define optimizer\n",
    "optimizer = torch.optim.SGD(model.parameters(), lr = 1e-2)\n",
    "\n",
    "T = dok_matrix((len(train), len(train_vocab)), dtype=int)\n",
    "\n",
    "for i in tqdm(range(len(train))):\n",
    "    #get the text for specific row\n",
    "    text_set = set(train.text.loc[i])\n",
    "\n",
    "    for j in range(len(train_vocab)):\n",
    "\n",
    "        word = train_vocab[j]\n",
    "        if word in text_set:\n",
    "\n",
    "            T[i, j] += 1    # Update element\n",
    "\n",
    "\n",
    "T = to_sparse_tensor(T)\n",
    "\n",
    "dev_matrix = dok_matrix((len(dev), len(train_vocab)), dtype = np.int64)\n",
    "for i in range(len(dev)):\n",
    "    text = dev.iloc[i,0]\n",
    "    list_of_words = better_tokenize(text)\n",
    "    for word in list_of_words:\n",
    "        if word in train_vocab:\n",
    "            dev_matrix[i,train_vocab.index(word)] +=1\n",
    "\n",
    "dev_matrix = to_sparse_tensor(dev_matrix)\n",
    "y = torch.Tensor(train.sarcastic)\n",
    "\n",
    "\n",
    "loss_vector = []\n",
    "f1_list = []\n",
    "steps = 0\n",
    "rng_jesus = np.arange(T.shape[0])\n",
    "np.random.shuffle(rng_jesus)\n",
    "for i in range(1000):\n",
    "    steps+=1\n",
    "    model.train()\n",
    "\n",
    "    #random row\n",
    "    index = rng_jesus[i]\n",
    "\n",
    "    #data\n",
    "    x_sample = T[index]\n",
    "    y_sample = y[index]\n",
    "\n",
    "    # zero gradients\n",
    "    optimizer.zero_grad()\n",
    "\n",
    "    #Forward pass\n",
    "    y_hat = model(x_sample)\n",
    "\n",
    "\n",
    "\n",
    "    #compute loss..\n",
    "    loss = criterion(y_hat.squeeze(), y_sample)\n",
    "\n",
    "\n",
    "    #Backward step\n",
    "    loss.backward()\n",
    "\n",
    "    if steps % 50 == 0:\n",
    "        model.eval()\n",
    "\n",
    "        with torch.no_grad():\n",
    "            #append the loss vector\n",
    "            #loss_vector.append(loss.item())\n",
    "            y_hat = model(dev_matrix)\n",
    "            loss = criterion(y_hat.squeeze(), torch.Tensor(dev.sarcastic))\n",
    "            loss_vector.append(loss.item())\n",
    "            f1_list.append(f1_score(y_hat.round().squeeze(), torch.Tensor(dev.sarcastic)))\n",
    "\n",
    "\n",
    "\n",
    "\n",
    "    optimizer.step()\n",
    "    # Update loss vector\n",
    "        \n"
   ]
  },
  {
   "cell_type": "code",
   "execution_count": 481,
   "metadata": {},
   "outputs": [
    {
     "data": {
      "image/png": "[encoded data removed]",
      "text/plain": [
       "<Figure size 432x288 with 1 Axes>"
      ]
     },
     "metadata": {
      "needs_background": "light"
     },
     "output_type": "display_data"
    }
   ],
   "source": [
    "sns.lineplot(loss_vector)\n",
    "plt.title('Loss Vector After 1000 steps')\n",
    "plt.ylabel ('Loss')\n",
    "plt.xlabel('Iterations of 50 Steps')\n",
    "plt.show()"
   ]
  },
  {
   "cell_type": "code",
   "execution_count": 482,
   "metadata": {},
   "outputs": [
    {
     "data": {
      "text/plain": [
       "0.4651295244693756"
      ]
     },
     "execution_count": 482,
     "metadata": {},
     "output_type": "execute_result"
    }
   ],
   "source": [
    "loss_vector[-1]"
   ]
  },
  {
   "attachments": {},
   "cell_type": "markdown",
   "metadata": {},
   "source": [
    "Once you’re satisfied that the model is working, train your model for at least 5 epochs and\n",
    "compute (and save) both (1) the loss every 1000 steps and (2) the F1 score of the model on\n",
    "the development data."
   ]
  },
  {
   "cell_type": "code",
   "execution_count": 511,
   "metadata": {},
   "outputs": [
    {
     "name": "stderr",
     "output_type": "stream",
     "text": [
      "100%|██████████| 3467/3467 [00:02<00:00, 1229.64it/s]\n",
      "100%|██████████| 5/5 [00:01<00:00,  3.06it/s]\n"
     ]
    }
   ],
   "source": [
    "# let's get this thing up and running!\n",
    "model = LogisticRegression(input_dim= T.shape[1],\n",
    "                            output_dim= 1)\n",
    "\n",
    "# define loss function\n",
    "criterion = nn.BCELoss()\n",
    "\n",
    "# define optimizer\n",
    "optimizer = torch.optim.SGD(model.parameters(), lr = 1e-2)\n",
    "\n",
    "T = dok_matrix((len(train), len(train_vocab)), dtype=int)\n",
    "\n",
    "for i in tqdm(range(len(train))):\n",
    "    #get the text for specific row\n",
    "    text_set = set(train.text.loc[i])\n",
    "\n",
    "    for j in range(len(train_vocab)):\n",
    "\n",
    "        word = train_vocab[j]\n",
    "        if word in text_set:\n",
    "\n",
    "            T[i, j] += 1    # Update element\n",
    "\n",
    "\n",
    "T = to_sparse_tensor(T)\n",
    "\n",
    "dev_matrix = dok_matrix((len(dev), len(train_vocab)), dtype = np.int64)\n",
    "for i in range(len(dev)):\n",
    "    text = dev.iloc[i,0]\n",
    "    list_of_words = better_tokenize(text)\n",
    "    for word in list_of_words:\n",
    "        if word in train_vocab:\n",
    "            dev_matrix[i,train_vocab.index(word)] +=1\n",
    "\n",
    "dev_matrix = to_sparse_tensor(dev_matrix)\n",
    "y = torch.Tensor(train.sarcastic)\n",
    "loss_vector = []\n",
    "f1_list = []\n",
    "for i in tqdm(range(5)):\n",
    "\n",
    "    steps = 0\n",
    "    rng_jesus = np.arange(T.shape[0])\n",
    "    np.random.shuffle(rng_jesus)\n",
    "    for i in range(1000):\n",
    "        steps+=1\n",
    "        model.train()\n",
    "\n",
    "        #random row\n",
    "        index = rng_jesus[i]\n",
    "\n",
    "        #data\n",
    "        x_sample = T[index]\n",
    "        y_sample = y[index]\n",
    "\n",
    "        # zero gradients\n",
    "        optimizer.zero_grad()\n",
    "\n",
    "        #Forward pass\n",
    "        y_hat = model(x_sample)\n",
    "\n",
    "\n",
    "\n",
    "        #compute loss..\n",
    "        loss = criterion(y_hat.squeeze(), y_sample)\n",
    "\n",
    "\n",
    "        #Backward step\n",
    "        loss.backward()\n",
    "\n",
    "        if steps % 50 == 0:\n",
    "            model.eval()\n",
    "\n",
    "            with torch.no_grad():\n",
    "                #append the loss vector\n",
    "                #loss_vector.append(loss.item())\n",
    "                y_hat = model(dev_matrix)\n",
    "                loss = criterion(y_hat.squeeze(), torch.Tensor(dev.sarcastic))\n",
    "                loss_vector.append(loss.item())\n",
    "                f1_list.append(f1_score(y_hat.round().squeeze(), torch.Tensor(dev.sarcastic)))\n",
    "\n",
    "\n",
    "\n",
    "\n",
    "        optimizer.step()\n",
    "        # Update loss vector\n",
    "        \n"
   ]
  },
  {
   "cell_type": "code",
   "execution_count": 513,
   "metadata": {},
   "outputs": [
    {
     "data": {
      "image/png": "[encoded data removed]",
      "text/plain": [
       "<Figure size 432x288 with 1 Axes>"
      ]
     },
     "metadata": {
      "needs_background": "light"
     },
     "output_type": "display_data"
    }
   ],
   "source": [
    "sns.lineplot(loss_vector)\n",
    "plt.title('Loss Vector After 1000 steps, 5 epochs')\n",
    "plt.ylabel ('Loss')\n",
    "plt.xlabel('Iterations of 50 Steps')\n",
    "plt.show()"
   ]
  },
  {
   "cell_type": "code",
   "execution_count": 343,
   "metadata": {},
   "outputs": [
    {
     "data": {
      "image/png": "[encoded data removed]",
      "text/plain": [
       "<Figure size 432x288 with 1 Axes>"
      ]
     },
     "metadata": {
      "needs_background": "light"
     },
     "output_type": "display_data"
    }
   ],
   "source": [
    "sns.lineplot(f1_list)\n",
    "plt.title('F1 Score After 1000 steps, 5 epochs')\n",
    "plt.ylabel ('F1 Score')\n",
    "plt.xlabel('Iterations of 50 Steps')\n",
    "plt.show()"
   ]
  },
  {
   "attachments": {},
   "cell_type": "markdown",
   "metadata": {},
   "source": [
    "Let’s see what are the effects of adding regularization. PyTorch builds in regularization\n",
    "through the weight decay argument to most Optimizer classes (including the one you\n",
    "use, SGD. Let’s see what the effect is for setting the L2 penalty to 0 (default), 0.001, and 0.1.\n",
    "For each L2 penalty value, train the model for 1 epoch total and plot the loss and F1 score\n",
    "on the development set every 50 steps using one line for each L2 value (use separate plots\n",
    "for F1 vs. Loss). In a few sentences, describe what you see: What effect does L2 have on\n",
    "the convergence speed and overall model performance?"
   ]
  },
  {
   "cell_type": "code",
   "execution_count": 387,
   "metadata": {},
   "outputs": [],
   "source": [
    "# let's get this thing up and running!\n",
    "model = LogisticRegression(input_dim= T.shape[1],\n",
    "                            output_dim= 1)\n",
    "\n",
    "# define loss function\n",
    "criterion = nn.BCELoss()\n",
    "\n",
    "# define optimizer\n",
    "optimizer = torch.optim.SGD(model.parameters(), lr = 1e-2, weight_decay= 0.001)\n",
    "\n",
    "loss_vector_0001 = []\n",
    "f1_list_0001 = []\n",
    "\n",
    "\n",
    "steps = 0\n",
    "rng_jesus = np.arange(T.shape[0])\n",
    "np.random.shuffle(rng_jesus)\n",
    "for i in range(T.shape[0]):\n",
    "    steps+=1\n",
    "    model.train()\n",
    "\n",
    "    #random row\n",
    "    index = rng_jesus[i]\n",
    "\n",
    "    #data\n",
    "    x_sample = T[index]\n",
    "    y_sample = y[index]\n",
    "\n",
    "    # zero gradients\n",
    "    optimizer.zero_grad()\n",
    "\n",
    "    #Forward pass\n",
    "    y_hat = model(x_sample)\n",
    "\n",
    "\n",
    "\n",
    "    #compute loss..\n",
    "    loss = criterion(y_hat.squeeze(), y_sample)\n",
    "\n",
    "\n",
    "    #Backward step\n",
    "    loss.backward()\n",
    "\n",
    "    if steps % 50 == 0:\n",
    "        model.eval()\n",
    "\n",
    "        with torch.no_grad():\n",
    "            #append the loss vector\n",
    "            #loss_vector.append(loss.item())\n",
    "            y_hat = model(dev_matrix)\n",
    "            loss = criterion(y_hat.squeeze(), torch.Tensor(dev.sarcastic))\n",
    "            loss_vector_0001.append(loss.item())\n",
    "            f1_list_0001.append(f1_score(y_hat.round().squeeze(), torch.Tensor(dev.sarcastic)))\n",
    "\n",
    "\n",
    "\n",
    "\n",
    "    optimizer.step()\n",
    "    # Update loss vector\n",
    "    \n"
   ]
  },
  {
   "cell_type": "code",
   "execution_count": 388,
   "metadata": {},
   "outputs": [],
   "source": [
    "# let's get this thing up and running!\n",
    "model = LogisticRegression(input_dim= T.shape[1],\n",
    "                            output_dim= 1)\n",
    "\n",
    "# define loss function\n",
    "criterion = nn.BCELoss()\n",
    "\n",
    "# define optimizer\n",
    "optimizer = torch.optim.SGD(model.parameters(), lr = 1e-2, weight_decay= 0)\n",
    "\n",
    "loss_vector_0 = []\n",
    "f1_list_0 = []\n",
    "\n",
    "\n",
    "steps = 0\n",
    "rng_jesus = np.arange(T.shape[0])\n",
    "np.random.shuffle(rng_jesus)\n",
    "for i in range(T.shape[0]):\n",
    "    steps+=1\n",
    "    model.train()\n",
    "\n",
    "    #random row\n",
    "    index = rng_jesus[i]\n",
    "\n",
    "    #data\n",
    "    x_sample = T[index]\n",
    "    y_sample = y[index]\n",
    "\n",
    "    # zero gradients\n",
    "    optimizer.zero_grad()\n",
    "\n",
    "    #Forward pass\n",
    "    y_hat = model(x_sample)\n",
    "\n",
    "\n",
    "\n",
    "    #compute loss..\n",
    "    loss = criterion(y_hat.squeeze(), y_sample)\n",
    "\n",
    "\n",
    "    #Backward step\n",
    "    loss.backward()\n",
    "\n",
    "    if steps % 50 == 0:\n",
    "        model.eval()\n",
    "\n",
    "        with torch.no_grad():\n",
    "            #append the loss vector\n",
    "            #loss_vector.append(loss.item())\n",
    "            y_hat = model(dev_matrix)\n",
    "            loss = criterion(y_hat.squeeze(), torch.Tensor(dev.sarcastic))\n",
    "            loss_vector_0.append(loss.item())\n",
    "            f1_list_0.append(f1_score(y_hat.round().squeeze(), torch.Tensor(dev.sarcastic)))\n",
    "\n",
    "\n",
    "\n",
    "\n",
    "    optimizer.step()\n",
    "    # Update loss vector\n",
    "    \n"
   ]
  },
  {
   "cell_type": "code",
   "execution_count": 389,
   "metadata": {},
   "outputs": [],
   "source": [
    "# let's get this thing up and running!\n",
    "model = LogisticRegression(input_dim= T.shape[1],\n",
    "                            output_dim= 1)\n",
    "\n",
    "# define loss function\n",
    "criterion = nn.BCELoss()\n",
    "\n",
    "# define optimizer\n",
    "optimizer = torch.optim.SGD(model.parameters(), lr = 1e-2, weight_decay= 0.1)\n",
    "\n",
    "\n",
    "loss_vector_01 = []\n",
    "f1_list_01 = []\n",
    "\n",
    "\n",
    "steps = 0\n",
    "rng_jesus = np.arange(T.shape[0])\n",
    "np.random.shuffle(rng_jesus)\n",
    "for i in range(T.shape[0]):\n",
    "    steps+=1\n",
    "    model.train()\n",
    "\n",
    "    #random row\n",
    "    index = rng_jesus[i]\n",
    "\n",
    "    #data\n",
    "    x_sample = T[index]\n",
    "    y_sample = y[index]\n",
    "\n",
    "    # zero gradients\n",
    "    optimizer.zero_grad()\n",
    "\n",
    "    #Forward pass\n",
    "    y_hat = model(x_sample)\n",
    "\n",
    "\n",
    "\n",
    "    #compute loss..\n",
    "    loss = criterion(y_hat.squeeze(), y_sample)\n",
    "\n",
    "\n",
    "    #Backward step\n",
    "    loss.backward()\n",
    "\n",
    "    if steps % 50 == 0:\n",
    "        model.eval()\n",
    "\n",
    "        with torch.no_grad():\n",
    "            #append the loss vector\n",
    "            #loss_vector.append(loss.item())\n",
    "            y_hat = model(dev_matrix)\n",
    "            loss = criterion(y_hat.squeeze(), torch.Tensor(dev.sarcastic))\n",
    "            loss_vector_01.append(loss.item())\n",
    "            f1_list_01.append(f1_score(y_hat.round().squeeze(), torch.Tensor(dev.sarcastic)))\n",
    "\n",
    "\n",
    "\n",
    "\n",
    "    optimizer.step()\n",
    "    # Update loss vector\n",
    "    \n"
   ]
  },
  {
   "cell_type": "code",
   "execution_count": 392,
   "metadata": {},
   "outputs": [
    {
     "data": {
      "text/plain": [
       "69"
      ]
     },
     "execution_count": 392,
     "metadata": {},
     "output_type": "execute_result"
    }
   ],
   "source": []
  },
  {
   "cell_type": "code",
   "execution_count": 393,
   "metadata": {},
   "outputs": [
    {
     "data": {
      "text/html": [
       "<div>\n",
       "<style scoped>\n",
       "    .dataframe tbody tr th:only-of-type {\n",
       "        vertical-align: middle;\n",
       "    }\n",
       "\n",
       "    .dataframe tbody tr th {\n",
       "        vertical-align: top;\n",
       "    }\n",
       "\n",
       "    .dataframe thead th {\n",
       "        text-align: right;\n",
       "    }\n",
       "</style>\n",
       "<table border=\"1\" class=\"dataframe\">\n",
       "  <thead>\n",
       "    <tr style=\"text-align: right;\">\n",
       "      <th></th>\n",
       "      <th>Loss</th>\n",
       "      <th>F1</th>\n",
       "      <th>Decay</th>\n",
       "      <th>Iter</th>\n",
       "    </tr>\n",
       "  </thead>\n",
       "  <tbody>\n",
       "    <tr>\n",
       "      <th>0</th>\n",
       "      <td>0.652708</td>\n",
       "      <td>0.0</td>\n",
       "      <td>0</td>\n",
       "      <td>0</td>\n",
       "    </tr>\n",
       "    <tr>\n",
       "      <th>1</th>\n",
       "      <td>0.613423</td>\n",
       "      <td>0.0</td>\n",
       "      <td>0</td>\n",
       "      <td>1</td>\n",
       "    </tr>\n",
       "    <tr>\n",
       "      <th>2</th>\n",
       "      <td>0.575095</td>\n",
       "      <td>0.0</td>\n",
       "      <td>0</td>\n",
       "      <td>2</td>\n",
       "    </tr>\n",
       "    <tr>\n",
       "      <th>3</th>\n",
       "      <td>0.556834</td>\n",
       "      <td>0.0</td>\n",
       "      <td>0</td>\n",
       "      <td>3</td>\n",
       "    </tr>\n",
       "    <tr>\n",
       "      <th>4</th>\n",
       "      <td>0.535353</td>\n",
       "      <td>0.0</td>\n",
       "      <td>0</td>\n",
       "      <td>4</td>\n",
       "    </tr>\n",
       "  </tbody>\n",
       "</table>\n",
       "</div>"
      ],
      "text/plain": [
       "       Loss   F1 Decay  Iter\n",
       "0  0.652708  0.0     0     0\n",
       "1  0.613423  0.0     0     1\n",
       "2  0.575095  0.0     0     2\n",
       "3  0.556834  0.0     0     3\n",
       "4  0.535353  0.0     0     4"
      ]
     },
     "execution_count": 393,
     "metadata": {},
     "output_type": "execute_result"
    }
   ],
   "source": [
    "decay_df = pd.DataFrame()\n",
    "\n",
    "decay_df['Loss'] = (loss_vector_0 + loss_vector_01 + loss_vector_0001)\n",
    "decay_df['F1'] = f1_list_0 + f1_list_01 + f1_list_0001\n",
    "decay_df['Decay'] = [\"0\"] * 69 + [\"0.1\"] * 69 + ['0.001'] * 69\n",
    "decay_df['Iter'] = list(range(69)) * 3\n",
    "decay_df.head()"
   ]
  },
  {
   "cell_type": "code",
   "execution_count": 394,
   "metadata": {},
   "outputs": [
    {
     "data": {
      "image/png": "[encoded data removed]",
      "text/plain": [
       "<Figure size 432x288 with 1 Axes>"
      ]
     },
     "metadata": {
      "needs_background": "light"
     },
     "output_type": "display_data"
    }
   ],
   "source": [
    "(sns.lineplot(data = decay_df, x = \"Iter\", y = \"Loss\" , hue = \"Decay\")\n",
    "        .set_title('Difference in Losses for different decay rates'))\n",
    "plt.show()"
   ]
  },
  {
   "cell_type": "code",
   "execution_count": 395,
   "metadata": {},
   "outputs": [
    {
     "data": {
      "image/png": "[encoded data removed]",
      "text/plain": [
       "<Figure size 432x288 with 1 Axes>"
      ]
     },
     "metadata": {
      "needs_background": "light"
     },
     "output_type": "display_data"
    }
   ],
   "source": [
    "(sns.lineplot(data = decay_df, x = \"Iter\", y = \"F1\" , hue = \"Decay\")\n",
    "        .set_title('Difference in F1 scores for different decay rates'))\n",
    "plt.show()"
   ]
  },
  {
   "attachments": {},
   "cell_type": "markdown",
   "metadata": {},
   "source": [
    "PyTorch has more than just the SGD optimizer. Recall that SGD takes a step with respect\n",
    "to the gradient using the learning rate to scale how big of a step to take. But what if we\n",
    "11\n",
    "used more than just the gradient? For example, could we keep a bit of momentum to keep\n",
    "our gradient heading in the same direction? Many new optimizers have been proposed and\n",
    "PyTorch keeps implementations of the more successful ones. The big benefit of a better\n",
    "optimizer is that it helps the model learn faster. Since some of our big models may take\n",
    "hours to converge, having the optimizer reduce the training time to under an hour can be a\n",
    "huge time and environmental benefit. For this step, replace your SGD optimizer with two\n",
    "other common alternatives RMSprop and AdamW. For each optimizer, train the model for 1\n",
    "epoch total and plot the loss and F1 score on the development set every 50 steps using one\n",
    "line per optimizer (use separate plots for F1 vs. Loss). In a few sentences, describe what\n",
    "you see: What effect does the choice in optimizer have on the convergence speed and overall\n",
    "model performance?"
   ]
  },
  {
   "cell_type": "code",
   "execution_count": 396,
   "metadata": {},
   "outputs": [],
   "source": [
    "# let's get this thing up and running!\n",
    "model = LogisticRegression(input_dim= T.shape[1],\n",
    "                            output_dim= 1)\n",
    "\n",
    "# define loss function\n",
    "criterion = nn.BCELoss()\n",
    "\n",
    "# define optimizer\n",
    "optimizer = torch.optim.AdamW(model.parameters(), lr = 1e-2 )\n",
    "\n",
    "loss_vector_adamw = []\n",
    "f1_list_adamw = []\n",
    "\n",
    "\n",
    "steps = 0\n",
    "rng_jesus = np.arange(T.shape[0])\n",
    "np.random.shuffle(rng_jesus)\n",
    "for i in range(T.shape[0]):\n",
    "    steps+=1\n",
    "    model.train()\n",
    "\n",
    "    #random row\n",
    "    index = rng_jesus[i]\n",
    "\n",
    "    #data\n",
    "    x_sample = T[index]\n",
    "    y_sample = y[index]\n",
    "\n",
    "    # zero gradients\n",
    "    optimizer.zero_grad()\n",
    "\n",
    "    #Forward pass\n",
    "    y_hat = model(x_sample)\n",
    "\n",
    "\n",
    "\n",
    "    #compute loss..\n",
    "    loss = criterion(y_hat.squeeze(), y_sample)\n",
    "\n",
    "\n",
    "    #Backward step\n",
    "    loss.backward()\n",
    "\n",
    "    if steps % 50 == 0:\n",
    "        model.eval()\n",
    "\n",
    "        with torch.no_grad():\n",
    "            #append the loss vector\n",
    "            #loss_vector.append(loss.item())\n",
    "            y_hat = model(dev_matrix)\n",
    "            loss = criterion(y_hat.squeeze(), torch.Tensor(dev.sarcastic))\n",
    "            loss_vector_adamw.append(loss.item())\n",
    "            f1_list_adamw.append(f1_score(y_hat.round().squeeze(), torch.Tensor(dev.sarcastic)))\n",
    "\n",
    "\n",
    "\n",
    "\n",
    "    optimizer.step()\n",
    "    # Update loss vector\n",
    "    \n"
   ]
  },
  {
   "cell_type": "code",
   "execution_count": 397,
   "metadata": {},
   "outputs": [],
   "source": [
    "# let's get this thing up and running!\n",
    "model = LogisticRegression(input_dim= T.shape[1],\n",
    "                            output_dim= 1)\n",
    "\n",
    "# define loss function\n",
    "criterion = nn.BCELoss()\n",
    "\n",
    "# define optimizer\n",
    "optimizer = torch.optim.RMSprop(model.parameters(), lr = 1e-2 )\n",
    "\n",
    "loss_vector_rmsprop = []\n",
    "f1_list_rmsprop = []\n",
    "\n",
    "\n",
    "steps = 0\n",
    "rng_jesus = np.arange(T.shape[0])\n",
    "np.random.shuffle(rng_jesus)\n",
    "for i in range(T.shape[0]):\n",
    "    steps+=1\n",
    "    model.train()\n",
    "\n",
    "    #random row\n",
    "    index = rng_jesus[i]\n",
    "\n",
    "    #data\n",
    "    x_sample = T[index]\n",
    "    y_sample = y[index]\n",
    "\n",
    "    # zero gradients\n",
    "    optimizer.zero_grad()\n",
    "\n",
    "    #Forward pass\n",
    "    y_hat = model(x_sample)\n",
    "\n",
    "\n",
    "\n",
    "    #compute loss..\n",
    "    loss = criterion(y_hat.squeeze(), y_sample)\n",
    "\n",
    "\n",
    "    #Backward step\n",
    "    loss.backward()\n",
    "\n",
    "    if steps % 50 == 0:\n",
    "        model.eval()\n",
    "\n",
    "        with torch.no_grad():\n",
    "            #append the loss vector\n",
    "            #loss_vector.append(loss.item())\n",
    "            y_hat = model(dev_matrix)\n",
    "            loss = criterion(y_hat.squeeze(), torch.Tensor(dev.sarcastic))\n",
    "            loss_vector_rmsprop.append(loss.item())\n",
    "            f1_list_rmsprop.append(f1_score(y_hat.round().squeeze(), torch.Tensor(dev.sarcastic)))\n",
    "\n",
    "\n",
    "\n",
    "\n",
    "    optimizer.step()\n",
    "    # Update loss vector\n",
    "    \n"
   ]
  },
  {
   "cell_type": "code",
   "execution_count": 399,
   "metadata": {},
   "outputs": [
    {
     "data": {
      "text/html": [
       "<div>\n",
       "<style scoped>\n",
       "    .dataframe tbody tr th:only-of-type {\n",
       "        vertical-align: middle;\n",
       "    }\n",
       "\n",
       "    .dataframe tbody tr th {\n",
       "        vertical-align: top;\n",
       "    }\n",
       "\n",
       "    .dataframe thead th {\n",
       "        text-align: right;\n",
       "    }\n",
       "</style>\n",
       "<table border=\"1\" class=\"dataframe\">\n",
       "  <thead>\n",
       "    <tr style=\"text-align: right;\">\n",
       "      <th></th>\n",
       "      <th>Loss</th>\n",
       "      <th>F1</th>\n",
       "      <th>optim</th>\n",
       "      <th>Iter</th>\n",
       "    </tr>\n",
       "  </thead>\n",
       "  <tbody>\n",
       "    <tr>\n",
       "      <th>0</th>\n",
       "      <td>0.590345</td>\n",
       "      <td>0.0</td>\n",
       "      <td>AdamW</td>\n",
       "      <td>0</td>\n",
       "    </tr>\n",
       "    <tr>\n",
       "      <th>1</th>\n",
       "      <td>0.519855</td>\n",
       "      <td>0.0</td>\n",
       "      <td>AdamW</td>\n",
       "      <td>1</td>\n",
       "    </tr>\n",
       "    <tr>\n",
       "      <th>2</th>\n",
       "      <td>0.504871</td>\n",
       "      <td>0.0</td>\n",
       "      <td>AdamW</td>\n",
       "      <td>2</td>\n",
       "    </tr>\n",
       "    <tr>\n",
       "      <th>3</th>\n",
       "      <td>0.481034</td>\n",
       "      <td>0.0</td>\n",
       "      <td>AdamW</td>\n",
       "      <td>3</td>\n",
       "    </tr>\n",
       "    <tr>\n",
       "      <th>4</th>\n",
       "      <td>0.477061</td>\n",
       "      <td>0.0</td>\n",
       "      <td>AdamW</td>\n",
       "      <td>4</td>\n",
       "    </tr>\n",
       "  </tbody>\n",
       "</table>\n",
       "</div>"
      ],
      "text/plain": [
       "       Loss   F1  optim  Iter\n",
       "0  0.590345  0.0  AdamW     0\n",
       "1  0.519855  0.0  AdamW     1\n",
       "2  0.504871  0.0  AdamW     2\n",
       "3  0.481034  0.0  AdamW     3\n",
       "4  0.477061  0.0  AdamW     4"
      ]
     },
     "execution_count": 399,
     "metadata": {},
     "output_type": "execute_result"
    }
   ],
   "source": [
    "optim_df = pd.DataFrame()\n",
    "\n",
    "optim_df['Loss'] = (loss_vector_adamw + loss_vector_rmsprop )\n",
    "optim_df['F1'] = f1_list_adamw + f1_list_rmsprop \n",
    "optim_df['optim'] = [\"AdamW\"] * 69 + [\"RMSProp\"] * 69 \n",
    "optim_df['Iter'] = list(range(69)) * 2\n",
    "optim_df.head()"
   ]
  },
  {
   "cell_type": "code",
   "execution_count": 439,
   "metadata": {},
   "outputs": [
    {
     "data": {
      "image/png": "[encoded data removed]",
      "text/plain": [
       "<Figure size 432x288 with 1 Axes>"
      ]
     },
     "metadata": {
      "needs_background": "light"
     },
     "output_type": "display_data"
    }
   ],
   "source": [
    "(sns.lineplot(data = optim_df, x = \"Iter\", y = \"Loss\" , hue = \"optim\")\n",
    "        .set_title('Difference in Losses for different Optimizers'))\n",
    "plt.show()"
   ]
  },
  {
   "cell_type": "code",
   "execution_count": 438,
   "metadata": {},
   "outputs": [
    {
     "data": {
      "image/png": "[encoded data removed]",
      "text/plain": [
       "<Figure size 432x288 with 1 Axes>"
      ]
     },
     "metadata": {
      "needs_background": "light"
     },
     "output_type": "display_data"
    }
   ],
   "source": [
    "(sns.lineplot(data = optim_df, x = \"Iter\", y = \"F1\" , hue = \"optim\")\n",
    "        .set_title('Difference in F1 scores for different Optimizers'))\n",
    "plt.show()"
   ]
  },
  {
   "attachments": {},
   "cell_type": "markdown",
   "metadata": {},
   "source": [
    "We had two methods for tokenizing. Does one method perform better in practice here? Train\n",
    "your model in the basic setting (using SGD, no L2 loss) for 1 epoch and plot the loss and F1\n",
    "score on the development set every 50 steps using one line per optimizer (use separate plots\n",
    "for F1 vs. Loss). In a few sentences, describe what you see: what effect does tokenization\n",
    "have on the overall model performance?"
   ]
  },
  {
   "cell_type": "code",
   "execution_count": 403,
   "metadata": {},
   "outputs": [],
   "source": [
    "# better tokenize\n",
    "model = LogisticRegression(input_dim= T.shape[1],\n",
    "                            output_dim= 1)\n",
    "\n",
    "# define loss function\n",
    "criterion = nn.BCELoss()\n",
    "\n",
    "# define optimizer\n",
    "optimizer = torch.optim.SGD(model.parameters(), lr = 1e-2 )\n",
    "\n",
    "loss_vector_better_token = []\n",
    "f1_list_better_token = []\n",
    "\n",
    "\n",
    "steps = 0\n",
    "rng_jesus = np.arange(T.shape[0])\n",
    "np.random.shuffle(rng_jesus)\n",
    "for i in range(T.shape[0]):\n",
    "    steps+=1\n",
    "    model.train()\n",
    "\n",
    "    #random row\n",
    "    index = rng_jesus[i]\n",
    "\n",
    "    #data\n",
    "    x_sample = T[index]\n",
    "    y_sample = y[index]\n",
    "\n",
    "    # zero gradients\n",
    "    optimizer.zero_grad()\n",
    "\n",
    "    #Forward pass\n",
    "    y_hat = model(x_sample)\n",
    "\n",
    "\n",
    "\n",
    "    #compute loss..\n",
    "    loss = criterion(y_hat.squeeze(), y_sample)\n",
    "\n",
    "\n",
    "    #Backward step\n",
    "    loss.backward()\n",
    "\n",
    "    if steps % 50 == 0:\n",
    "        model.eval()\n",
    "\n",
    "        with torch.no_grad():\n",
    "            #append the loss vector\n",
    "            #loss_vector.append(loss.item())\n",
    "            y_hat = model(dev_matrix)\n",
    "            loss = criterion(y_hat.squeeze(), torch.Tensor(dev.sarcastic))\n",
    "            loss_vector_better_token.append(loss.item())\n",
    "            f1_list_better_token.append(f1_score(y_hat.round().squeeze(), torch.Tensor(dev.sarcastic)))\n",
    "\n",
    "\n",
    "\n",
    "\n",
    "    optimizer.step()\n",
    "    # Update loss vector\n",
    "    \n"
   ]
  },
  {
   "cell_type": "code",
   "execution_count": 427,
   "metadata": {},
   "outputs": [
    {
     "name": "stderr",
     "output_type": "stream",
     "text": [
      "100%|██████████| 3467/3467 [00:03<00:00, 1020.04it/s]\n"
     ]
    }
   ],
   "source": [
    "\n",
    "\n",
    "new_train = pd.read_csv('si630w23-hw1.train.csv')\n",
    "new_train.text = new_train.text.apply(tokenize)\n",
    "train_vocab_all_single_token = functools.reduce(operator.iconcat, \n",
    "                list(new_train.text), [])\n",
    "\n",
    "\n",
    "c = Counter(train_vocab_all_single_token)\n",
    "to_remove = {x for x, i in c.items() if i < 2}\n",
    "train_vocab_single = list(set(train_vocab_all_single_token) - to_remove)\n",
    "len(train_vocab_single)\n",
    "\n",
    "Q = dok_matrix((len(new_train), len(train_vocab_single)), dtype=int)\n",
    "\n",
    "for i in tqdm(range(len(new_train))):\n",
    "    #get the text for specific row\n",
    "    text_set = set(new_train.text.loc[i])\n",
    "\n",
    "    for j in range(len(train_vocab_single)):\n",
    "\n",
    "        word = train_vocab_single[j]\n",
    "        if word in text_set:\n",
    "\n",
    "            Q[i, j] += 1    # Update element\n",
    "    \n",
    "\n",
    "Q = to_sparse_tensor(Q)\n",
    "\n",
    "# let's get this thing up and running!\n",
    "model = LogisticRegression(input_dim= Q.shape[1],\n",
    "                            output_dim= 1)\n",
    "\n",
    "# define loss function\n",
    "criterion = nn.BCELoss()\n",
    "\n",
    "# define optimizer\n",
    "optimizer = torch.optim.SGD(model.parameters(), lr = 1e-2,\n",
    "\n",
    "\n",
    "dev_matrix_tokenize = dok_matrix((len(dev), len(train_vocab_single)), dtype = np.int64)\n",
    "for i in range(len(dev)):\n",
    "    text = dev.iloc[i,0]\n",
    "    list_of_words = tokenize(text)\n",
    "    for word in list_of_words:\n",
    "        if word in train_vocab_single:\n",
    "            dev_matrix_tokenize[i,train_vocab_single.index(word)] +=1\n",
    "\n",
    "dev_matrix_tokenize = to_sparse_tensor(dev_matrix_tokenize)\n",
    "\n",
    "loss_vector_tokenize = []\n",
    "f1_list_tokenize = []\n",
    "\n",
    "\n",
    "steps = 0\n",
    "rng_jesus = np.arange(Q.shape[0])\n",
    "np.random.shuffle(rng_jesus)\n",
    "for i in range(Q.shape[0]):\n",
    "    steps+=1\n",
    "    model.train()\n",
    "\n",
    "    #random row\n",
    "    index = rng_jesus[i]\n",
    "\n",
    "    #data\n",
    "    x_sample = Q[index]\n",
    "    y_sample = y[index]\n",
    "\n",
    "    # zero gradients\n",
    "    optimizer.zero_grad()\n",
    "\n",
    "    #Forward pass\n",
    "    y_hat = model(x_sample)\n",
    "\n",
    "\n",
    "\n",
    "    #compute loss..\n",
    "    loss = criterion(y_hat.squeeze(), y_sample)\n",
    "\n",
    "\n",
    "    #Backward step\n",
    "    loss.backward()\n",
    "\n",
    "    if steps % 50 == 0:\n",
    "        model.eval()\n",
    "\n",
    "        with torch.no_grad():\n",
    "            #append the loss vector\n",
    "            #loss_vector.append(loss.item())\n",
    "            y_hat = model(dev_matrix_tokenize)\n",
    "            loss = criterion(y_hat.squeeze(), torch.Tensor(dev.sarcastic))\n",
    "            loss_vector_tokenize.append(loss.item())\n",
    "            f1_list_tokenize.append(f1_score(y_hat.round().squeeze(), torch.Tensor(dev.sarcastic)))\n",
    "\n",
    "\n",
    "\n",
    "\n",
    "    optimizer.step()\n",
    "    # Update loss vector"
   ]
  },
  {
   "cell_type": "code",
   "execution_count": 441,
   "metadata": {},
   "outputs": [
    {
     "data": {
      "text/html": [
       "<div>\n",
       "<style scoped>\n",
       "    .dataframe tbody tr th:only-of-type {\n",
       "        vertical-align: middle;\n",
       "    }\n",
       "\n",
       "    .dataframe tbody tr th {\n",
       "        vertical-align: top;\n",
       "    }\n",
       "\n",
       "    .dataframe thead th {\n",
       "        text-align: right;\n",
       "    }\n",
       "</style>\n",
       "<table border=\"1\" class=\"dataframe\">\n",
       "  <thead>\n",
       "    <tr style=\"text-align: right;\">\n",
       "      <th></th>\n",
       "      <th>Loss</th>\n",
       "      <th>F1</th>\n",
       "      <th>Method</th>\n",
       "      <th>Iter</th>\n",
       "    </tr>\n",
       "  </thead>\n",
       "  <tbody>\n",
       "    <tr>\n",
       "      <th>0</th>\n",
       "      <td>0.602702</td>\n",
       "      <td>0.0</td>\n",
       "      <td>Tokenize</td>\n",
       "      <td>0</td>\n",
       "    </tr>\n",
       "    <tr>\n",
       "      <th>1</th>\n",
       "      <td>0.566541</td>\n",
       "      <td>0.0</td>\n",
       "      <td>Tokenize</td>\n",
       "      <td>1</td>\n",
       "    </tr>\n",
       "    <tr>\n",
       "      <th>2</th>\n",
       "      <td>0.554477</td>\n",
       "      <td>0.0</td>\n",
       "      <td>Tokenize</td>\n",
       "      <td>2</td>\n",
       "    </tr>\n",
       "    <tr>\n",
       "      <th>3</th>\n",
       "      <td>0.545514</td>\n",
       "      <td>0.0</td>\n",
       "      <td>Tokenize</td>\n",
       "      <td>3</td>\n",
       "    </tr>\n",
       "    <tr>\n",
       "      <th>4</th>\n",
       "      <td>0.553126</td>\n",
       "      <td>0.0</td>\n",
       "      <td>Tokenize</td>\n",
       "      <td>4</td>\n",
       "    </tr>\n",
       "  </tbody>\n",
       "</table>\n",
       "</div>"
      ],
      "text/plain": [
       "       Loss   F1    Method  Iter\n",
       "0  0.602702  0.0  Tokenize     0\n",
       "1  0.566541  0.0  Tokenize     1\n",
       "2  0.554477  0.0  Tokenize     2\n",
       "3  0.545514  0.0  Tokenize     3\n",
       "4  0.553126  0.0  Tokenize     4"
      ]
     },
     "execution_count": 441,
     "metadata": {},
     "output_type": "execute_result"
    }
   ],
   "source": [
    "tokenize_df = pd.DataFrame()\n",
    "\n",
    "tokenize_df['Loss'] = (loss_vector_tokenize + loss_vector_better_token )\n",
    "tokenize_df['F1'] = f1_list_tokenize + f1_list_better_token \n",
    "tokenize_df['Method'] = [\"Tokenize\"] * 69 + [\"Better Tokenize\"] * 69 \n",
    "tokenize_df['Iter'] = list(range(69)) * 2\n",
    "tokenize_df.head()"
   ]
  },
  {
   "cell_type": "code",
   "execution_count": 442,
   "metadata": {},
   "outputs": [
    {
     "data": {
      "image/png": "[encoded data removed]",
      "text/plain": [
       "<Figure size 432x288 with 1 Axes>"
      ]
     },
     "metadata": {
      "needs_background": "light"
     },
     "output_type": "display_data"
    }
   ],
   "source": [
    "(sns.lineplot(data = tokenize_df, x = \"Iter\", y = \"Loss\", hue= \"Method\" )\n",
    "        .set_title('Difference in Losses for different Tokenizers'))\n",
    "plt.show()"
   ]
  },
  {
   "cell_type": "code",
   "execution_count": 443,
   "metadata": {},
   "outputs": [
    {
     "data": {
      "image/png": "[encoded data removed]",
      "text/plain": [
       "<Figure size 432x288 with 1 Axes>"
      ]
     },
     "metadata": {
      "needs_background": "light"
     },
     "output_type": "display_data"
    }
   ],
   "source": [
    "(sns.lineplot(data = tokenize_df, x = \"Iter\", y = \"F1\", hue= \"Method\" )\n",
    "        .set_title('Difference in F1 score for different Tokenizers'))\n",
    "plt.show()"
   ]
  },
  {
   "attachments": {},
   "cell_type": "markdown",
   "metadata": {},
   "source": [
    "What effect does the learning rate have on our model’s convergence? Using the basic setup\n",
    "with SGD, change the lr argument (i.e., learning rate) to a much larger and much smaller\n",
    "value and for 1 epoch and plot the loss and F1 score on the development set every 50 steps\n",
    "using one line per lr value. Plot all three curves together and describe what you observe:\n",
    "what effect does the learning rate have on the model’s convergence speed? You’re welcome\n",
    "(encouraged, even!) to try additional learning rates. If your model converges quickly, you\n",
    "can also reduce the number of steps between evaluation for this question."
   ]
  },
  {
   "cell_type": "code",
   "execution_count": 445,
   "metadata": {},
   "outputs": [],
   "source": [
    "\n",
    "model = LogisticRegression(input_dim= T.shape[1],\n",
    "                            output_dim= 1)\n",
    "\n",
    "# define loss function\n",
    "criterion = nn.BCELoss()\n",
    "\n",
    "# define optimizer\n",
    "optimizer = torch.optim.SGD(model.parameters(), lr = 1e-1 )\n",
    "\n",
    "loss_vector_1e1 = []\n",
    "f1_list_1e1 = []\n",
    "\n",
    "\n",
    "steps = 0\n",
    "rng_jesus = np.arange(T.shape[0])\n",
    "np.random.shuffle(rng_jesus)\n",
    "for i in range(T.shape[0]):\n",
    "    steps+=1\n",
    "    model.train()\n",
    "\n",
    "    #random row\n",
    "    index = rng_jesus[i]\n",
    "\n",
    "    #data\n",
    "    x_sample = T[index]\n",
    "    y_sample = y[index]\n",
    "\n",
    "    # zero gradients\n",
    "    optimizer.zero_grad()\n",
    "\n",
    "    #Forward pass\n",
    "    y_hat = model(x_sample)\n",
    "\n",
    "\n",
    "\n",
    "    #compute loss..\n",
    "    loss = criterion(y_hat.squeeze(), y_sample)\n",
    "\n",
    "\n",
    "    #Backward step\n",
    "    loss.backward()\n",
    "\n",
    "    if steps % 50 == 0:\n",
    "        model.eval()\n",
    "\n",
    "        with torch.no_grad():\n",
    "            #append the loss vector\n",
    "            #loss_vector.append(loss.item())\n",
    "            y_hat = model(dev_matrix)\n",
    "            loss = criterion(y_hat.squeeze(), torch.Tensor(dev.sarcastic))\n",
    "            loss_vector_1e1.append(loss.item())\n",
    "            f1_list_1e1.append(f1_score(y_hat.round().squeeze(), torch.Tensor(dev.sarcastic)))\n",
    "\n",
    "\n",
    "\n",
    "\n",
    "    optimizer.step()\n",
    "    # Update loss vector\n",
    "    \n"
   ]
  },
  {
   "cell_type": "code",
   "execution_count": 447,
   "metadata": {},
   "outputs": [],
   "source": [
    "# let's get this thing up and running!\n",
    "model = LogisticRegression(input_dim= T.shape[1],\n",
    "                            output_dim= 1)\n",
    "\n",
    "# define loss function\n",
    "criterion = nn.BCELoss()\n",
    "\n",
    "# define optimizer\n",
    "optimizer = torch.optim.SGD(model.parameters(), lr = 1e-3 )\n",
    "\n",
    "loss_vector_1e3 = []\n",
    "f1_list_1e3 = []\n",
    "\n",
    "\n",
    "steps = 0\n",
    "rng_jesus = np.arange(T.shape[0])\n",
    "np.random.shuffle(rng_jesus)\n",
    "for i in range(T.shape[0]):\n",
    "    steps+=1\n",
    "    model.train()\n",
    "\n",
    "    #random row\n",
    "    index = rng_jesus[i]\n",
    "\n",
    "    #data\n",
    "    x_sample = T[index]\n",
    "    y_sample = y[index]\n",
    "\n",
    "    # zero gradients\n",
    "    optimizer.zero_grad()\n",
    "\n",
    "    #Forward pass\n",
    "    y_hat = model(x_sample)\n",
    "\n",
    "\n",
    "\n",
    "    #compute loss..\n",
    "    loss = criterion(y_hat.squeeze(), y_sample)\n",
    "\n",
    "\n",
    "    #Backward step\n",
    "    loss.backward()\n",
    "\n",
    "    if steps % 50 == 0:\n",
    "        model.eval()\n",
    "\n",
    "        with torch.no_grad():\n",
    "            #append the loss vector\n",
    "            #loss_vector.append(loss.item())\n",
    "            y_hat = model(dev_matrix)\n",
    "            loss = criterion(y_hat.squeeze(), torch.Tensor(dev.sarcastic))\n",
    "            loss_vector_1e3.append(loss.item())\n",
    "            f1_list_1e3.append(f1_score(y_hat.round().squeeze(), torch.Tensor(dev.sarcastic)))\n",
    "\n",
    "\n",
    "\n",
    "\n",
    "    optimizer.step()\n",
    "    # Update loss vector\n",
    "    \n"
   ]
  },
  {
   "cell_type": "code",
   "execution_count": 449,
   "metadata": {},
   "outputs": [
    {
     "data": {
      "text/html": [
       "<div>\n",
       "<style scoped>\n",
       "    .dataframe tbody tr th:only-of-type {\n",
       "        vertical-align: middle;\n",
       "    }\n",
       "\n",
       "    .dataframe tbody tr th {\n",
       "        vertical-align: top;\n",
       "    }\n",
       "\n",
       "    .dataframe thead th {\n",
       "        text-align: right;\n",
       "    }\n",
       "</style>\n",
       "<table border=\"1\" class=\"dataframe\">\n",
       "  <thead>\n",
       "    <tr style=\"text-align: right;\">\n",
       "      <th></th>\n",
       "      <th>Loss</th>\n",
       "      <th>F1</th>\n",
       "      <th>Learning Rate</th>\n",
       "      <th>Iter</th>\n",
       "    </tr>\n",
       "  </thead>\n",
       "  <tbody>\n",
       "    <tr>\n",
       "      <th>0</th>\n",
       "      <td>0.652708</td>\n",
       "      <td>0.0</td>\n",
       "      <td>1e-2</td>\n",
       "      <td>0</td>\n",
       "    </tr>\n",
       "    <tr>\n",
       "      <th>1</th>\n",
       "      <td>0.613423</td>\n",
       "      <td>0.0</td>\n",
       "      <td>1e-2</td>\n",
       "      <td>1</td>\n",
       "    </tr>\n",
       "    <tr>\n",
       "      <th>2</th>\n",
       "      <td>0.575095</td>\n",
       "      <td>0.0</td>\n",
       "      <td>1e-2</td>\n",
       "      <td>2</td>\n",
       "    </tr>\n",
       "    <tr>\n",
       "      <th>3</th>\n",
       "      <td>0.556834</td>\n",
       "      <td>0.0</td>\n",
       "      <td>1e-2</td>\n",
       "      <td>3</td>\n",
       "    </tr>\n",
       "    <tr>\n",
       "      <th>4</th>\n",
       "      <td>0.535353</td>\n",
       "      <td>0.0</td>\n",
       "      <td>1e-2</td>\n",
       "      <td>4</td>\n",
       "    </tr>\n",
       "  </tbody>\n",
       "</table>\n",
       "</div>"
      ],
      "text/plain": [
       "       Loss   F1 Learning Rate  Iter\n",
       "0  0.652708  0.0          1e-2     0\n",
       "1  0.613423  0.0          1e-2     1\n",
       "2  0.575095  0.0          1e-2     2\n",
       "3  0.556834  0.0          1e-2     3\n",
       "4  0.535353  0.0          1e-2     4"
      ]
     },
     "execution_count": 449,
     "metadata": {},
     "output_type": "execute_result"
    }
   ],
   "source": [
    "lr_df = pd.DataFrame()\n",
    "\n",
    "lr_df['Loss'] = (loss_vector_0 + loss_vector_1e1 + loss_vector_1e3 )\n",
    "lr_df['F1'] = f1_list_0 + f1_list_1e1 + f1_list_1e3\n",
    "lr_df['Learning Rate'] = [\"1e-2\"] * 69 + [\"1e-1\"] * 69 + [\"1e-3\"]*69\n",
    "lr_df['Iter'] = list(range(69)) * 3\n",
    "lr_df.head()"
   ]
  },
  {
   "cell_type": "code",
   "execution_count": 516,
   "metadata": {},
   "outputs": [
    {
     "data": {
      "image/png": "[encoded data removed]",
      "text/plain": [
       "<Figure size 432x288 with 1 Axes>"
      ]
     },
     "metadata": {
      "needs_background": "light"
     },
     "output_type": "display_data"
    }
   ],
   "source": [
    "(sns.lineplot(data = lr_df, x = \"Iter\", y = \"Loss\", hue= \"Learning Rate\" )\n",
    "        .set_title('Difference in Losses for different Learning Rates'))\n",
    "plt.show()"
   ]
  },
  {
   "cell_type": "code",
   "execution_count": 517,
   "metadata": {},
   "outputs": [
    {
     "data": {
      "image/png": "[encoded data removed]",
      "text/plain": [
       "<Figure size 432x288 with 1 Axes>"
      ]
     },
     "metadata": {
      "needs_background": "light"
     },
     "output_type": "display_data"
    }
   ],
   "source": [
    "(sns.lineplot(data = lr_df, x = \"Iter\", y = \"F1\", hue= \"Learning Rate\" )\n",
    "        .set_title('Difference in F1 scores for different Learning Rates'))\n",
    "plt.show()"
   ]
  },
  {
   "attachments": {},
   "cell_type": "markdown",
   "metadata": {},
   "source": [
    "Finally, use your best model to generate prediction results and report the final F1 score. Don’t\n",
    "forget to upload your prediction results on Kaggle. Note that this is a separate competition\n",
    "so that you can compare your scores with the numpy version"
   ]
  },
  {
   "cell_type": "code",
   "execution_count": null,
   "metadata": {},
   "outputs": [],
   "source": [
    "# my two favorite models were the AdamW lr = 1e-2, SGD lr = 1e-1. Let's compare those f1 scores."
   ]
  },
  {
   "cell_type": "code",
   "execution_count": 453,
   "metadata": {},
   "outputs": [
    {
     "data": {
      "text/html": [
       "<div>\n",
       "<style scoped>\n",
       "    .dataframe tbody tr th:only-of-type {\n",
       "        vertical-align: middle;\n",
       "    }\n",
       "\n",
       "    .dataframe tbody tr th {\n",
       "        vertical-align: top;\n",
       "    }\n",
       "\n",
       "    .dataframe thead th {\n",
       "        text-align: right;\n",
       "    }\n",
       "</style>\n",
       "<table border=\"1\" class=\"dataframe\">\n",
       "  <thead>\n",
       "    <tr style=\"text-align: right;\">\n",
       "      <th></th>\n",
       "      <th>Loss</th>\n",
       "      <th>F1</th>\n",
       "      <th>Params</th>\n",
       "      <th>Iter</th>\n",
       "    </tr>\n",
       "  </thead>\n",
       "  <tbody>\n",
       "    <tr>\n",
       "      <th>0</th>\n",
       "      <td>0.590345</td>\n",
       "      <td>0.0</td>\n",
       "      <td>AdamW, 1e-2</td>\n",
       "      <td>0</td>\n",
       "    </tr>\n",
       "    <tr>\n",
       "      <th>1</th>\n",
       "      <td>0.519855</td>\n",
       "      <td>0.0</td>\n",
       "      <td>AdamW, 1e-2</td>\n",
       "      <td>1</td>\n",
       "    </tr>\n",
       "    <tr>\n",
       "      <th>2</th>\n",
       "      <td>0.504871</td>\n",
       "      <td>0.0</td>\n",
       "      <td>AdamW, 1e-2</td>\n",
       "      <td>2</td>\n",
       "    </tr>\n",
       "    <tr>\n",
       "      <th>3</th>\n",
       "      <td>0.481034</td>\n",
       "      <td>0.0</td>\n",
       "      <td>AdamW, 1e-2</td>\n",
       "      <td>3</td>\n",
       "    </tr>\n",
       "    <tr>\n",
       "      <th>4</th>\n",
       "      <td>0.477061</td>\n",
       "      <td>0.0</td>\n",
       "      <td>AdamW, 1e-2</td>\n",
       "      <td>4</td>\n",
       "    </tr>\n",
       "  </tbody>\n",
       "</table>\n",
       "</div>"
      ],
      "text/plain": [
       "       Loss   F1       Params  Iter\n",
       "0  0.590345  0.0  AdamW, 1e-2     0\n",
       "1  0.519855  0.0  AdamW, 1e-2     1\n",
       "2  0.504871  0.0  AdamW, 1e-2     2\n",
       "3  0.481034  0.0  AdamW, 1e-2     3\n",
       "4  0.477061  0.0  AdamW, 1e-2     4"
      ]
     },
     "execution_count": 453,
     "metadata": {},
     "output_type": "execute_result"
    }
   ],
   "source": [
    "final_comp_df = pd.DataFrame()\n",
    "\n",
    "final_comp_df['Loss'] = (loss_vector_adamw + loss_vector_1e1)\n",
    "final_comp_df['F1'] = f1_list_adamw + f1_list_1e1 \n",
    "final_comp_df['Params'] = [\"AdamW, 1e-2\"] * 69 + [\"SGD, 1e-1\"] * 69 \n",
    "final_comp_df['Iter'] = list(range(69)) * 2\n",
    "final_comp_df.head()"
   ]
  },
  {
   "cell_type": "code",
   "execution_count": 518,
   "metadata": {},
   "outputs": [
    {
     "data": {
      "image/png": "[encoded data removed]",
      "text/plain": [
       "<Figure size 432x288 with 1 Axes>"
      ]
     },
     "metadata": {
      "needs_background": "light"
     },
     "output_type": "display_data"
    }
   ],
   "source": [
    "(sns.lineplot(data = final_comp_df, x = \"Iter\", y = \"F1\", hue= \"Params\" )\n",
    "        .set_title('Difference in F1 Score for Different Parameters'))\n",
    "plt.show()"
   ]
  },
  {
   "attachments": {},
   "cell_type": "markdown",
   "metadata": {},
   "source": [
    "They're pretty close, but I prefer the SGD with the 1e-1 learning rate. That is overall higher than the AdamW one."
   ]
  },
  {
   "attachments": {},
   "cell_type": "markdown",
   "metadata": {},
   "source": [
    "Time to make the predictions! "
   ]
  },
  {
   "cell_type": "code",
   "execution_count": 457,
   "metadata": {},
   "outputs": [
    {
     "data": {
      "text/html": [
       "<div>\n",
       "<style scoped>\n",
       "    .dataframe tbody tr th:only-of-type {\n",
       "        vertical-align: middle;\n",
       "    }\n",
       "\n",
       "    .dataframe tbody tr th {\n",
       "        vertical-align: top;\n",
       "    }\n",
       "\n",
       "    .dataframe thead th {\n",
       "        text-align: right;\n",
       "    }\n",
       "</style>\n",
       "<table border=\"1\" class=\"dataframe\">\n",
       "  <thead>\n",
       "    <tr style=\"text-align: right;\">\n",
       "      <th></th>\n",
       "      <th>text</th>\n",
       "    </tr>\n",
       "  </thead>\n",
       "  <tbody>\n",
       "    <tr>\n",
       "      <th>0</th>\n",
       "      <td>Size on the the Toulouse team, That pack is mo...</td>\n",
       "    </tr>\n",
       "    <tr>\n",
       "      <th>1</th>\n",
       "      <td>Pinball!</td>\n",
       "    </tr>\n",
       "    <tr>\n",
       "      <th>2</th>\n",
       "      <td>So the Scottish Government want people to get ...</td>\n",
       "    </tr>\n",
       "    <tr>\n",
       "      <th>3</th>\n",
       "      <td>villainous pro tip : change the device name on...</td>\n",
       "    </tr>\n",
       "    <tr>\n",
       "      <th>4</th>\n",
       "      <td>I would date any of these men 🥺</td>\n",
       "    </tr>\n",
       "  </tbody>\n",
       "</table>\n",
       "</div>"
      ],
      "text/plain": [
       "                                                text\n",
       "0  Size on the the Toulouse team, That pack is mo...\n",
       "1                                           Pinball!\n",
       "2  So the Scottish Government want people to get ...\n",
       "3  villainous pro tip : change the device name on...\n",
       "4                    I would date any of these men 🥺"
      ]
     },
     "execution_count": 457,
     "metadata": {},
     "output_type": "execute_result"
    }
   ],
   "source": [
    "\n",
    "test = pd.read_csv('si630w23-hw1.test.csv')\n",
    "test.head()"
   ]
  },
  {
   "cell_type": "code",
   "execution_count": 458,
   "metadata": {},
   "outputs": [],
   "source": [
    "test_matrix = dok_matrix((len(test), len(train_vocab)), dtype = np.int64)\n",
    "for i in range(len(test)):\n",
    "    text = test.iloc[i,0]\n",
    "    list_of_words = better_tokenize(text)\n",
    "    for word in list_of_words:\n",
    "        if word in train_vocab:\n",
    "            test_matrix[i,train_vocab.index(word)] +=1\n",
    "\n",
    "test_matrix = to_sparse_tensor(test_matrix)\n",
    "\n",
    "model = LogisticRegression(input_dim= T.shape[1],\n",
    "                            output_dim= 1)\n",
    "\n",
    "# define loss function\n",
    "criterion = nn.BCELoss()\n",
    "\n",
    "# define optimizer\n",
    "optimizer = torch.optim.SGD(model.parameters(), lr = 1e-1 )\n",
    "\n",
    "\n",
    "y_hat = model(test_matrix)\n",
    "\n"
   ]
  },
  {
   "cell_type": "code",
   "execution_count": 462,
   "metadata": {},
   "outputs": [],
   "source": [
    "test_predictions = [1 if word >= 0.5 else 0 for word in y_hat]\n"
   ]
  },
  {
   "cell_type": "code",
   "execution_count": 478,
   "metadata": {},
   "outputs": [],
   "source": [
    "test_preds = pd.DataFrame()\n",
    "test_preds['index'] = list(range(len(test_predictions)))\n",
    "test_preds['prediction'] = test_predictions\n",
    "#test_preds.to_csv('test_predictions.csv')\n",
    "test_preds.set_index('index').to_csv('test_predictions_torch.csv')"
   ]
  },
  {
   "cell_type": "code",
   "execution_count": null,
   "metadata": {},
   "outputs": [],
   "source": []
  }
 ],
 "metadata": {
  "kernelspec": {
   "display_name": "Python 3",
   "language": "python",
   "name": "python3"
  },
  "language_info": {
   "codemirror_mode": {
    "name": "ipython",
    "version": 3
   },
   "file_extension": ".py",
   "mimetype": "text/x-python",
   "name": "python",
   "nbconvert_exporter": "python",
   "pygments_lexer": "ipython3",
   "version": "3.9.0"
  },
  "orig_nbformat": 4,
  "vscode": {
   "interpreter": {
    "hash": "aee8b7b246df8f9039afb4144a1f6fd8d2ca17a180786b69acc140d282b71a49"
   }
  }
 },
 "nbformat": 4,
 "nbformat_minor": 2
}
